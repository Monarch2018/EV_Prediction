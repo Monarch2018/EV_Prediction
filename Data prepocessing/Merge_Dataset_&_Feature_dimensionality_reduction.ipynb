{
  "nbformat": 4,
  "nbformat_minor": 0,
  "metadata": {
    "colab": {
      "name": "Merge Dataset & Feature dimensionality reduction ",
      "version": "0.3.2",
      "provenance": [],
      "collapsed_sections": [],
      "toc_visible": true
    },
    "kernelspec": {
      "name": "python3",
      "display_name": "Python 3"
    },
    "accelerator": "GPU"
  },
  "cells": [
    {
      "metadata": {
        "id": "Ej9I_JPEFTeL",
        "colab_type": "text"
      },
      "cell_type": "markdown",
      "source": [
        "#"
      ]
    },
    {
      "metadata": {
        "id": "wFEtL0b5E3LD",
        "colab_type": "code",
        "outputId": "5777db14-0368-4637-8f90-f22c600b2ef3",
        "colab": {
          "base_uri": "https://localhost:8080/",
          "height": 955
        }
      },
      "cell_type": "code",
      "source": [
        "#install google spread && PyDrive\n",
        "!pip install --upgrade -q gspread PyDrive\n",
        "!pip install pygeocoder\n",
        "!pip install geopandas\n",
        "!pip install descartes"
      ],
      "execution_count": 0,
      "outputs": [
        {
          "output_type": "stream",
          "text": [
            "Collecting pygeocoder\n",
            "  Downloading https://files.pythonhosted.org/packages/3b/79/2cf3a4dfe54705bbf07cbb25940078dfa595608aa4ecb9f0aaaae9faba08/pygeocoder-1.2.5.tar.gz\n",
            "Requirement already satisfied: requests>=1.0 in /usr/local/lib/python3.6/dist-packages (from pygeocoder) (2.18.4)\n",
            "Requirement already satisfied: certifi>=2017.4.17 in /usr/local/lib/python3.6/dist-packages (from requests>=1.0->pygeocoder) (2019.3.9)\n",
            "Requirement already satisfied: chardet<3.1.0,>=3.0.2 in /usr/local/lib/python3.6/dist-packages (from requests>=1.0->pygeocoder) (3.0.4)\n",
            "Requirement already satisfied: idna<2.7,>=2.5 in /usr/local/lib/python3.6/dist-packages (from requests>=1.0->pygeocoder) (2.6)\n",
            "Requirement already satisfied: urllib3<1.23,>=1.21.1 in /usr/local/lib/python3.6/dist-packages (from requests>=1.0->pygeocoder) (1.22)\n",
            "Building wheels for collected packages: pygeocoder\n",
            "  Building wheel for pygeocoder (setup.py) ... \u001b[?25ldone\n",
            "\u001b[?25h  Stored in directory: /root/.cache/pip/wheels/7c/4c/00/d05c66c4af5411c554c91b8079732c8a0359c2226fb8c01031\n",
            "Successfully built pygeocoder\n",
            "Installing collected packages: pygeocoder\n",
            "Successfully installed pygeocoder-1.2.5\n",
            "Collecting geopandas\n",
            "\u001b[?25l  Downloading https://files.pythonhosted.org/packages/f0/5d/916b7268ef551fa9647ce12220e9a68006374f1ce5b0ddaf1cd0df2880b7/geopandas-0.4.1-py2.py3-none-any.whl (922kB)\n",
            "\u001b[K    100% |████████████████████████████████| 931kB 26.8MB/s \n",
            "\u001b[?25hCollecting pyproj (from geopandas)\n",
            "\u001b[?25l  Downloading https://files.pythonhosted.org/packages/ab/c8/090cd8eae755171959fac28d4bd537cc2caf168caadb92d8e505229c486b/pyproj-2.1.3-cp36-cp36m-manylinux1_x86_64.whl (10.8MB)\n",
            "\u001b[K    100% |████████████████████████████████| 10.8MB 4.2MB/s \n",
            "\u001b[?25hCollecting fiona (from geopandas)\n",
            "\u001b[?25l  Downloading https://files.pythonhosted.org/packages/89/4a/193cd6a75e51062c85f4e1cd6f312b3bbda6e26ba7510f152ef5016f0b16/Fiona-1.8.6-cp36-cp36m-manylinux1_x86_64.whl (17.9MB)\n",
            "\u001b[K    100% |████████████████████████████████| 17.9MB 2.7MB/s \n",
            "\u001b[?25hRequirement already satisfied: shapely in /usr/local/lib/python3.6/dist-packages (from geopandas) (1.6.4.post2)\n",
            "Requirement already satisfied: pandas in /usr/local/lib/python3.6/dist-packages (from geopandas) (0.23.4)\n",
            "Requirement already satisfied: attrs>=17 in /usr/local/lib/python3.6/dist-packages (from fiona->geopandas) (19.1.0)\n",
            "Collecting click-plugins>=1.0 (from fiona->geopandas)\n",
            "  Downloading https://files.pythonhosted.org/packages/e9/da/824b92d9942f4e472702488857914bdd50f73021efea15b4cad9aca8ecef/click_plugins-1.1.1-py2.py3-none-any.whl\n",
            "Requirement already satisfied: six>=1.7 in /usr/local/lib/python3.6/dist-packages (from fiona->geopandas) (1.11.0)\n",
            "Collecting munch (from fiona->geopandas)\n",
            "  Downloading https://files.pythonhosted.org/packages/68/f4/260ec98ea840757a0da09e0ed8135333d59b8dfebe9752a365b04857660a/munch-2.3.2.tar.gz\n",
            "Collecting cligj>=0.5 (from fiona->geopandas)\n",
            "  Downloading https://files.pythonhosted.org/packages/e4/be/30a58b4b0733850280d01f8bd132591b4668ed5c7046761098d665ac2174/cligj-0.5.0-py3-none-any.whl\n",
            "Requirement already satisfied: click<8,>=4.0 in /usr/local/lib/python3.6/dist-packages (from fiona->geopandas) (7.0)\n",
            "Requirement already satisfied: pytz>=2011k in /usr/local/lib/python3.6/dist-packages (from pandas->geopandas) (2018.9)\n",
            "Requirement already satisfied: python-dateutil>=2.5.0 in /usr/local/lib/python3.6/dist-packages (from pandas->geopandas) (2.5.3)\n",
            "Requirement already satisfied: numpy>=1.9.0 in /usr/local/lib/python3.6/dist-packages (from pandas->geopandas) (1.16.2)\n",
            "Building wheels for collected packages: munch\n",
            "  Building wheel for munch (setup.py) ... \u001b[?25ldone\n",
            "\u001b[?25h  Stored in directory: /root/.cache/pip/wheels/db/bf/bc/06a3e1bfe0ab27d2e720ceb3cff3159398d92644c0cec2c125\n",
            "Successfully built munch\n",
            "Installing collected packages: pyproj, click-plugins, munch, cligj, fiona, geopandas\n",
            "Successfully installed click-plugins-1.1.1 cligj-0.5.0 fiona-1.8.6 geopandas-0.4.1 munch-2.3.2 pyproj-2.1.3\n",
            "Collecting descartes\n",
            "  Downloading https://files.pythonhosted.org/packages/e5/b6/1ed2eb03989ae574584664985367ba70cd9cf8b32ee8cad0e8aaeac819f3/descartes-1.1.0-py3-none-any.whl\n",
            "Requirement already satisfied: matplotlib in /usr/local/lib/python3.6/dist-packages (from descartes) (3.0.3)\n",
            "Requirement already satisfied: numpy>=1.10.0 in /usr/local/lib/python3.6/dist-packages (from matplotlib->descartes) (1.16.2)\n",
            "Requirement already satisfied: kiwisolver>=1.0.1 in /usr/local/lib/python3.6/dist-packages (from matplotlib->descartes) (1.0.1)\n",
            "Requirement already satisfied: python-dateutil>=2.1 in /usr/local/lib/python3.6/dist-packages (from matplotlib->descartes) (2.5.3)\n",
            "Requirement already satisfied: cycler>=0.10 in /usr/local/lib/python3.6/dist-packages (from matplotlib->descartes) (0.10.0)\n",
            "Requirement already satisfied: pyparsing!=2.0.4,!=2.1.2,!=2.1.6,>=2.0.1 in /usr/local/lib/python3.6/dist-packages (from matplotlib->descartes) (2.4.0)\n",
            "Requirement already satisfied: setuptools in /usr/local/lib/python3.6/dist-packages (from kiwisolver>=1.0.1->matplotlib->descartes) (40.9.0)\n",
            "Requirement already satisfied: six>=1.5 in /usr/local/lib/python3.6/dist-packages (from python-dateutil>=2.1->matplotlib->descartes) (1.11.0)\n",
            "Installing collected packages: descartes\n",
            "Successfully installed descartes-1.1.0\n"
          ],
          "name": "stdout"
        }
      ]
    },
    {
      "metadata": {
        "id": "Sj28JZcDFZki",
        "colab_type": "code",
        "colab": {}
      },
      "cell_type": "code",
      "source": [
        "import math\n",
        "import os\n",
        "import string\n",
        "from datetime import datetime\n",
        "import re\n",
        "import json\n",
        "import csv\n",
        "import pickle\n",
        "import requests\n",
        "import collections\n",
        "from pprint import pformat\n",
        "from sklearn.metrics import f1_score,precision_score,recall_score\n",
        "from sklearn.preprocessing.label import LabelEncoder\n",
        "import tensorflow as tf\n",
        "# from pygeocoder import Geocoder\n",
        "from shapely.geometry import Point\n",
        "import geopandas"
      ],
      "execution_count": 0,
      "outputs": []
    },
    {
      "metadata": {
        "id": "_npjO2-y_YTk",
        "colab_type": "code",
        "colab": {}
      },
      "cell_type": "code",
      "source": [
        "# Imports\n",
        "# Numpy,Pandas\n",
        "import numpy as np\n",
        "import pandas as pd\n",
        "import datetime\n",
        "\n",
        "# matplotlib,seaborn,pyecharts\n",
        "\n",
        "import matplotlib.pyplot as plt\n",
        "import matplotlib.gridspec as gridspec\n",
        "# plt.style.use('ggplot')  #风格设置近似R这种的ggplot库\n",
        "import seaborn as sns\n",
        "sns.set_style('whitegrid')\n",
        "%matplotlib inline\n",
        "import missingno as msno\n",
        "\n",
        "# import sklearn\n",
        "\n",
        "from sklearn.linear_model import LogisticRegression\n",
        "from sklearn.ensemble import RandomForestClassifier\n",
        "from sklearn.model_selection import GridSearchCV\n",
        "from sklearn.model_selection import train_test_split\n",
        "from sklearn.metrics import confusion_matrix\n",
        "from sklearn.metrics import precision_recall_curve\n",
        "from sklearn.metrics import auc\n",
        "from sklearn.metrics import roc_auc_score\n",
        "from sklearn.metrics import roc_curve\n",
        "from sklearn.metrics import recall_score\n",
        "from sklearn.metrics import classification_report\n",
        "from sklearn.metrics import accuracy_score\n",
        "from sklearn.preprocessing import StandardScaler\n",
        "\n",
        "\n",
        "#  忽略弹出的warnings\n",
        "import warnings\n",
        "warnings.filterwarnings('ignore')  \n",
        "\n",
        "pd.set_option('display.float_format', lambda x: '%.4f' % x)\n",
        "\n",
        "from imblearn.over_sampling import SMOTE\n",
        "import itertools"
      ],
      "execution_count": 0,
      "outputs": []
    },
    {
      "metadata": {
        "id": "PKHxtCTkHD2g",
        "colab_type": "code",
        "outputId": "a0065a0e-39d1-4ba1-a2a8-82bd679ce671",
        "colab": {
          "base_uri": "https://localhost:8080/",
          "height": 102
        }
      },
      "cell_type": "code",
      "source": [
        "#Goole Drive libs configuration\n",
        "from oauth2client.client import GoogleCredentials\n",
        "from google.colab import auth\n",
        "from pydrive.auth import GoogleAuth\n",
        "from pydrive.drive import GoogleDrive\n",
        "import gspread\n",
        "#@title Authenticate Google Drive client && create local directory\n",
        "auth.authenticate_user()\n",
        "credential = GoogleCredentials.get_application_default()\n",
        "#iniate Google Spread Sheet\n",
        "gc = gspread.authorize(credential)\n",
        "#iniate Google Drive\n",
        "gauth = GoogleAuth()\n",
        "gauth.credentials = credential\n",
        "drive = GoogleDrive(gauth)\n",
        "\n",
        "# #2. Get the file\n",
        "# downloaded = drive.CreateFile({'id':'1BH-rffqv_1auzO7tdubfaOwXzf278vJK'}) # replace the id with id of file you want to access\n",
        "# downloaded.GetContentFile('xyz.csv') \n",
        "\n",
        "#Import file from Google Drive\n",
        "def importfile(file_id='1W_SHJkvrYSCLXitec33iy7-MKG854ZnF'):\n",
        "    f = drive.CreateFile({'id': file_id})\n",
        "    print('Drive file (title: %s, id: %s)' % (f['title'], f['id']))\n",
        "    fname = os.path.join(os.getcwd(), f['title'])\n",
        "    print('file path: {}'.format(fname))\n",
        "    f_ = drive.CreateFile({'id': f['id']})\n",
        "    f_.GetContentFile(fname)\n",
        "    return fname\n",
        "\n",
        "def exportfile(file_name=\"sample.txt\"):\n",
        "    uploaded = drive.CreateFile({'title':file_name})\n",
        "    uploaded.Upload()\n",
        "    print('file {} uploaded to Google Drive'.format(file_name))\n",
        "    \n",
        "def create_dir(dir_name=\"Sample\"):\n",
        "  dir_path=os.path.join(os.getcwd(),dir_name)\n",
        "  if not os.path.exists(dir_path):\n",
        "    os.makedirs(dir_name)\n",
        "  return dir_path\n",
        "\n",
        "\n",
        "CWD=os.getcwd()\n",
        "print(\"Current root dir: \",CWD)\n",
        "\n",
        "# oracle = importfile(file_id = '1LdDacl36PS9cp_dDENFRB5gny5Hd_Wo9')\n",
        "# novehicle = importfile(file_id = '1YLMTcSqbxD67t125dx5ZmvJayb8IR1rA')"
      ],
      "execution_count": 0,
      "outputs": [
        {
          "output_type": "stream",
          "text": [
            "Current root dir:  /content\n",
            "Drive file (title: metadata.csv, id: 1LdDacl36PS9cp_dDENFRB5gny5Hd_Wo9)\n",
            "file path: /content/metadata.csv\n",
            "Drive file (title: novehicle.csv, id: 1YLMTcSqbxD67t125dx5ZmvJayb8IR1rA)\n",
            "file path: /content/novehicle.csv\n"
          ],
          "name": "stdout"
        }
      ]
    },
    {
      "metadata": {
        "id": "Ej8R1DMqjm_E",
        "colab_type": "code",
        "outputId": "d9b2b3e3-2b66-4cdc-94c6-b3c55ae41262",
        "colab": {
          "base_uri": "https://localhost:8080/",
          "height": 34
        }
      },
      "cell_type": "code",
      "source": [
        "!ls"
      ],
      "execution_count": 0,
      "outputs": [
        {
          "output_type": "stream",
          "text": [
            "adc.json  metadata.csv\tnovehicle.csv  sample_data  timeseries.csv\n"
          ],
          "name": "stdout"
        }
      ]
    },
    {
      "metadata": {
        "id": "88o-jaJaELRd",
        "colab_type": "text"
      },
      "cell_type": "markdown",
      "source": [
        "## Merge vehicle and novehicle datasets"
      ]
    },
    {
      "metadata": {
        "id": "746k2UDmFe4B",
        "colab_type": "code",
        "colab": {}
      },
      "cell_type": "code",
      "source": [
        "novehicle = pd.read_csv(os.path.join(\"/content\",\"novehicle.csv\"), header = 0, keep_default_na = False)\n",
        "vehicle = pd.read_csv(os.path.join(\"/content\",\"metadata.csv\"), header = 0, keep_default_na = False)\n",
        "vehicle['label'] = '1'\n",
        "novehicle['label'] = '0'\n",
        "vehicle = vehicle.dropna(how = 'any', axis = 0)\n",
        "novehicle = novehicle.dropna(how = 'any', axis = 0)"
      ],
      "execution_count": 0,
      "outputs": []
    },
    {
      "metadata": {
        "id": "yV6nZmai44SS",
        "colab_type": "code",
        "outputId": "2702e350-d0ec-45fb-ee60-80ec3634e40e",
        "colab": {
          "base_uri": "https://localhost:8080/",
          "height": 51
        }
      },
      "cell_type": "code",
      "source": [
        "# vehicle.replace('', 'unknown_1', inplace = True)\n",
        "# vehicle.fillna('unknown_1', inplace = True)\n",
        "vehicle.vehicle_type.unique()"
      ],
      "execution_count": 0,
      "outputs": [
        {
          "output_type": "execute_result",
          "data": {
            "text/plain": [
              "array(['Nissan Leaf', 'Chevrolet Volt', 'Mitsubishi i-MiEV', '',\n",
              "       'Tesla Model S'], dtype=object)"
            ]
          },
          "metadata": {
            "tags": []
          },
          "execution_count": 8
        }
      ]
    },
    {
      "metadata": {
        "id": "bl7DlmTnFiR9",
        "colab_type": "code",
        "colab": {}
      },
      "cell_type": "code",
      "source": [
        "index = []\n",
        "for i in range(novehicle.shape[0]):\n",
        "  if novehicle.iloc[i ,0] in [483,  503,  516,  744,  781,  821,  871,  946, 1086, 1103, 1283, 1463, 1632, 1700, 1796, 2004, 2094, 2129, 2158, 2204, 2337, 2557,\n",
        "       2575, 2818, 3009, 3039, 3134, 3221, 3310, 3394, 3413, 3456, 3506,3736,4031, 4193,4297,4313,4473,\n",
        "       3649, 3719]:\n",
        "    index.append(i)\n",
        "\n",
        "novehicle = novehicle.iloc[index,]"
      ],
      "execution_count": 0,
      "outputs": []
    },
    {
      "metadata": {
        "id": "ac7q2OHdQ3fr",
        "colab_type": "code",
        "outputId": "4d2a6611-7482-4c9a-f664-3c2f2de6ae04",
        "colab": {
          "base_uri": "https://localhost:8080/",
          "height": 338
        }
      },
      "cell_type": "code",
      "source": [
        "novehicle.head(5)"
      ],
      "execution_count": 0,
      "outputs": [
        {
          "output_type": "execute_result",
          "data": {
            "text/html": [
              "<div>\n",
              "<style scoped>\n",
              "    .dataframe tbody tr th:only-of-type {\n",
              "        vertical-align: middle;\n",
              "    }\n",
              "\n",
              "    .dataframe tbody tr th {\n",
              "        vertical-align: top;\n",
              "    }\n",
              "\n",
              "    .dataframe thead th {\n",
              "        text-align: right;\n",
              "    }\n",
              "</style>\n",
              "<table border=\"1\" class=\"dataframe\">\n",
              "  <thead>\n",
              "    <tr style=\"text-align: right;\">\n",
              "      <th></th>\n",
              "      <th>dataid</th>\n",
              "      <th>localhour</th>\n",
              "      <th>car1</th>\n",
              "      <th>any_electric_vehicle</th>\n",
              "      <th>status</th>\n",
              "      <th>spend_time_at_home_monday</th>\n",
              "      <th>spend_time_at_home_tuesday</th>\n",
              "      <th>spend_time_at_home_wednesday</th>\n",
              "      <th>spend_time_at_home_thursday</th>\n",
              "      <th>spend_time_at_home_friday</th>\n",
              "      <th>...</th>\n",
              "      <th>electric_vehicle_buy_reason_envir</th>\n",
              "      <th>electric_vehicle_buy_reason_save_money</th>\n",
              "      <th>electric_vehicle_buy_reason_new_tech_interest</th>\n",
              "      <th>electric_vehicle_buy_reason_performance</th>\n",
              "      <th>electric_vehicle_buy_reason_quietness</th>\n",
              "      <th>electric_vehicle_buy_reason_other_recommended</th>\n",
              "      <th>electric_vehicle_buy_again</th>\n",
              "      <th>city</th>\n",
              "      <th>state</th>\n",
              "      <th>label</th>\n",
              "    </tr>\n",
              "  </thead>\n",
              "  <tbody>\n",
              "    <tr>\n",
              "      <th>0</th>\n",
              "      <td>483</td>\n",
              "      <td>2017-01-02 04:00:00-06</td>\n",
              "      <td></td>\n",
              "      <td>No</td>\n",
              "      <td>Complete</td>\n",
              "      <td>Monday</td>\n",
              "      <td>Tuesday</td>\n",
              "      <td>Wednesday</td>\n",
              "      <td>Thursday</td>\n",
              "      <td>Friday</td>\n",
              "      <td>...</td>\n",
              "      <td></td>\n",
              "      <td></td>\n",
              "      <td></td>\n",
              "      <td></td>\n",
              "      <td></td>\n",
              "      <td></td>\n",
              "      <td>No</td>\n",
              "      <td>Austin</td>\n",
              "      <td>Texas</td>\n",
              "      <td>0</td>\n",
              "    </tr>\n",
              "    <tr>\n",
              "      <th>1</th>\n",
              "      <td>483</td>\n",
              "      <td>2017-03-13 20:00:00-05</td>\n",
              "      <td></td>\n",
              "      <td>No</td>\n",
              "      <td>Complete</td>\n",
              "      <td>Monday</td>\n",
              "      <td>Tuesday</td>\n",
              "      <td>Wednesday</td>\n",
              "      <td>Thursday</td>\n",
              "      <td>Friday</td>\n",
              "      <td>...</td>\n",
              "      <td></td>\n",
              "      <td></td>\n",
              "      <td></td>\n",
              "      <td></td>\n",
              "      <td></td>\n",
              "      <td></td>\n",
              "      <td>No</td>\n",
              "      <td>Austin</td>\n",
              "      <td>Texas</td>\n",
              "      <td>0</td>\n",
              "    </tr>\n",
              "    <tr>\n",
              "      <th>2</th>\n",
              "      <td>483</td>\n",
              "      <td>2017-03-16 01:00:00-05</td>\n",
              "      <td></td>\n",
              "      <td>No</td>\n",
              "      <td>Complete</td>\n",
              "      <td>Monday</td>\n",
              "      <td>Tuesday</td>\n",
              "      <td>Wednesday</td>\n",
              "      <td>Thursday</td>\n",
              "      <td>Friday</td>\n",
              "      <td>...</td>\n",
              "      <td></td>\n",
              "      <td></td>\n",
              "      <td></td>\n",
              "      <td></td>\n",
              "      <td></td>\n",
              "      <td></td>\n",
              "      <td>No</td>\n",
              "      <td>Austin</td>\n",
              "      <td>Texas</td>\n",
              "      <td>0</td>\n",
              "    </tr>\n",
              "    <tr>\n",
              "      <th>3</th>\n",
              "      <td>483</td>\n",
              "      <td>2017-04-04 07:00:00-05</td>\n",
              "      <td></td>\n",
              "      <td>No</td>\n",
              "      <td>Complete</td>\n",
              "      <td>Monday</td>\n",
              "      <td>Tuesday</td>\n",
              "      <td>Wednesday</td>\n",
              "      <td>Thursday</td>\n",
              "      <td>Friday</td>\n",
              "      <td>...</td>\n",
              "      <td></td>\n",
              "      <td></td>\n",
              "      <td></td>\n",
              "      <td></td>\n",
              "      <td></td>\n",
              "      <td></td>\n",
              "      <td>No</td>\n",
              "      <td>Austin</td>\n",
              "      <td>Texas</td>\n",
              "      <td>0</td>\n",
              "    </tr>\n",
              "    <tr>\n",
              "      <th>4</th>\n",
              "      <td>483</td>\n",
              "      <td>2017-04-14 23:00:00-05</td>\n",
              "      <td></td>\n",
              "      <td>No</td>\n",
              "      <td>Complete</td>\n",
              "      <td>Monday</td>\n",
              "      <td>Tuesday</td>\n",
              "      <td>Wednesday</td>\n",
              "      <td>Thursday</td>\n",
              "      <td>Friday</td>\n",
              "      <td>...</td>\n",
              "      <td></td>\n",
              "      <td></td>\n",
              "      <td></td>\n",
              "      <td></td>\n",
              "      <td></td>\n",
              "      <td></td>\n",
              "      <td>No</td>\n",
              "      <td>Austin</td>\n",
              "      <td>Texas</td>\n",
              "      <td>0</td>\n",
              "    </tr>\n",
              "  </tbody>\n",
              "</table>\n",
              "<p>5 rows × 36 columns</p>\n",
              "</div>"
            ],
            "text/plain": [
              "   dataid               localhour car1 any_electric_vehicle    status  \\\n",
              "0     483  2017-01-02 04:00:00-06                        No  Complete   \n",
              "1     483  2017-03-13 20:00:00-05                        No  Complete   \n",
              "2     483  2017-03-16 01:00:00-05                        No  Complete   \n",
              "3     483  2017-04-04 07:00:00-05                        No  Complete   \n",
              "4     483  2017-04-14 23:00:00-05                        No  Complete   \n",
              "\n",
              "  spend_time_at_home_monday spend_time_at_home_tuesday  \\\n",
              "0                    Monday                    Tuesday   \n",
              "1                    Monday                    Tuesday   \n",
              "2                    Monday                    Tuesday   \n",
              "3                    Monday                    Tuesday   \n",
              "4                    Monday                    Tuesday   \n",
              "\n",
              "  spend_time_at_home_wednesday spend_time_at_home_thursday  \\\n",
              "0                    Wednesday                    Thursday   \n",
              "1                    Wednesday                    Thursday   \n",
              "2                    Wednesday                    Thursday   \n",
              "3                    Wednesday                    Thursday   \n",
              "4                    Wednesday                    Thursday   \n",
              "\n",
              "  spend_time_at_home_friday  ...  electric_vehicle_buy_reason_envir  \\\n",
              "0                    Friday  ...                                      \n",
              "1                    Friday  ...                                      \n",
              "2                    Friday  ...                                      \n",
              "3                    Friday  ...                                      \n",
              "4                    Friday  ...                                      \n",
              "\n",
              "  electric_vehicle_buy_reason_save_money  \\\n",
              "0                                          \n",
              "1                                          \n",
              "2                                          \n",
              "3                                          \n",
              "4                                          \n",
              "\n",
              "  electric_vehicle_buy_reason_new_tech_interest  \\\n",
              "0                                                 \n",
              "1                                                 \n",
              "2                                                 \n",
              "3                                                 \n",
              "4                                                 \n",
              "\n",
              "  electric_vehicle_buy_reason_performance  \\\n",
              "0                                           \n",
              "1                                           \n",
              "2                                           \n",
              "3                                           \n",
              "4                                           \n",
              "\n",
              "  electric_vehicle_buy_reason_quietness  \\\n",
              "0                                         \n",
              "1                                         \n",
              "2                                         \n",
              "3                                         \n",
              "4                                         \n",
              "\n",
              "  electric_vehicle_buy_reason_other_recommended electric_vehicle_buy_again  \\\n",
              "0                                                                       No   \n",
              "1                                                                       No   \n",
              "2                                                                       No   \n",
              "3                                                                       No   \n",
              "4                                                                       No   \n",
              "\n",
              "     city  state label  \n",
              "0  Austin  Texas     0  \n",
              "1  Austin  Texas     0  \n",
              "2  Austin  Texas     0  \n",
              "3  Austin  Texas     0  \n",
              "4  Austin  Texas     0  \n",
              "\n",
              "[5 rows x 36 columns]"
            ]
          },
          "metadata": {
            "tags": []
          },
          "execution_count": 11
        }
      ]
    },
    {
      "metadata": {
        "id": "OE8Z10ILRATz",
        "colab_type": "code",
        "outputId": "fbb10123-7f5c-4e58-8e73-69bf7b882dce",
        "colab": {
          "base_uri": "https://localhost:8080/",
          "height": 85
        }
      },
      "cell_type": "code",
      "source": [
        "idx = 1\n",
        "new_col = np.nan  \n",
        "for j in ['ownership_status','delivery_date','quick_charge_port','model_year','vehicle_type']:\n",
        "  novehicle.insert(loc=idx, column=j, value=new_col)\n",
        "novehicle.replace('', 'unknown_0', inplace = True)\n",
        "novehicle.fillna('unknown_0', inplace = True)\n",
        "novehicle.groupby('spend_time_at_home_monday').size()"
      ],
      "execution_count": 0,
      "outputs": [
        {
          "output_type": "execute_result",
          "data": {
            "text/plain": [
              "spend_time_at_home_monday\n",
              "Monday       207222\n",
              "unknown_0    123410\n",
              "dtype: int64"
            ]
          },
          "metadata": {
            "tags": []
          },
          "execution_count": 12
        }
      ]
    },
    {
      "metadata": {
        "id": "ybdJUvnA-MS_",
        "colab_type": "code",
        "outputId": "847d7517-4282-4456-f71b-e29d73aea32c",
        "colab": {
          "base_uri": "https://localhost:8080/",
          "height": 34
        }
      },
      "cell_type": "code",
      "source": [
        "novehicle.spend_time_at_home_monday.unique()"
      ],
      "execution_count": 0,
      "outputs": [
        {
          "output_type": "execute_result",
          "data": {
            "text/plain": [
              "array(['Monday', 'unknown_0'], dtype=object)"
            ]
          },
          "metadata": {
            "tags": []
          },
          "execution_count": 13
        }
      ]
    },
    {
      "metadata": {
        "id": "bMXOCLCqVIn4",
        "colab_type": "code",
        "colab": {}
      },
      "cell_type": "code",
      "source": [
        "capstone = vehicle.append(novehicle, ignore_index = True)"
      ],
      "execution_count": 0,
      "outputs": []
    },
    {
      "metadata": {
        "id": "e3bqWtJBOPY8",
        "colab_type": "code",
        "outputId": "8302e618-3386-486f-e211-99a5f9b27b51",
        "colab": {
          "base_uri": "https://localhost:8080/",
          "height": 34
        }
      },
      "cell_type": "code",
      "source": [
        "from google.colab import drive\n",
        "drive.mount('drive')\n",
        "\n",
        "capstone.to_csv('capstone.csv')\n",
        "!cp capstone.csv drive/My\\ Drive/"
      ],
      "execution_count": 0,
      "outputs": [
        {
          "output_type": "stream",
          "text": [
            "Drive already mounted at drive; to attempt to forcibly remount, call drive.mount(\"drive\", force_remount=True).\n"
          ],
          "name": "stdout"
        }
      ]
    },
    {
      "metadata": {
        "id": "oYbDULGEDwSQ",
        "colab_type": "text"
      },
      "cell_type": "markdown",
      "source": [
        "## Capstone dataset"
      ]
    },
    {
      "metadata": {
        "id": "qJJ6iA0qooGM",
        "colab_type": "code",
        "outputId": "77188674-c49e-4ad4-95dc-84c81273f193",
        "colab": {
          "base_uri": "https://localhost:8080/",
          "height": 51
        }
      },
      "cell_type": "code",
      "source": [
        "Capstone = importfile(file_id = '1-1lVd9sPctCOOrpxJ8vpf7qf6zhU3EhN')\n",
        "Capstone = pd.read_csv(os.path.join(\"/content\",\"capstone.csv\"), header = 0, keep_default_na = False)"
      ],
      "execution_count": 0,
      "outputs": [
        {
          "output_type": "stream",
          "text": [
            "Drive file (title: capstone.csv, id: 1-1lVd9sPctCOOrpxJ8vpf7qf6zhU3EhN)\n",
            "file path: /content/capstone.csv\n"
          ],
          "name": "stdout"
        }
      ]
    },
    {
      "metadata": {
        "id": "GbzqaOTxYROe",
        "colab_type": "code",
        "outputId": "f58c5b32-0a08-4450-f581-b7f9f5c20f50",
        "colab": {
          "base_uri": "https://localhost:8080/",
          "height": 85
        }
      },
      "cell_type": "code",
      "source": [
        "Capstone.any_electric_vehicle.value_counts()"
      ],
      "execution_count": 0,
      "outputs": [
        {
          "output_type": "execute_result",
          "data": {
            "text/plain": [
              "No           363162\n",
              "Yes          289043\n",
              "unknown_1     11397\n",
              "Name: any_electric_vehicle, dtype: int64"
            ]
          },
          "metadata": {
            "tags": []
          },
          "execution_count": 15
        }
      ]
    },
    {
      "metadata": {
        "id": "mzcLAr4Mhjvd",
        "colab_type": "text"
      },
      "cell_type": "markdown",
      "source": [
        "## Delete the useless features"
      ]
    },
    {
      "metadata": {
        "id": "Ae8yRmTUhjHh",
        "colab_type": "code",
        "colab": {}
      },
      "cell_type": "code",
      "source": [
        "for feature in ['Unnamed: 0', 'delivery_date', 'status']:\n",
        "  Capstone.drop(feature ,axis = 1, inplace = True)"
      ],
      "execution_count": 0,
      "outputs": []
    },
    {
      "metadata": {
        "id": "KrYHqoLgxC8B",
        "colab_type": "text"
      },
      "cell_type": "markdown",
      "source": [
        "## Feature Engineering"
      ]
    },
    {
      "metadata": {
        "id": "X1lG98uWzQ52",
        "colab_type": "code",
        "outputId": "1bae2385-8f7f-492d-dfac-6f058da7ff9f",
        "colab": {
          "base_uri": "https://localhost:8080/",
          "height": 929
        }
      },
      "cell_type": "code",
      "source": [
        "# see missing values\n",
        "missing_map = Capstone.replace(['unknown_0','unknown_1'],np.nan)\n",
        "msno.matrix(missing_map)"
      ],
      "execution_count": 0,
      "outputs": [
        {
          "output_type": "execute_result",
          "data": {
            "text/plain": [
              "<matplotlib.axes._subplots.AxesSubplot at 0x7f46c63da898>"
            ]
          },
          "metadata": {
            "tags": []
          },
          "execution_count": 17
        },
        {
          "output_type": "display_data",
          "data": {
            "image/png": "[encoded data removed]",
            "text/plain": [
              "<Figure size 1800x720 with 2 Axes>"
            ]
          },
          "metadata": {
            "tags": []
          }
        }
      ]
    },
    {
      "metadata": {
        "id": "CfgfAk94ACMm",
        "colab_type": "code",
        "outputId": "b6be6f2f-8d1a-4f1b-80f4-5924a75d0ed7",
        "colab": {
          "base_uri": "https://localhost:8080/",
          "height": 340
        }
      },
      "cell_type": "code",
      "source": [
        "Capstone.columns"
      ],
      "execution_count": 0,
      "outputs": [
        {
          "output_type": "execute_result",
          "data": {
            "text/plain": [
              "Index(['dataid', 'vehicle_type', 'model_year', 'quick_charge_port',\n",
              "       'ownership_status', 'localhour', 'car1', 'any_electric_vehicle',\n",
              "       'spend_time_at_home_monday', 'spend_time_at_home_tuesday',\n",
              "       'spend_time_at_home_wednesday', 'spend_time_at_home_thursday',\n",
              "       'spend_time_at_home_friday', 'ethnicity_asian_pacific_islander',\n",
              "       'ethnicity_caucasian_other_than_hispanic_or_latino',\n",
              "       'ethnicity_hispanic_or_latino', 'ethnicity_decline',\n",
              "       'residents_under_5', 'residents_6_to_12', 'residents_13_to_18',\n",
              "       'residents_19_to_24', 'residents_25_to_34', 'residents_35_to_49',\n",
              "       'residents_50_to_64', 'residents_65_and_older', 'education_level',\n",
              "       'total_annual_income', 'electric_vehicle_satisfied',\n",
              "       'electric_vehicle_features_liked', 'electric_vehicle_buy_reason_envir',\n",
              "       'electric_vehicle_buy_reason_save_money',\n",
              "       'electric_vehicle_buy_reason_new_tech_interest',\n",
              "       'electric_vehicle_buy_reason_performance',\n",
              "       'electric_vehicle_buy_reason_quietness',\n",
              "       'electric_vehicle_buy_reason_other_recommended',\n",
              "       'electric_vehicle_buy_again', 'city', 'state', 'label'],\n",
              "      dtype='object')"
            ]
          },
          "metadata": {
            "tags": []
          },
          "execution_count": 18
        }
      ]
    },
    {
      "metadata": {
        "id": "974nxxaww8u6",
        "colab_type": "text"
      },
      "cell_type": "markdown",
      "source": [
        "### Vehicle_type & Model_year"
      ]
    },
    {
      "metadata": {
        "id": "G_UmVgiI4qBA",
        "colab_type": "text"
      },
      "cell_type": "markdown",
      "source": [
        ""
      ]
    },
    {
      "metadata": {
        "id": "G7it4blHwzrR",
        "colab_type": "code",
        "outputId": "11b76654-b533-4ff9-c30e-f22acd89f940",
        "colab": {
          "base_uri": "https://localhost:8080/",
          "height": 338
        }
      },
      "cell_type": "code",
      "source": [
        "Capstone.head()"
      ],
      "execution_count": 0,
      "outputs": [
        {
          "output_type": "execute_result",
          "data": {
            "text/html": [
              "<div>\n",
              "<style scoped>\n",
              "    .dataframe tbody tr th:only-of-type {\n",
              "        vertical-align: middle;\n",
              "    }\n",
              "\n",
              "    .dataframe tbody tr th {\n",
              "        vertical-align: top;\n",
              "    }\n",
              "\n",
              "    .dataframe thead th {\n",
              "        text-align: right;\n",
              "    }\n",
              "</style>\n",
              "<table border=\"1\" class=\"dataframe\">\n",
              "  <thead>\n",
              "    <tr style=\"text-align: right;\">\n",
              "      <th></th>\n",
              "      <th>dataid</th>\n",
              "      <th>vehicle_type</th>\n",
              "      <th>model_year</th>\n",
              "      <th>quick_charge_port</th>\n",
              "      <th>ownership_status</th>\n",
              "      <th>localhour</th>\n",
              "      <th>car1</th>\n",
              "      <th>any_electric_vehicle</th>\n",
              "      <th>spend_time_at_home_monday</th>\n",
              "      <th>spend_time_at_home_tuesday</th>\n",
              "      <th>...</th>\n",
              "      <th>electric_vehicle_buy_reason_envir</th>\n",
              "      <th>electric_vehicle_buy_reason_save_money</th>\n",
              "      <th>electric_vehicle_buy_reason_new_tech_interest</th>\n",
              "      <th>electric_vehicle_buy_reason_performance</th>\n",
              "      <th>electric_vehicle_buy_reason_quietness</th>\n",
              "      <th>electric_vehicle_buy_reason_other_recommended</th>\n",
              "      <th>electric_vehicle_buy_again</th>\n",
              "      <th>city</th>\n",
              "      <th>state</th>\n",
              "      <th>label</th>\n",
              "    </tr>\n",
              "  </thead>\n",
              "  <tbody>\n",
              "    <tr>\n",
              "      <th>0</th>\n",
              "      <td>410</td>\n",
              "      <td>Nissan Leaf</td>\n",
              "      <td>2016</td>\n",
              "      <td>False</td>\n",
              "      <td>Leased by Participant</td>\n",
              "      <td>1/29/17 11:00</td>\n",
              "      <td>unknown_1</td>\n",
              "      <td>Yes</td>\n",
              "      <td>unknown_1</td>\n",
              "      <td>unknown_1</td>\n",
              "      <td>...</td>\n",
              "      <td>Environmental benefit</td>\n",
              "      <td>unknown_1</td>\n",
              "      <td>unknown_1</td>\n",
              "      <td>Acceleration and performance of EVâ€™s</td>\n",
              "      <td>Quietness</td>\n",
              "      <td>unknown_1</td>\n",
              "      <td>No</td>\n",
              "      <td>Austin</td>\n",
              "      <td>Texas</td>\n",
              "      <td>1</td>\n",
              "    </tr>\n",
              "    <tr>\n",
              "      <th>1</th>\n",
              "      <td>410</td>\n",
              "      <td>Nissan Leaf</td>\n",
              "      <td>2016</td>\n",
              "      <td>False</td>\n",
              "      <td>Leased by Participant</td>\n",
              "      <td>4/20/17 13:00</td>\n",
              "      <td>unknown_1</td>\n",
              "      <td>Yes</td>\n",
              "      <td>unknown_1</td>\n",
              "      <td>unknown_1</td>\n",
              "      <td>...</td>\n",
              "      <td>Environmental benefit</td>\n",
              "      <td>unknown_1</td>\n",
              "      <td>unknown_1</td>\n",
              "      <td>Acceleration and performance of EVâ€™s</td>\n",
              "      <td>Quietness</td>\n",
              "      <td>unknown_1</td>\n",
              "      <td>No</td>\n",
              "      <td>Austin</td>\n",
              "      <td>Texas</td>\n",
              "      <td>1</td>\n",
              "    </tr>\n",
              "    <tr>\n",
              "      <th>2</th>\n",
              "      <td>410</td>\n",
              "      <td>Nissan Leaf</td>\n",
              "      <td>2016</td>\n",
              "      <td>False</td>\n",
              "      <td>Leased by Participant</td>\n",
              "      <td>5/7/17 12:00</td>\n",
              "      <td>unknown_1</td>\n",
              "      <td>Yes</td>\n",
              "      <td>unknown_1</td>\n",
              "      <td>unknown_1</td>\n",
              "      <td>...</td>\n",
              "      <td>Environmental benefit</td>\n",
              "      <td>unknown_1</td>\n",
              "      <td>unknown_1</td>\n",
              "      <td>Acceleration and performance of EVâ€™s</td>\n",
              "      <td>Quietness</td>\n",
              "      <td>unknown_1</td>\n",
              "      <td>No</td>\n",
              "      <td>Austin</td>\n",
              "      <td>Texas</td>\n",
              "      <td>1</td>\n",
              "    </tr>\n",
              "    <tr>\n",
              "      <th>3</th>\n",
              "      <td>410</td>\n",
              "      <td>Nissan Leaf</td>\n",
              "      <td>2016</td>\n",
              "      <td>False</td>\n",
              "      <td>Leased by Participant</td>\n",
              "      <td>5/7/17 13:00</td>\n",
              "      <td>unknown_1</td>\n",
              "      <td>Yes</td>\n",
              "      <td>unknown_1</td>\n",
              "      <td>unknown_1</td>\n",
              "      <td>...</td>\n",
              "      <td>Environmental benefit</td>\n",
              "      <td>unknown_1</td>\n",
              "      <td>unknown_1</td>\n",
              "      <td>Acceleration and performance of EVâ€™s</td>\n",
              "      <td>Quietness</td>\n",
              "      <td>unknown_1</td>\n",
              "      <td>No</td>\n",
              "      <td>Austin</td>\n",
              "      <td>Texas</td>\n",
              "      <td>1</td>\n",
              "    </tr>\n",
              "    <tr>\n",
              "      <th>4</th>\n",
              "      <td>410</td>\n",
              "      <td>Nissan Leaf</td>\n",
              "      <td>2016</td>\n",
              "      <td>False</td>\n",
              "      <td>Leased by Participant</td>\n",
              "      <td>5/10/17 11:00</td>\n",
              "      <td>unknown_1</td>\n",
              "      <td>Yes</td>\n",
              "      <td>unknown_1</td>\n",
              "      <td>unknown_1</td>\n",
              "      <td>...</td>\n",
              "      <td>Environmental benefit</td>\n",
              "      <td>unknown_1</td>\n",
              "      <td>unknown_1</td>\n",
              "      <td>Acceleration and performance of EVâ€™s</td>\n",
              "      <td>Quietness</td>\n",
              "      <td>unknown_1</td>\n",
              "      <td>No</td>\n",
              "      <td>Austin</td>\n",
              "      <td>Texas</td>\n",
              "      <td>1</td>\n",
              "    </tr>\n",
              "  </tbody>\n",
              "</table>\n",
              "<p>5 rows × 39 columns</p>\n",
              "</div>"
            ],
            "text/plain": [
              "   dataid vehicle_type model_year quick_charge_port       ownership_status  \\\n",
              "0     410  Nissan Leaf       2016             False  Leased by Participant   \n",
              "1     410  Nissan Leaf       2016             False  Leased by Participant   \n",
              "2     410  Nissan Leaf       2016             False  Leased by Participant   \n",
              "3     410  Nissan Leaf       2016             False  Leased by Participant   \n",
              "4     410  Nissan Leaf       2016             False  Leased by Participant   \n",
              "\n",
              "       localhour       car1 any_electric_vehicle spend_time_at_home_monday  \\\n",
              "0  1/29/17 11:00  unknown_1                  Yes                 unknown_1   \n",
              "1  4/20/17 13:00  unknown_1                  Yes                 unknown_1   \n",
              "2   5/7/17 12:00  unknown_1                  Yes                 unknown_1   \n",
              "3   5/7/17 13:00  unknown_1                  Yes                 unknown_1   \n",
              "4  5/10/17 11:00  unknown_1                  Yes                 unknown_1   \n",
              "\n",
              "  spend_time_at_home_tuesday  ...  electric_vehicle_buy_reason_envir  \\\n",
              "0                  unknown_1  ...              Environmental benefit   \n",
              "1                  unknown_1  ...              Environmental benefit   \n",
              "2                  unknown_1  ...              Environmental benefit   \n",
              "3                  unknown_1  ...              Environmental benefit   \n",
              "4                  unknown_1  ...              Environmental benefit   \n",
              "\n",
              "  electric_vehicle_buy_reason_save_money  \\\n",
              "0                              unknown_1   \n",
              "1                              unknown_1   \n",
              "2                              unknown_1   \n",
              "3                              unknown_1   \n",
              "4                              unknown_1   \n",
              "\n",
              "  electric_vehicle_buy_reason_new_tech_interest  \\\n",
              "0                                     unknown_1   \n",
              "1                                     unknown_1   \n",
              "2                                     unknown_1   \n",
              "3                                     unknown_1   \n",
              "4                                     unknown_1   \n",
              "\n",
              "  electric_vehicle_buy_reason_performance  \\\n",
              "0  Acceleration and performance of EVâ€™s   \n",
              "1  Acceleration and performance of EVâ€™s   \n",
              "2  Acceleration and performance of EVâ€™s   \n",
              "3  Acceleration and performance of EVâ€™s   \n",
              "4  Acceleration and performance of EVâ€™s   \n",
              "\n",
              "  electric_vehicle_buy_reason_quietness  \\\n",
              "0                             Quietness   \n",
              "1                             Quietness   \n",
              "2                             Quietness   \n",
              "3                             Quietness   \n",
              "4                             Quietness   \n",
              "\n",
              "  electric_vehicle_buy_reason_other_recommended electric_vehicle_buy_again  \\\n",
              "0                                     unknown_1                         No   \n",
              "1                                     unknown_1                         No   \n",
              "2                                     unknown_1                         No   \n",
              "3                                     unknown_1                         No   \n",
              "4                                     unknown_1                         No   \n",
              "\n",
              "     city  state label  \n",
              "0  Austin  Texas     1  \n",
              "1  Austin  Texas     1  \n",
              "2  Austin  Texas     1  \n",
              "3  Austin  Texas     1  \n",
              "4  Austin  Texas     1  \n",
              "\n",
              "[5 rows x 39 columns]"
            ]
          },
          "metadata": {
            "tags": []
          },
          "execution_count": 20
        }
      ]
    },
    {
      "metadata": {
        "id": "IAOZMob8XoWK",
        "colab_type": "code",
        "outputId": "59b6a055-880a-495d-8cb1-4984ce30fbf8",
        "colab": {
          "base_uri": "https://localhost:8080/",
          "height": 289
        }
      },
      "cell_type": "code",
      "source": [
        "Capstone.groupby('model_year').size()"
      ],
      "execution_count": 0,
      "outputs": [
        {
          "output_type": "execute_result",
          "data": {
            "text/plain": [
              "model_year\n",
              "2011           6471\n",
              "2012          23933\n",
              "2013          12600\n",
              "2014           2706\n",
              "2015           3442\n",
              "2008           8732\n",
              "2011          24602\n",
              "2012          42766\n",
              "2013          29509\n",
              "2014          13615\n",
              "2015           5290\n",
              "2016           8727\n",
              "unknown_0    330632\n",
              "unknown_1    150577\n",
              "dtype: int64"
            ]
          },
          "metadata": {
            "tags": []
          },
          "execution_count": 21
        }
      ]
    },
    {
      "metadata": {
        "id": "EDSKMZV_Az9D",
        "colab_type": "text"
      },
      "cell_type": "markdown",
      "source": [
        "### Quick_charge_port & ownership statues & car2 & any_electric_vehicle"
      ]
    },
    {
      "metadata": {
        "id": "xtor7wHq0DK3",
        "colab_type": "code",
        "outputId": "9add2d1e-37a1-44d6-a4b4-ad81275dc43e",
        "colab": {
          "base_uri": "https://localhost:8080/",
          "height": 34
        }
      },
      "cell_type": "code",
      "source": [
        "Capstone.quick_charge_port = Capstone.quick_charge_port.astype('str')\n",
        "Capstone.quick_charge_port.unique()"
      ],
      "execution_count": 0,
      "outputs": [
        {
          "output_type": "execute_result",
          "data": {
            "text/plain": [
              "array(['False', 'True', 'unknown_0'], dtype=object)"
            ]
          },
          "metadata": {
            "tags": []
          },
          "execution_count": 22
        }
      ]
    },
    {
      "metadata": {
        "id": "A91Pkf1YDjar",
        "colab_type": "code",
        "outputId": "50958e69-b1a8-494a-8f65-e4556c626a7c",
        "colab": {
          "base_uri": "https://localhost:8080/",
          "height": 51
        }
      },
      "cell_type": "code",
      "source": [
        "Capstone.ownership_status.unique()"
      ],
      "execution_count": 0,
      "outputs": [
        {
          "output_type": "execute_result",
          "data": {
            "text/plain": [
              "array(['Leased by Participant', 'Owned by Participant', 'unknown_1',\n",
              "       'unknown_0'], dtype=object)"
            ]
          },
          "metadata": {
            "tags": []
          },
          "execution_count": 23
        }
      ]
    },
    {
      "metadata": {
        "id": "rDem2a-c4y81",
        "colab_type": "code",
        "colab": {}
      },
      "cell_type": "code",
      "source": [
        "Capstone.insert(loc=7, column='car2', value=Capstone.car1)"
      ],
      "execution_count": 0,
      "outputs": []
    },
    {
      "metadata": {
        "id": "g-kpF5ykVRl0",
        "colab_type": "code",
        "outputId": "93996568-bed8-4dfe-99e0-1efccd3692c1",
        "colab": {
          "base_uri": "https://localhost:8080/",
          "height": 338
        }
      },
      "cell_type": "code",
      "source": [
        "Capstone.head(5)"
      ],
      "execution_count": 0,
      "outputs": [
        {
          "output_type": "execute_result",
          "data": {
            "text/html": [
              "<div>\n",
              "<style scoped>\n",
              "    .dataframe tbody tr th:only-of-type {\n",
              "        vertical-align: middle;\n",
              "    }\n",
              "\n",
              "    .dataframe tbody tr th {\n",
              "        vertical-align: top;\n",
              "    }\n",
              "\n",
              "    .dataframe thead th {\n",
              "        text-align: right;\n",
              "    }\n",
              "</style>\n",
              "<table border=\"1\" class=\"dataframe\">\n",
              "  <thead>\n",
              "    <tr style=\"text-align: right;\">\n",
              "      <th></th>\n",
              "      <th>dataid</th>\n",
              "      <th>vehicle_type</th>\n",
              "      <th>model_year</th>\n",
              "      <th>quick_charge_port</th>\n",
              "      <th>ownership_status</th>\n",
              "      <th>localhour</th>\n",
              "      <th>car1</th>\n",
              "      <th>car2</th>\n",
              "      <th>any_electric_vehicle</th>\n",
              "      <th>spend_time_at_home_monday</th>\n",
              "      <th>...</th>\n",
              "      <th>electric_vehicle_buy_reason_envir</th>\n",
              "      <th>electric_vehicle_buy_reason_save_money</th>\n",
              "      <th>electric_vehicle_buy_reason_new_tech_interest</th>\n",
              "      <th>electric_vehicle_buy_reason_performance</th>\n",
              "      <th>electric_vehicle_buy_reason_quietness</th>\n",
              "      <th>electric_vehicle_buy_reason_other_recommended</th>\n",
              "      <th>electric_vehicle_buy_again</th>\n",
              "      <th>city</th>\n",
              "      <th>state</th>\n",
              "      <th>label</th>\n",
              "    </tr>\n",
              "  </thead>\n",
              "  <tbody>\n",
              "    <tr>\n",
              "      <th>0</th>\n",
              "      <td>410</td>\n",
              "      <td>Nissan Leaf</td>\n",
              "      <td>2016</td>\n",
              "      <td>False</td>\n",
              "      <td>Leased by Participant</td>\n",
              "      <td>1/29/17 11:00</td>\n",
              "      <td>unknown_1</td>\n",
              "      <td>unknown_1</td>\n",
              "      <td>Yes</td>\n",
              "      <td>unknown_1</td>\n",
              "      <td>...</td>\n",
              "      <td>Environmental benefit</td>\n",
              "      <td>unknown_1</td>\n",
              "      <td>unknown_1</td>\n",
              "      <td>Acceleration and performance of EVâ€™s</td>\n",
              "      <td>Quietness</td>\n",
              "      <td>unknown_1</td>\n",
              "      <td>No</td>\n",
              "      <td>Austin</td>\n",
              "      <td>Texas</td>\n",
              "      <td>1</td>\n",
              "    </tr>\n",
              "    <tr>\n",
              "      <th>1</th>\n",
              "      <td>410</td>\n",
              "      <td>Nissan Leaf</td>\n",
              "      <td>2016</td>\n",
              "      <td>False</td>\n",
              "      <td>Leased by Participant</td>\n",
              "      <td>4/20/17 13:00</td>\n",
              "      <td>unknown_1</td>\n",
              "      <td>unknown_1</td>\n",
              "      <td>Yes</td>\n",
              "      <td>unknown_1</td>\n",
              "      <td>...</td>\n",
              "      <td>Environmental benefit</td>\n",
              "      <td>unknown_1</td>\n",
              "      <td>unknown_1</td>\n",
              "      <td>Acceleration and performance of EVâ€™s</td>\n",
              "      <td>Quietness</td>\n",
              "      <td>unknown_1</td>\n",
              "      <td>No</td>\n",
              "      <td>Austin</td>\n",
              "      <td>Texas</td>\n",
              "      <td>1</td>\n",
              "    </tr>\n",
              "    <tr>\n",
              "      <th>2</th>\n",
              "      <td>410</td>\n",
              "      <td>Nissan Leaf</td>\n",
              "      <td>2016</td>\n",
              "      <td>False</td>\n",
              "      <td>Leased by Participant</td>\n",
              "      <td>5/7/17 12:00</td>\n",
              "      <td>unknown_1</td>\n",
              "      <td>unknown_1</td>\n",
              "      <td>Yes</td>\n",
              "      <td>unknown_1</td>\n",
              "      <td>...</td>\n",
              "      <td>Environmental benefit</td>\n",
              "      <td>unknown_1</td>\n",
              "      <td>unknown_1</td>\n",
              "      <td>Acceleration and performance of EVâ€™s</td>\n",
              "      <td>Quietness</td>\n",
              "      <td>unknown_1</td>\n",
              "      <td>No</td>\n",
              "      <td>Austin</td>\n",
              "      <td>Texas</td>\n",
              "      <td>1</td>\n",
              "    </tr>\n",
              "    <tr>\n",
              "      <th>3</th>\n",
              "      <td>410</td>\n",
              "      <td>Nissan Leaf</td>\n",
              "      <td>2016</td>\n",
              "      <td>False</td>\n",
              "      <td>Leased by Participant</td>\n",
              "      <td>5/7/17 13:00</td>\n",
              "      <td>unknown_1</td>\n",
              "      <td>unknown_1</td>\n",
              "      <td>Yes</td>\n",
              "      <td>unknown_1</td>\n",
              "      <td>...</td>\n",
              "      <td>Environmental benefit</td>\n",
              "      <td>unknown_1</td>\n",
              "      <td>unknown_1</td>\n",
              "      <td>Acceleration and performance of EVâ€™s</td>\n",
              "      <td>Quietness</td>\n",
              "      <td>unknown_1</td>\n",
              "      <td>No</td>\n",
              "      <td>Austin</td>\n",
              "      <td>Texas</td>\n",
              "      <td>1</td>\n",
              "    </tr>\n",
              "    <tr>\n",
              "      <th>4</th>\n",
              "      <td>410</td>\n",
              "      <td>Nissan Leaf</td>\n",
              "      <td>2016</td>\n",
              "      <td>False</td>\n",
              "      <td>Leased by Participant</td>\n",
              "      <td>5/10/17 11:00</td>\n",
              "      <td>unknown_1</td>\n",
              "      <td>unknown_1</td>\n",
              "      <td>Yes</td>\n",
              "      <td>unknown_1</td>\n",
              "      <td>...</td>\n",
              "      <td>Environmental benefit</td>\n",
              "      <td>unknown_1</td>\n",
              "      <td>unknown_1</td>\n",
              "      <td>Acceleration and performance of EVâ€™s</td>\n",
              "      <td>Quietness</td>\n",
              "      <td>unknown_1</td>\n",
              "      <td>No</td>\n",
              "      <td>Austin</td>\n",
              "      <td>Texas</td>\n",
              "      <td>1</td>\n",
              "    </tr>\n",
              "  </tbody>\n",
              "</table>\n",
              "<p>5 rows × 40 columns</p>\n",
              "</div>"
            ],
            "text/plain": [
              "   dataid vehicle_type model_year quick_charge_port       ownership_status  \\\n",
              "0     410  Nissan Leaf       2016             False  Leased by Participant   \n",
              "1     410  Nissan Leaf       2016             False  Leased by Participant   \n",
              "2     410  Nissan Leaf       2016             False  Leased by Participant   \n",
              "3     410  Nissan Leaf       2016             False  Leased by Participant   \n",
              "4     410  Nissan Leaf       2016             False  Leased by Participant   \n",
              "\n",
              "       localhour       car1       car2 any_electric_vehicle  \\\n",
              "0  1/29/17 11:00  unknown_1  unknown_1                  Yes   \n",
              "1  4/20/17 13:00  unknown_1  unknown_1                  Yes   \n",
              "2   5/7/17 12:00  unknown_1  unknown_1                  Yes   \n",
              "3   5/7/17 13:00  unknown_1  unknown_1                  Yes   \n",
              "4  5/10/17 11:00  unknown_1  unknown_1                  Yes   \n",
              "\n",
              "  spend_time_at_home_monday  ...  electric_vehicle_buy_reason_envir  \\\n",
              "0                 unknown_1  ...              Environmental benefit   \n",
              "1                 unknown_1  ...              Environmental benefit   \n",
              "2                 unknown_1  ...              Environmental benefit   \n",
              "3                 unknown_1  ...              Environmental benefit   \n",
              "4                 unknown_1  ...              Environmental benefit   \n",
              "\n",
              "  electric_vehicle_buy_reason_save_money  \\\n",
              "0                              unknown_1   \n",
              "1                              unknown_1   \n",
              "2                              unknown_1   \n",
              "3                              unknown_1   \n",
              "4                              unknown_1   \n",
              "\n",
              "  electric_vehicle_buy_reason_new_tech_interest  \\\n",
              "0                                     unknown_1   \n",
              "1                                     unknown_1   \n",
              "2                                     unknown_1   \n",
              "3                                     unknown_1   \n",
              "4                                     unknown_1   \n",
              "\n",
              "  electric_vehicle_buy_reason_performance  \\\n",
              "0  Acceleration and performance of EVâ€™s   \n",
              "1  Acceleration and performance of EVâ€™s   \n",
              "2  Acceleration and performance of EVâ€™s   \n",
              "3  Acceleration and performance of EVâ€™s   \n",
              "4  Acceleration and performance of EVâ€™s   \n",
              "\n",
              "  electric_vehicle_buy_reason_quietness  \\\n",
              "0                             Quietness   \n",
              "1                             Quietness   \n",
              "2                             Quietness   \n",
              "3                             Quietness   \n",
              "4                             Quietness   \n",
              "\n",
              "  electric_vehicle_buy_reason_other_recommended electric_vehicle_buy_again  \\\n",
              "0                                     unknown_1                         No   \n",
              "1                                     unknown_1                         No   \n",
              "2                                     unknown_1                         No   \n",
              "3                                     unknown_1                         No   \n",
              "4                                     unknown_1                         No   \n",
              "\n",
              "     city  state label  \n",
              "0  Austin  Texas     1  \n",
              "1  Austin  Texas     1  \n",
              "2  Austin  Texas     1  \n",
              "3  Austin  Texas     1  \n",
              "4  Austin  Texas     1  \n",
              "\n",
              "[5 rows x 40 columns]"
            ]
          },
          "metadata": {
            "tags": []
          },
          "execution_count": 25
        }
      ]
    },
    {
      "metadata": {
        "id": "ibA8chZdUxkl",
        "colab_type": "code",
        "outputId": "b21ddc22-2092-4e39-b99a-b288081af6bb",
        "colab": {
          "base_uri": "https://localhost:8080/",
          "height": 51
        }
      },
      "cell_type": "code",
      "source": [
        "Capstone.car2.unique()"
      ],
      "execution_count": 0,
      "outputs": [
        {
          "output_type": "execute_result",
          "data": {
            "text/plain": [
              "array(['unknown_1', '0', '0.001433333', ..., '1.631133333', '0.005903226',\n",
              "       'unknown_0'], dtype=object)"
            ]
          },
          "metadata": {
            "tags": []
          },
          "execution_count": 26
        }
      ]
    },
    {
      "metadata": {
        "id": "iAEGGYlGHLtR",
        "colab_type": "code",
        "outputId": "0e11958d-0a05-48e1-bc62-a8f0f9297e70",
        "colab": {
          "base_uri": "https://localhost:8080/",
          "height": 34
        }
      },
      "cell_type": "code",
      "source": [
        "Capstone.car2 = Capstone.car2.replace(['unknown_0', 'unknown_1'], '0.0')\n",
        "Capstone.car2 = Capstone.car2.astype(float)\n",
        "Capstone['car2'][Capstone['car2']>0] = 1\n",
        "Capstone.car2 = Capstone.car2.astype(int)\n",
        "Capstone.car2.unique()"
      ],
      "execution_count": 0,
      "outputs": [
        {
          "output_type": "execute_result",
          "data": {
            "text/plain": [
              "array([0, 1])"
            ]
          },
          "metadata": {
            "tags": []
          },
          "execution_count": 27
        }
      ]
    },
    {
      "metadata": {
        "id": "wLJ73m0QVgXD",
        "colab_type": "code",
        "outputId": "65b971da-6a44-4554-f0ed-ea6cd3f20c85",
        "colab": {
          "base_uri": "https://localhost:8080/",
          "height": 85
        }
      },
      "cell_type": "code",
      "source": [
        "Capstone.any_electric_vehicle.value_counts()"
      ],
      "execution_count": 0,
      "outputs": [
        {
          "output_type": "execute_result",
          "data": {
            "text/plain": [
              "No           363162\n",
              "Yes          289043\n",
              "unknown_1     11397\n",
              "Name: any_electric_vehicle, dtype: int64"
            ]
          },
          "metadata": {
            "tags": []
          },
          "execution_count": 28
        }
      ]
    },
    {
      "metadata": {
        "id": "14SZa-2qZkBE",
        "colab_type": "text"
      },
      "cell_type": "markdown",
      "source": [
        "### Spend_time_at_home"
      ]
    },
    {
      "metadata": {
        "id": "v1BuoNxlF1ye",
        "colab_type": "code",
        "outputId": "af086a29-8558-4ed3-ebcd-365e0a0a2c78",
        "colab": {
          "base_uri": "https://localhost:8080/",
          "height": 289
        }
      },
      "cell_type": "code",
      "source": [
        "[Capstone[i].value_counts() for i in Capstone.iloc[:,9:14]]"
      ],
      "execution_count": 0,
      "outputs": [
        {
          "output_type": "execute_result",
          "data": {
            "text/plain": [
              "[Monday       492000\n",
              " unknown_0    123410\n",
              " unknown_1     48192\n",
              " Name: spend_time_at_home_monday, dtype: int64, Tuesday      498922\n",
              " unknown_0     99024\n",
              " unknown_1     65656\n",
              " Name: spend_time_at_home_tuesday, dtype: int64, Wednesday    518196\n",
              " unknown_0    105946\n",
              " unknown_1     39460\n",
              " Name: spend_time_at_home_wednesday, dtype: int64, Thursday     495876\n",
              " unknown_0     99024\n",
              " unknown_1     68702\n",
              " Name: spend_time_at_home_thursday, dtype: int64, Friday       500731\n",
              " unknown_0     97835\n",
              " unknown_1     65036\n",
              " Name: spend_time_at_home_friday, dtype: int64]"
            ]
          },
          "metadata": {
            "tags": []
          },
          "execution_count": 29
        }
      ]
    },
    {
      "metadata": {
        "id": "6HFojaKDd91p",
        "colab_type": "text"
      },
      "cell_type": "markdown",
      "source": [
        "### Ethnicity"
      ]
    },
    {
      "metadata": {
        "id": "9BukDQ-vJwqV",
        "colab_type": "code",
        "outputId": "e98360a2-0e41-4767-fa59-5c648eb5caf5",
        "colab": {
          "base_uri": "https://localhost:8080/",
          "height": 238
        }
      },
      "cell_type": "code",
      "source": [
        "[Capstone[i].value_counts() for i in Capstone.iloc[:,14:18]]"
      ],
      "execution_count": 0,
      "outputs": [
        {
          "output_type": "execute_result",
          "data": {
            "text/plain": [
              "[unknown_1                 316653\n",
              " unknown_0                 313168\n",
              " Asian/Pacific Islander     33781\n",
              " Name: ethnicity_asian_pacific_islander, dtype: int64, Caucasian    584239\n",
              " unknown_0     56188\n",
              " unknown_1     23175\n",
              " Name: ethnicity_caucasian_other_than_hispanic_or_latino, dtype: int64, unknown_1    324238\n",
              " unknown_0    288756\n",
              " Hispanic      50608\n",
              " Name: ethnicity_hispanic_or_latino, dtype: int64, unknown_1             327259\n",
              " unknown_0             316948\n",
              " Decline to Respond     19395\n",
              " Name: ethnicity_decline, dtype: int64]"
            ]
          },
          "metadata": {
            "tags": []
          },
          "execution_count": 30
        }
      ]
    },
    {
      "metadata": {
        "id": "fJ4TyW0leFoe",
        "colab_type": "text"
      },
      "cell_type": "markdown",
      "source": [
        "### Age"
      ]
    },
    {
      "metadata": {
        "id": "zsbMGTQILIOo",
        "colab_type": "code",
        "outputId": "69e9e370-aabf-4073-c417-eacfe18135f0",
        "colab": {
          "base_uri": "https://localhost:8080/",
          "height": 731
        }
      },
      "cell_type": "code",
      "source": [
        "for i in Capstone.iloc[:,18:26]:\n",
        "  Capstone[i] = Capstone[i].astype(str)\n",
        "[Capstone[i].value_counts() for i in Capstone.iloc[:,18:26]]"
      ],
      "execution_count": 0,
      "outputs": [
        {
          "output_type": "execute_result",
          "data": {
            "text/plain": [
              "[0            204342\n",
              " unknown_1    179899\n",
              " unknown_0    175241\n",
              " 1             58098\n",
              " 2             46022\n",
              " Name: residents_under_5, dtype: int64, 0            201674\n",
              " unknown_1    182882\n",
              " unknown_0    144580\n",
              " 2             65783\n",
              " 1             47410\n",
              " 3             21273\n",
              " Name: residents_6_to_12, dtype: int64, 0            231055\n",
              " unknown_1    223521\n",
              " unknown_0    160888\n",
              " 1             39406\n",
              " 2              8732\n",
              " Name: residents_13_to_18, dtype: int64, 0            222326\n",
              " unknown_1    217835\n",
              " unknown_0    184601\n",
              " 1             30108\n",
              " 2              8732\n",
              " Name: residents_19_to_24, dtype: int64, unknown_1    215967\n",
              " 0            215467\n",
              " unknown_0    161581\n",
              " 1             62483\n",
              " 2              8104\n",
              " Name: residents_25_to_34, dtype: int64, 2            165910\n",
              " unknown_1    154881\n",
              " 1            148788\n",
              " 0            110410\n",
              " unknown_0     83613\n",
              " Name: residents_35_to_49, dtype: int64, 0            207361\n",
              " unknown_0    134541\n",
              " unknown_1    118737\n",
              " 2            108687\n",
              " 1             94276\n",
              " Name: residents_50_to_64, dtype: int64, 0            158601\n",
              " unknown_1    147228\n",
              " unknown_0    144276\n",
              " 2            130428\n",
              " 1             83069\n",
              " Name: residents_65_and_older, dtype: int64]"
            ]
          },
          "metadata": {
            "tags": []
          },
          "execution_count": 31
        }
      ]
    },
    {
      "metadata": {
        "id": "lKOX04GheToe",
        "colab_type": "text"
      },
      "cell_type": "markdown",
      "source": [
        "### Education_level & total_income"
      ]
    },
    {
      "metadata": {
        "id": "N-9ihrKBeZoE",
        "colab_type": "code",
        "outputId": "1b9cd2ad-c5be-49ca-d322-f2884619931e",
        "colab": {
          "base_uri": "https://localhost:8080/",
          "height": 187
        }
      },
      "cell_type": "code",
      "source": [
        "[Capstone[i].value_counts() for i in Capstone.iloc[:,26:28]]"
      ],
      "execution_count": 0,
      "outputs": [
        {
          "output_type": "execute_result",
          "data": {
            "text/plain": [
              "[Postgraduate degree                     485552\n",
              " College graduate                        169320\n",
              " Some college/trade/vocational school      8730\n",
              " Name: education_level, dtype: int64, $100,000 - $149,999      246006\n",
              " $150,000 - $299,000      179796\n",
              " $75,000 - $99,999         94282\n",
              " $50,000 - $74,999         91761\n",
              " $300,000 - $1,000,000     43025\n",
              " $20,000 - $34,999          8732\n",
              " Name: total_annual_income, dtype: int64]"
            ]
          },
          "metadata": {
            "tags": []
          },
          "execution_count": 32
        }
      ]
    },
    {
      "metadata": {
        "id": "MGgEXGUkQST-",
        "colab_type": "text"
      },
      "cell_type": "markdown",
      "source": [
        "### electric_vehicle_question"
      ]
    },
    {
      "metadata": {
        "id": "CJQtAtc-eXJ-",
        "colab_type": "code",
        "outputId": "f34c946e-6f5d-4f74-86d6-570116b3abdd",
        "colab": {
          "base_uri": "https://localhost:8080/",
          "height": 714
        }
      },
      "cell_type": "code",
      "source": [
        "Capstone.electric_vehicle_buy_reason_performance = Capstone.electric_vehicle_buy_reason_performance.replace('Acceleration and performance of EVâ€™s', \n",
        "                                                                                                            'Acceleration and performance')\n",
        "[Capstone[i].value_counts() for i in Capstone.iloc[:,28:37]]"
      ],
      "execution_count": 0,
      "outputs": [
        {
          "output_type": "execute_result",
          "data": {
            "text/plain": [
              "[unknown_0             330632\n",
              " Very satisfied        263990\n",
              " unknown_1              43927\n",
              " Neutral                16321\n",
              " Somewhat satisfied      8732\n",
              " Name: electric_vehicle_satisfied, dtype: int64,\n",
              " unknown_0                              330632\n",
              " Environmental and societal benefits    119955\n",
              " Power, speed, performance              119425\n",
              " unknown_1                               43927\n",
              " Not buying gasoline                     42482\n",
              " Quiet                                    7181\n",
              " Name: electric_vehicle_features_liked, dtype: int64,\n",
              " unknown_0                330632\n",
              " Environmental benefit    264407\n",
              " unknown_1                 68563\n",
              " Name: electric_vehicle_buy_reason_envir, dtype: int64,\n",
              " unknown_0                   330632\n",
              " Saving money on gasoline    229076\n",
              " unknown_1                   103894\n",
              " Name: electric_vehicle_buy_reason_save_money, dtype: int64,\n",
              " unknown_0                       330632\n",
              " Interest in new technologies    220340\n",
              " unknown_1                       112630\n",
              " Name: electric_vehicle_buy_reason_new_tech_interest, dtype: int64,\n",
              " unknown_0                       330632\n",
              " unknown_1                       172202\n",
              " Acceleration and performance    160768\n",
              " Name: electric_vehicle_buy_reason_performance, dtype: int64,\n",
              " unknown_0    330632\n",
              " Quietness    169500\n",
              " unknown_1    163470\n",
              " Name: electric_vehicle_buy_reason_quietness, dtype: int64,\n",
              " unknown_0                               330632\n",
              " unknown_1                               290980\n",
              " Recommendations from other EV owners     41990\n",
              " Name: electric_vehicle_buy_reason_other_recommended, dtype: int64,\n",
              " No           469088\n",
              " Yes          183117\n",
              " unknown_1     11397\n",
              " Name: electric_vehicle_buy_again, dtype: int64]"
            ]
          },
          "metadata": {
            "tags": []
          },
          "execution_count": 33
        }
      ]
    },
    {
      "metadata": {
        "id": "EaRT9HRDjmM4",
        "colab_type": "text"
      },
      "cell_type": "markdown",
      "source": [
        "### City & State & Label"
      ]
    },
    {
      "metadata": {
        "id": "jBVP4K1NGUq4",
        "colab_type": "code",
        "outputId": "75cf93dc-036e-4ae7-f82a-fd2a7dd56182",
        "colab": {
          "base_uri": "https://localhost:8080/",
          "height": 238
        }
      },
      "cell_type": "code",
      "source": [
        "[Capstone[i].value_counts() for i in Capstone.iloc[:,37:40]]"
      ],
      "execution_count": 0,
      "outputs": [
        {
          "output_type": "execute_result",
          "data": {
            "text/plain": [
              "[Austin        572379\n",
              " Plano          26196\n",
              " Boulder        15654\n",
              " Houston        14445\n",
              " Round Rock      8732\n",
              " Dallas          8732\n",
              " Coppell         8732\n",
              " Humble          8732\n",
              " Name: city, dtype: int64, Texas       647948\n",
              " Colorado     15654\n",
              " Name: state, dtype: int64, 1    332970\n",
              " 0    330632\n",
              " Name: label, dtype: int64]"
            ]
          },
          "metadata": {
            "tags": []
          },
          "execution_count": 34
        }
      ]
    },
    {
      "metadata": {
        "id": "ukSMTTF7jrN2",
        "colab_type": "text"
      },
      "cell_type": "markdown",
      "source": [
        "## One-Hot encoding with all features"
      ]
    },
    {
      "metadata": {
        "id": "QTdDYyz3k4kV",
        "colab_type": "text"
      },
      "cell_type": "markdown",
      "source": [
        "### Step 1:"
      ]
    },
    {
      "metadata": {
        "id": "bkVDSNclj0ew",
        "colab_type": "code",
        "colab": {}
      },
      "cell_type": "code",
      "source": [
        "for i in ['vehicle_type', 'model_year', 'quick_charge_port']:\n",
        "  Capstone = pd.concat([Capstone,pd.get_dummies(Capstone[i], prefix=i)],axis=1)\n",
        "  Capstone.drop([i],axis=1, inplace=True)\n"
      ],
      "execution_count": 0,
      "outputs": []
    },
    {
      "metadata": {
        "id": "R859zSZjnBBU",
        "colab_type": "code",
        "outputId": "2ce107a2-97db-4476-b0bd-989cc0040e95",
        "colab": {
          "base_uri": "https://localhost:8080/",
          "height": 338
        }
      },
      "cell_type": "code",
      "source": [
        "Capstone.head()"
      ],
      "execution_count": 0,
      "outputs": [
        {
          "output_type": "execute_result",
          "data": {
            "text/html": [
              "<div>\n",
              "<style scoped>\n",
              "    .dataframe tbody tr th:only-of-type {\n",
              "        vertical-align: middle;\n",
              "    }\n",
              "\n",
              "    .dataframe tbody tr th {\n",
              "        vertical-align: top;\n",
              "    }\n",
              "\n",
              "    .dataframe thead th {\n",
              "        text-align: right;\n",
              "    }\n",
              "</style>\n",
              "<table border=\"1\" class=\"dataframe\">\n",
              "  <thead>\n",
              "    <tr style=\"text-align: right;\">\n",
              "      <th></th>\n",
              "      <th>dataid</th>\n",
              "      <th>ownership_status</th>\n",
              "      <th>localhour</th>\n",
              "      <th>car1</th>\n",
              "      <th>car2</th>\n",
              "      <th>any_electric_vehicle</th>\n",
              "      <th>spend_time_at_home_monday</th>\n",
              "      <th>spend_time_at_home_tuesday</th>\n",
              "      <th>spend_time_at_home_wednesday</th>\n",
              "      <th>spend_time_at_home_thursday</th>\n",
              "      <th>...</th>\n",
              "      <th>model_year_2012</th>\n",
              "      <th>model_year_2013</th>\n",
              "      <th>model_year_2014</th>\n",
              "      <th>model_year_2015</th>\n",
              "      <th>model_year_2016</th>\n",
              "      <th>model_year_unknown_0</th>\n",
              "      <th>model_year_unknown_1</th>\n",
              "      <th>quick_charge_port_False</th>\n",
              "      <th>quick_charge_port_True</th>\n",
              "      <th>quick_charge_port_unknown_0</th>\n",
              "    </tr>\n",
              "  </thead>\n",
              "  <tbody>\n",
              "    <tr>\n",
              "      <th>0</th>\n",
              "      <td>410</td>\n",
              "      <td>Leased by Participant</td>\n",
              "      <td>1/29/17 11:00</td>\n",
              "      <td>unknown_1</td>\n",
              "      <td>0</td>\n",
              "      <td>Yes</td>\n",
              "      <td>unknown_1</td>\n",
              "      <td>unknown_1</td>\n",
              "      <td>unknown_1</td>\n",
              "      <td>unknown_1</td>\n",
              "      <td>...</td>\n",
              "      <td>0</td>\n",
              "      <td>0</td>\n",
              "      <td>0</td>\n",
              "      <td>0</td>\n",
              "      <td>1</td>\n",
              "      <td>0</td>\n",
              "      <td>0</td>\n",
              "      <td>1</td>\n",
              "      <td>0</td>\n",
              "      <td>0</td>\n",
              "    </tr>\n",
              "    <tr>\n",
              "      <th>1</th>\n",
              "      <td>410</td>\n",
              "      <td>Leased by Participant</td>\n",
              "      <td>4/20/17 13:00</td>\n",
              "      <td>unknown_1</td>\n",
              "      <td>0</td>\n",
              "      <td>Yes</td>\n",
              "      <td>unknown_1</td>\n",
              "      <td>unknown_1</td>\n",
              "      <td>unknown_1</td>\n",
              "      <td>unknown_1</td>\n",
              "      <td>...</td>\n",
              "      <td>0</td>\n",
              "      <td>0</td>\n",
              "      <td>0</td>\n",
              "      <td>0</td>\n",
              "      <td>1</td>\n",
              "      <td>0</td>\n",
              "      <td>0</td>\n",
              "      <td>1</td>\n",
              "      <td>0</td>\n",
              "      <td>0</td>\n",
              "    </tr>\n",
              "    <tr>\n",
              "      <th>2</th>\n",
              "      <td>410</td>\n",
              "      <td>Leased by Participant</td>\n",
              "      <td>5/7/17 12:00</td>\n",
              "      <td>unknown_1</td>\n",
              "      <td>0</td>\n",
              "      <td>Yes</td>\n",
              "      <td>unknown_1</td>\n",
              "      <td>unknown_1</td>\n",
              "      <td>unknown_1</td>\n",
              "      <td>unknown_1</td>\n",
              "      <td>...</td>\n",
              "      <td>0</td>\n",
              "      <td>0</td>\n",
              "      <td>0</td>\n",
              "      <td>0</td>\n",
              "      <td>1</td>\n",
              "      <td>0</td>\n",
              "      <td>0</td>\n",
              "      <td>1</td>\n",
              "      <td>0</td>\n",
              "      <td>0</td>\n",
              "    </tr>\n",
              "    <tr>\n",
              "      <th>3</th>\n",
              "      <td>410</td>\n",
              "      <td>Leased by Participant</td>\n",
              "      <td>5/7/17 13:00</td>\n",
              "      <td>unknown_1</td>\n",
              "      <td>0</td>\n",
              "      <td>Yes</td>\n",
              "      <td>unknown_1</td>\n",
              "      <td>unknown_1</td>\n",
              "      <td>unknown_1</td>\n",
              "      <td>unknown_1</td>\n",
              "      <td>...</td>\n",
              "      <td>0</td>\n",
              "      <td>0</td>\n",
              "      <td>0</td>\n",
              "      <td>0</td>\n",
              "      <td>1</td>\n",
              "      <td>0</td>\n",
              "      <td>0</td>\n",
              "      <td>1</td>\n",
              "      <td>0</td>\n",
              "      <td>0</td>\n",
              "    </tr>\n",
              "    <tr>\n",
              "      <th>4</th>\n",
              "      <td>410</td>\n",
              "      <td>Leased by Participant</td>\n",
              "      <td>5/10/17 11:00</td>\n",
              "      <td>unknown_1</td>\n",
              "      <td>0</td>\n",
              "      <td>Yes</td>\n",
              "      <td>unknown_1</td>\n",
              "      <td>unknown_1</td>\n",
              "      <td>unknown_1</td>\n",
              "      <td>unknown_1</td>\n",
              "      <td>...</td>\n",
              "      <td>0</td>\n",
              "      <td>0</td>\n",
              "      <td>0</td>\n",
              "      <td>0</td>\n",
              "      <td>1</td>\n",
              "      <td>0</td>\n",
              "      <td>0</td>\n",
              "      <td>1</td>\n",
              "      <td>0</td>\n",
              "      <td>0</td>\n",
              "    </tr>\n",
              "  </tbody>\n",
              "</table>\n",
              "<p>5 rows × 60 columns</p>\n",
              "</div>"
            ],
            "text/plain": [
              "   dataid       ownership_status      localhour       car1  car2  \\\n",
              "0     410  Leased by Participant  1/29/17 11:00  unknown_1     0   \n",
              "1     410  Leased by Participant  4/20/17 13:00  unknown_1     0   \n",
              "2     410  Leased by Participant   5/7/17 12:00  unknown_1     0   \n",
              "3     410  Leased by Participant   5/7/17 13:00  unknown_1     0   \n",
              "4     410  Leased by Participant  5/10/17 11:00  unknown_1     0   \n",
              "\n",
              "  any_electric_vehicle spend_time_at_home_monday spend_time_at_home_tuesday  \\\n",
              "0                  Yes                 unknown_1                  unknown_1   \n",
              "1                  Yes                 unknown_1                  unknown_1   \n",
              "2                  Yes                 unknown_1                  unknown_1   \n",
              "3                  Yes                 unknown_1                  unknown_1   \n",
              "4                  Yes                 unknown_1                  unknown_1   \n",
              "\n",
              "  spend_time_at_home_wednesday spend_time_at_home_thursday  \\\n",
              "0                    unknown_1                   unknown_1   \n",
              "1                    unknown_1                   unknown_1   \n",
              "2                    unknown_1                   unknown_1   \n",
              "3                    unknown_1                   unknown_1   \n",
              "4                    unknown_1                   unknown_1   \n",
              "\n",
              "              ...             model_year_2012 model_year_2013 model_year_2014  \\\n",
              "0             ...                           0               0               0   \n",
              "1             ...                           0               0               0   \n",
              "2             ...                           0               0               0   \n",
              "3             ...                           0               0               0   \n",
              "4             ...                           0               0               0   \n",
              "\n",
              "  model_year_2015 model_year_2016 model_year_unknown_0 model_year_unknown_1  \\\n",
              "0               0               1                    0                    0   \n",
              "1               0               1                    0                    0   \n",
              "2               0               1                    0                    0   \n",
              "3               0               1                    0                    0   \n",
              "4               0               1                    0                    0   \n",
              "\n",
              "  quick_charge_port_False quick_charge_port_True quick_charge_port_unknown_0  \n",
              "0                       1                      0                           0  \n",
              "1                       1                      0                           0  \n",
              "2                       1                      0                           0  \n",
              "3                       1                      0                           0  \n",
              "4                       1                      0                           0  \n",
              "\n",
              "[5 rows x 60 columns]"
            ]
          },
          "metadata": {
            "tags": []
          },
          "execution_count": 36
        }
      ]
    },
    {
      "metadata": {
        "id": "60EatB00mWPB",
        "colab_type": "text"
      },
      "cell_type": "markdown",
      "source": [
        "### Step 2:"
      ]
    },
    {
      "metadata": {
        "id": "es9NIdBqmVry",
        "colab_type": "code",
        "colab": {}
      },
      "cell_type": "code",
      "source": [
        "for i in ['ownership_status', 'car2', 'any_electric_vehicle', 'ethnicity_asian_pacific_islander']:\n",
        "  Capstone = pd.concat([Capstone,pd.get_dummies(Capstone[i], prefix=i)],axis=1)\n",
        "  Capstone.drop([i],axis=1, inplace=True)"
      ],
      "execution_count": 0,
      "outputs": []
    },
    {
      "metadata": {
        "id": "wO7Mw0Phn6Se",
        "colab_type": "code",
        "colab": {}
      },
      "cell_type": "code",
      "source": [
        "for i in ['spend_time_at_home_monday', 'spend_time_at_home_tuesday',\n",
        "       'spend_time_at_home_wednesday', 'spend_time_at_home_thursday',\n",
        "       'spend_time_at_home_friday']:\n",
        "  Capstone = pd.concat([Capstone,pd.get_dummies(Capstone[i], prefix=i)],axis=1)\n",
        "  Capstone.drop([i],axis=1, inplace=True)"
      ],
      "execution_count": 0,
      "outputs": []
    },
    {
      "metadata": {
        "id": "9TmaxmyeoBgU",
        "colab_type": "code",
        "colab": {}
      },
      "cell_type": "code",
      "source": [
        "for i in ['ethnicity_caucasian_other_than_hispanic_or_latino',\n",
        "       'ethnicity_hispanic_or_latino', 'ethnicity_decline']:\n",
        "  Capstone = pd.concat([Capstone,pd.get_dummies(Capstone[i], prefix=i)],axis=1)\n",
        "  Capstone.drop([i],axis=1, inplace=True)"
      ],
      "execution_count": 0,
      "outputs": []
    },
    {
      "metadata": {
        "id": "SC3augbhlXsk",
        "colab_type": "text"
      },
      "cell_type": "markdown",
      "source": [
        "### Step 2:"
      ]
    },
    {
      "metadata": {
        "id": "L42tXzDNlcFA",
        "colab_type": "code",
        "colab": {}
      },
      "cell_type": "code",
      "source": [
        "for i in ['residents_under_5', 'residents_6_to_12', 'residents_13_to_18',\n",
        "       'residents_19_to_24', 'residents_25_to_34', 'residents_35_to_49',\n",
        "       'residents_50_to_64', 'residents_65_and_older', 'education_level',\n",
        "       'total_annual_income', 'electric_vehicle_satisfied',\n",
        "       'electric_vehicle_features_liked', 'electric_vehicle_buy_reason_envir',\n",
        "       'electric_vehicle_buy_reason_save_money']:\n",
        "  Capstone = pd.concat([Capstone,pd.get_dummies(Capstone[i], prefix=i)],axis=1)\n",
        "  Capstone.drop([i],axis=1, inplace=True)"
      ],
      "execution_count": 0,
      "outputs": []
    },
    {
      "metadata": {
        "id": "yM4aVLrVlenO",
        "colab_type": "text"
      },
      "cell_type": "markdown",
      "source": [
        "### Step 3:"
      ]
    },
    {
      "metadata": {
        "id": "qGmCHfY3NIrF",
        "colab_type": "code",
        "colab": {}
      },
      "cell_type": "code",
      "source": [
        "for i in ['electric_vehicle_buy_reason_new_tech_interest',\n",
        "       'electric_vehicle_buy_reason_performance',\n",
        "       'electric_vehicle_buy_reason_quietness',\n",
        "       'electric_vehicle_buy_reason_other_recommended',\n",
        "       'electric_vehicle_buy_again', 'city']:\n",
        "  Capstone = pd.concat([Capstone,pd.get_dummies(Capstone[i], prefix=i)],axis=1)\n",
        "  Capstone.drop([i],axis=1, inplace=True)"
      ],
      "execution_count": 0,
      "outputs": []
    },
    {
      "metadata": {
        "id": "Uac4mTa2qQdP",
        "colab_type": "code",
        "outputId": "647aa0e7-01ba-46dd-c54f-932cd8cbdff3",
        "colab": {
          "base_uri": "https://localhost:8080/",
          "height": 355
        }
      },
      "cell_type": "code",
      "source": [
        "Capstone.head(5)"
      ],
      "execution_count": 0,
      "outputs": [
        {
          "output_type": "execute_result",
          "data": {
            "text/html": [
              "<div>\n",
              "<style scoped>\n",
              "    .dataframe tbody tr th:only-of-type {\n",
              "        vertical-align: middle;\n",
              "    }\n",
              "\n",
              "    .dataframe tbody tr th {\n",
              "        vertical-align: top;\n",
              "    }\n",
              "\n",
              "    .dataframe thead th {\n",
              "        text-align: right;\n",
              "    }\n",
              "</style>\n",
              "<table border=\"1\" class=\"dataframe\">\n",
              "  <thead>\n",
              "    <tr style=\"text-align: right;\">\n",
              "      <th></th>\n",
              "      <th>dataid</th>\n",
              "      <th>localhour</th>\n",
              "      <th>car1</th>\n",
              "      <th>state</th>\n",
              "      <th>label</th>\n",
              "      <th>vehicle_type_Chevrolet Volt</th>\n",
              "      <th>vehicle_type_Mitsubishi i-MiEV</th>\n",
              "      <th>vehicle_type_Nissan Leaf</th>\n",
              "      <th>vehicle_type_Tesla Model S</th>\n",
              "      <th>vehicle_type_unknown_0</th>\n",
              "      <th>...</th>\n",
              "      <th>electric_vehicle_buy_again_Yes</th>\n",
              "      <th>electric_vehicle_buy_again_unknown_1</th>\n",
              "      <th>city_Austin</th>\n",
              "      <th>city_Boulder</th>\n",
              "      <th>city_Coppell</th>\n",
              "      <th>city_Dallas</th>\n",
              "      <th>city_Houston</th>\n",
              "      <th>city_Humble</th>\n",
              "      <th>city_Plano</th>\n",
              "      <th>city_Round Rock</th>\n",
              "    </tr>\n",
              "  </thead>\n",
              "  <tbody>\n",
              "    <tr>\n",
              "      <th>0</th>\n",
              "      <td>410</td>\n",
              "      <td>1/29/17 11:00</td>\n",
              "      <td>unknown_1</td>\n",
              "      <td>Texas</td>\n",
              "      <td>1</td>\n",
              "      <td>0</td>\n",
              "      <td>0</td>\n",
              "      <td>1</td>\n",
              "      <td>0</td>\n",
              "      <td>0</td>\n",
              "      <td>...</td>\n",
              "      <td>0</td>\n",
              "      <td>0</td>\n",
              "      <td>1</td>\n",
              "      <td>0</td>\n",
              "      <td>0</td>\n",
              "      <td>0</td>\n",
              "      <td>0</td>\n",
              "      <td>0</td>\n",
              "      <td>0</td>\n",
              "      <td>0</td>\n",
              "    </tr>\n",
              "    <tr>\n",
              "      <th>1</th>\n",
              "      <td>410</td>\n",
              "      <td>4/20/17 13:00</td>\n",
              "      <td>unknown_1</td>\n",
              "      <td>Texas</td>\n",
              "      <td>1</td>\n",
              "      <td>0</td>\n",
              "      <td>0</td>\n",
              "      <td>1</td>\n",
              "      <td>0</td>\n",
              "      <td>0</td>\n",
              "      <td>...</td>\n",
              "      <td>0</td>\n",
              "      <td>0</td>\n",
              "      <td>1</td>\n",
              "      <td>0</td>\n",
              "      <td>0</td>\n",
              "      <td>0</td>\n",
              "      <td>0</td>\n",
              "      <td>0</td>\n",
              "      <td>0</td>\n",
              "      <td>0</td>\n",
              "    </tr>\n",
              "    <tr>\n",
              "      <th>2</th>\n",
              "      <td>410</td>\n",
              "      <td>5/7/17 12:00</td>\n",
              "      <td>unknown_1</td>\n",
              "      <td>Texas</td>\n",
              "      <td>1</td>\n",
              "      <td>0</td>\n",
              "      <td>0</td>\n",
              "      <td>1</td>\n",
              "      <td>0</td>\n",
              "      <td>0</td>\n",
              "      <td>...</td>\n",
              "      <td>0</td>\n",
              "      <td>0</td>\n",
              "      <td>1</td>\n",
              "      <td>0</td>\n",
              "      <td>0</td>\n",
              "      <td>0</td>\n",
              "      <td>0</td>\n",
              "      <td>0</td>\n",
              "      <td>0</td>\n",
              "      <td>0</td>\n",
              "    </tr>\n",
              "    <tr>\n",
              "      <th>3</th>\n",
              "      <td>410</td>\n",
              "      <td>5/7/17 13:00</td>\n",
              "      <td>unknown_1</td>\n",
              "      <td>Texas</td>\n",
              "      <td>1</td>\n",
              "      <td>0</td>\n",
              "      <td>0</td>\n",
              "      <td>1</td>\n",
              "      <td>0</td>\n",
              "      <td>0</td>\n",
              "      <td>...</td>\n",
              "      <td>0</td>\n",
              "      <td>0</td>\n",
              "      <td>1</td>\n",
              "      <td>0</td>\n",
              "      <td>0</td>\n",
              "      <td>0</td>\n",
              "      <td>0</td>\n",
              "      <td>0</td>\n",
              "      <td>0</td>\n",
              "      <td>0</td>\n",
              "    </tr>\n",
              "    <tr>\n",
              "      <th>4</th>\n",
              "      <td>410</td>\n",
              "      <td>5/10/17 11:00</td>\n",
              "      <td>unknown_1</td>\n",
              "      <td>Texas</td>\n",
              "      <td>1</td>\n",
              "      <td>0</td>\n",
              "      <td>0</td>\n",
              "      <td>1</td>\n",
              "      <td>0</td>\n",
              "      <td>0</td>\n",
              "      <td>...</td>\n",
              "      <td>0</td>\n",
              "      <td>0</td>\n",
              "      <td>1</td>\n",
              "      <td>0</td>\n",
              "      <td>0</td>\n",
              "      <td>0</td>\n",
              "      <td>0</td>\n",
              "      <td>0</td>\n",
              "      <td>0</td>\n",
              "      <td>0</td>\n",
              "    </tr>\n",
              "  </tbody>\n",
              "</table>\n",
              "<p>5 rows × 154 columns</p>\n",
              "</div>"
            ],
            "text/plain": [
              "   dataid      localhour       car1  state  label  \\\n",
              "0     410  1/29/17 11:00  unknown_1  Texas      1   \n",
              "1     410  4/20/17 13:00  unknown_1  Texas      1   \n",
              "2     410   5/7/17 12:00  unknown_1  Texas      1   \n",
              "3     410   5/7/17 13:00  unknown_1  Texas      1   \n",
              "4     410  5/10/17 11:00  unknown_1  Texas      1   \n",
              "\n",
              "   vehicle_type_Chevrolet Volt  vehicle_type_Mitsubishi i-MiEV  \\\n",
              "0                            0                               0   \n",
              "1                            0                               0   \n",
              "2                            0                               0   \n",
              "3                            0                               0   \n",
              "4                            0                               0   \n",
              "\n",
              "   vehicle_type_Nissan Leaf  vehicle_type_Tesla Model S  \\\n",
              "0                         1                           0   \n",
              "1                         1                           0   \n",
              "2                         1                           0   \n",
              "3                         1                           0   \n",
              "4                         1                           0   \n",
              "\n",
              "   vehicle_type_unknown_0       ...         electric_vehicle_buy_again_Yes  \\\n",
              "0                       0       ...                                      0   \n",
              "1                       0       ...                                      0   \n",
              "2                       0       ...                                      0   \n",
              "3                       0       ...                                      0   \n",
              "4                       0       ...                                      0   \n",
              "\n",
              "   electric_vehicle_buy_again_unknown_1  city_Austin  city_Boulder  \\\n",
              "0                                     0            1             0   \n",
              "1                                     0            1             0   \n",
              "2                                     0            1             0   \n",
              "3                                     0            1             0   \n",
              "4                                     0            1             0   \n",
              "\n",
              "   city_Coppell  city_Dallas  city_Houston  city_Humble  city_Plano  \\\n",
              "0             0            0             0            0           0   \n",
              "1             0            0             0            0           0   \n",
              "2             0            0             0            0           0   \n",
              "3             0            0             0            0           0   \n",
              "4             0            0             0            0           0   \n",
              "\n",
              "   city_Round Rock  \n",
              "0                0  \n",
              "1                0  \n",
              "2                0  \n",
              "3                0  \n",
              "4                0  \n",
              "\n",
              "[5 rows x 154 columns]"
            ]
          },
          "metadata": {
            "tags": []
          },
          "execution_count": 42
        }
      ]
    },
    {
      "metadata": {
        "id": "FhUJ50ZSqsRw",
        "colab_type": "text"
      },
      "cell_type": "markdown",
      "source": [
        "## Mount Capstone dataset to google drive"
      ]
    },
    {
      "metadata": {
        "id": "SO_cfO5jqRuG",
        "colab_type": "code",
        "outputId": "05057116-fb48-46aa-b3c3-d046e2b33d18",
        "colab": {
          "base_uri": "https://localhost:8080/",
          "height": 34
        }
      },
      "cell_type": "code",
      "source": [
        "from google.colab import drive\n",
        "drive.mount('drive')\n",
        "\n",
        "Capstone.to_csv('4-15.csv')\n",
        "!cp 4-15.csv drive/My\\ Drive/"
      ],
      "execution_count": 0,
      "outputs": [
        {
          "output_type": "stream",
          "text": [
            "Drive already mounted at drive; to attempt to forcibly remount, call drive.mount(\"drive\", force_remount=True).\n"
          ],
          "name": "stdout"
        }
      ]
    },
    {
      "metadata": {
        "id": "NEFd2D1Cu5fm",
        "colab_type": "text"
      },
      "cell_type": "markdown",
      "source": [
        "## Import rawdata and pandas read in csv"
      ]
    },
    {
      "metadata": {
        "id": "zMrnfCNpq0KL",
        "colab_type": "code",
        "outputId": "c0f3b36e-e35d-441d-f1ce-381a13cb283a",
        "colab": {
          "base_uri": "https://localhost:8080/",
          "height": 389
        }
      },
      "cell_type": "code",
      "source": [
        "rawdata = importfile(file_id = '1--KuXI0DP71CpCCYzD_M4x0sT-YJkce7')\n",
        "rawdata = pd.read_csv(os.path.join(\"/content\",\"4-15.csv\"), header = 0, encoding='latin-1', keep_default_na = False)\n",
        "rawdata.drop(['Unnamed: 0'] ,axis = 1, inplace = True)\n",
        "rawdata.head()"
      ],
      "execution_count": 0,
      "outputs": [
        {
          "output_type": "stream",
          "text": [
            "Drive file (title: 4-15.csv, id: 1--KuXI0DP71CpCCYzD_M4x0sT-YJkce7)\n",
            "file path: /content/4-15.csv\n"
          ],
          "name": "stdout"
        },
        {
          "output_type": "execute_result",
          "data": {
            "text/html": [
              "<div>\n",
              "<style scoped>\n",
              "    .dataframe tbody tr th:only-of-type {\n",
              "        vertical-align: middle;\n",
              "    }\n",
              "\n",
              "    .dataframe tbody tr th {\n",
              "        vertical-align: top;\n",
              "    }\n",
              "\n",
              "    .dataframe thead th {\n",
              "        text-align: right;\n",
              "    }\n",
              "</style>\n",
              "<table border=\"1\" class=\"dataframe\">\n",
              "  <thead>\n",
              "    <tr style=\"text-align: right;\">\n",
              "      <th></th>\n",
              "      <th>dataid</th>\n",
              "      <th>localhour</th>\n",
              "      <th>car1</th>\n",
              "      <th>state</th>\n",
              "      <th>label</th>\n",
              "      <th>vehicle_type_Chevrolet Volt</th>\n",
              "      <th>vehicle_type_Mitsubishi i-MiEV</th>\n",
              "      <th>vehicle_type_Nissan Leaf</th>\n",
              "      <th>vehicle_type_Tesla Model S</th>\n",
              "      <th>vehicle_type_unknown_0</th>\n",
              "      <th>...</th>\n",
              "      <th>electric_vehicle_buy_again_Yes</th>\n",
              "      <th>electric_vehicle_buy_again_unknown_1</th>\n",
              "      <th>city_Austin</th>\n",
              "      <th>city_Boulder</th>\n",
              "      <th>city_Coppell</th>\n",
              "      <th>city_Dallas</th>\n",
              "      <th>city_Houston</th>\n",
              "      <th>city_Humble</th>\n",
              "      <th>city_Plano</th>\n",
              "      <th>city_Round Rock</th>\n",
              "    </tr>\n",
              "  </thead>\n",
              "  <tbody>\n",
              "    <tr>\n",
              "      <th>0</th>\n",
              "      <td>410</td>\n",
              "      <td>1/29/17 11:00</td>\n",
              "      <td>unknown_1</td>\n",
              "      <td>Texas</td>\n",
              "      <td>1</td>\n",
              "      <td>0</td>\n",
              "      <td>0</td>\n",
              "      <td>1</td>\n",
              "      <td>0</td>\n",
              "      <td>0</td>\n",
              "      <td>...</td>\n",
              "      <td>0</td>\n",
              "      <td>0</td>\n",
              "      <td>1</td>\n",
              "      <td>0</td>\n",
              "      <td>0</td>\n",
              "      <td>0</td>\n",
              "      <td>0</td>\n",
              "      <td>0</td>\n",
              "      <td>0</td>\n",
              "      <td>0</td>\n",
              "    </tr>\n",
              "    <tr>\n",
              "      <th>1</th>\n",
              "      <td>410</td>\n",
              "      <td>4/20/17 13:00</td>\n",
              "      <td>unknown_1</td>\n",
              "      <td>Texas</td>\n",
              "      <td>1</td>\n",
              "      <td>0</td>\n",
              "      <td>0</td>\n",
              "      <td>1</td>\n",
              "      <td>0</td>\n",
              "      <td>0</td>\n",
              "      <td>...</td>\n",
              "      <td>0</td>\n",
              "      <td>0</td>\n",
              "      <td>1</td>\n",
              "      <td>0</td>\n",
              "      <td>0</td>\n",
              "      <td>0</td>\n",
              "      <td>0</td>\n",
              "      <td>0</td>\n",
              "      <td>0</td>\n",
              "      <td>0</td>\n",
              "    </tr>\n",
              "    <tr>\n",
              "      <th>2</th>\n",
              "      <td>410</td>\n",
              "      <td>5/7/17 12:00</td>\n",
              "      <td>unknown_1</td>\n",
              "      <td>Texas</td>\n",
              "      <td>1</td>\n",
              "      <td>0</td>\n",
              "      <td>0</td>\n",
              "      <td>1</td>\n",
              "      <td>0</td>\n",
              "      <td>0</td>\n",
              "      <td>...</td>\n",
              "      <td>0</td>\n",
              "      <td>0</td>\n",
              "      <td>1</td>\n",
              "      <td>0</td>\n",
              "      <td>0</td>\n",
              "      <td>0</td>\n",
              "      <td>0</td>\n",
              "      <td>0</td>\n",
              "      <td>0</td>\n",
              "      <td>0</td>\n",
              "    </tr>\n",
              "    <tr>\n",
              "      <th>3</th>\n",
              "      <td>410</td>\n",
              "      <td>5/7/17 13:00</td>\n",
              "      <td>unknown_1</td>\n",
              "      <td>Texas</td>\n",
              "      <td>1</td>\n",
              "      <td>0</td>\n",
              "      <td>0</td>\n",
              "      <td>1</td>\n",
              "      <td>0</td>\n",
              "      <td>0</td>\n",
              "      <td>...</td>\n",
              "      <td>0</td>\n",
              "      <td>0</td>\n",
              "      <td>1</td>\n",
              "      <td>0</td>\n",
              "      <td>0</td>\n",
              "      <td>0</td>\n",
              "      <td>0</td>\n",
              "      <td>0</td>\n",
              "      <td>0</td>\n",
              "      <td>0</td>\n",
              "    </tr>\n",
              "    <tr>\n",
              "      <th>4</th>\n",
              "      <td>410</td>\n",
              "      <td>5/10/17 11:00</td>\n",
              "      <td>unknown_1</td>\n",
              "      <td>Texas</td>\n",
              "      <td>1</td>\n",
              "      <td>0</td>\n",
              "      <td>0</td>\n",
              "      <td>1</td>\n",
              "      <td>0</td>\n",
              "      <td>0</td>\n",
              "      <td>...</td>\n",
              "      <td>0</td>\n",
              "      <td>0</td>\n",
              "      <td>1</td>\n",
              "      <td>0</td>\n",
              "      <td>0</td>\n",
              "      <td>0</td>\n",
              "      <td>0</td>\n",
              "      <td>0</td>\n",
              "      <td>0</td>\n",
              "      <td>0</td>\n",
              "    </tr>\n",
              "  </tbody>\n",
              "</table>\n",
              "<p>5 rows × 154 columns</p>\n",
              "</div>"
            ],
            "text/plain": [
              "   dataid      localhour       car1  state  label  \\\n",
              "0     410  1/29/17 11:00  unknown_1  Texas      1   \n",
              "1     410  4/20/17 13:00  unknown_1  Texas      1   \n",
              "2     410   5/7/17 12:00  unknown_1  Texas      1   \n",
              "3     410   5/7/17 13:00  unknown_1  Texas      1   \n",
              "4     410  5/10/17 11:00  unknown_1  Texas      1   \n",
              "\n",
              "   vehicle_type_Chevrolet Volt  vehicle_type_Mitsubishi i-MiEV  \\\n",
              "0                            0                               0   \n",
              "1                            0                               0   \n",
              "2                            0                               0   \n",
              "3                            0                               0   \n",
              "4                            0                               0   \n",
              "\n",
              "   vehicle_type_Nissan Leaf  vehicle_type_Tesla Model S  \\\n",
              "0                         1                           0   \n",
              "1                         1                           0   \n",
              "2                         1                           0   \n",
              "3                         1                           0   \n",
              "4                         1                           0   \n",
              "\n",
              "   vehicle_type_unknown_0       ...         electric_vehicle_buy_again_Yes  \\\n",
              "0                       0       ...                                      0   \n",
              "1                       0       ...                                      0   \n",
              "2                       0       ...                                      0   \n",
              "3                       0       ...                                      0   \n",
              "4                       0       ...                                      0   \n",
              "\n",
              "   electric_vehicle_buy_again_unknown_1  city_Austin  city_Boulder  \\\n",
              "0                                     0            1             0   \n",
              "1                                     0            1             0   \n",
              "2                                     0            1             0   \n",
              "3                                     0            1             0   \n",
              "4                                     0            1             0   \n",
              "\n",
              "   city_Coppell  city_Dallas  city_Houston  city_Humble  city_Plano  \\\n",
              "0             0            0             0            0           0   \n",
              "1             0            0             0            0           0   \n",
              "2             0            0             0            0           0   \n",
              "3             0            0             0            0           0   \n",
              "4             0            0             0            0           0   \n",
              "\n",
              "   city_Round Rock  \n",
              "0                0  \n",
              "1                0  \n",
              "2                0  \n",
              "3                0  \n",
              "4                0  \n",
              "\n",
              "[5 rows x 154 columns]"
            ]
          },
          "metadata": {
            "tags": []
          },
          "execution_count": 49
        }
      ]
    },
    {
      "metadata": {
        "id": "eoI1sguPvIEw",
        "colab_type": "text"
      },
      "cell_type": "markdown",
      "source": [
        "## import use dataset and pandas read in csv"
      ]
    },
    {
      "metadata": {
        "id": "HXShh7wtu4Oz",
        "colab_type": "code",
        "outputId": "ba156ad8-ee8b-40a4-ceaf-9216c716fde4",
        "colab": {
          "base_uri": "https://localhost:8080/",
          "height": 238
        }
      },
      "cell_type": "code",
      "source": [
        "# use = importfile(file_id = '1_nCEVDclSvxDHGyM5FVK8wZblpVw_3iV')\n",
        "use = pd.read_csv(os.path.join(\"/content\",\"use.csv\"), header = 0, keep_default_na = False)\n",
        "use.head()"
      ],
      "execution_count": 0,
      "outputs": [
        {
          "output_type": "stream",
          "text": [
            "Drive file (title: use.csv, id: 1_nCEVDclSvxDHGyM5FVK8wZblpVw_3iV)\n",
            "file path: /content/use.csv\n"
          ],
          "name": "stdout"
        },
        {
          "output_type": "execute_result",
          "data": {
            "text/html": [
              "<div>\n",
              "<style scoped>\n",
              "    .dataframe tbody tr th:only-of-type {\n",
              "        vertical-align: middle;\n",
              "    }\n",
              "\n",
              "    .dataframe tbody tr th {\n",
              "        vertical-align: top;\n",
              "    }\n",
              "\n",
              "    .dataframe thead th {\n",
              "        text-align: right;\n",
              "    }\n",
              "</style>\n",
              "<table border=\"1\" class=\"dataframe\">\n",
              "  <thead>\n",
              "    <tr style=\"text-align: right;\">\n",
              "      <th></th>\n",
              "      <th>dataid</th>\n",
              "      <th>localhour</th>\n",
              "      <th>use</th>\n",
              "    </tr>\n",
              "  </thead>\n",
              "  <tbody>\n",
              "    <tr>\n",
              "      <th>0</th>\n",
              "      <td>77</td>\n",
              "      <td>2017-10-02 05:00:00-05</td>\n",
              "      <td>0.53705000000000000000</td>\n",
              "    </tr>\n",
              "    <tr>\n",
              "      <th>1</th>\n",
              "      <td>77</td>\n",
              "      <td>2017-11-03 05:00:00-05</td>\n",
              "      <td>0.58840000000000000000</td>\n",
              "    </tr>\n",
              "    <tr>\n",
              "      <th>2</th>\n",
              "      <td>59</td>\n",
              "      <td>2017-01-01 00:00:00-06</td>\n",
              "      <td>0.80533333333333333333</td>\n",
              "    </tr>\n",
              "    <tr>\n",
              "      <th>3</th>\n",
              "      <td>59</td>\n",
              "      <td>2017-01-01 01:00:00-06</td>\n",
              "      <td>0.80231666666666666667</td>\n",
              "    </tr>\n",
              "    <tr>\n",
              "      <th>4</th>\n",
              "      <td>59</td>\n",
              "      <td>2017-01-01 02:00:00-06</td>\n",
              "      <td>0.45988333333333333333</td>\n",
              "    </tr>\n",
              "  </tbody>\n",
              "</table>\n",
              "</div>"
            ],
            "text/plain": [
              "   dataid               localhour                     use\n",
              "0      77  2017-10-02 05:00:00-05  0.53705000000000000000\n",
              "1      77  2017-11-03 05:00:00-05  0.58840000000000000000\n",
              "2      59  2017-01-01 00:00:00-06  0.80533333333333333333\n",
              "3      59  2017-01-01 01:00:00-06  0.80231666666666666667\n",
              "4      59  2017-01-01 02:00:00-06  0.45988333333333333333"
            ]
          },
          "metadata": {
            "tags": []
          },
          "execution_count": 50
        }
      ]
    },
    {
      "metadata": {
        "id": "KFc0YlLRuq4K",
        "colab_type": "text"
      },
      "cell_type": "markdown",
      "source": [
        "## Convert 'localhour' feature from dtype object to datetime"
      ]
    },
    {
      "metadata": {
        "id": "7_TQF9COv9nB",
        "colab_type": "code",
        "colab": {}
      },
      "cell_type": "code",
      "source": [
        "rawdata['localhour'] = pd.to_datetime(rawdata['localhour'])\n",
        "use['localhour'] = pd.to_datetime(use['localhour'])"
      ],
      "execution_count": 0,
      "outputs": []
    },
    {
      "metadata": {
        "id": "P0fK_5NnE9q6",
        "colab_type": "code",
        "outputId": "8b7b078b-c2b0-4ed6-d955-30aaef1930af",
        "colab": {
          "base_uri": "https://localhost:8080/",
          "height": 221
        }
      },
      "cell_type": "code",
      "source": [
        "print(rawdata.localhour.head())\n",
        "print(use.localhour.head())"
      ],
      "execution_count": 0,
      "outputs": [
        {
          "output_type": "stream",
          "text": [
            "0   2017-01-29 11:00:00\n",
            "1   2017-04-20 13:00:00\n",
            "2   2017-05-07 12:00:00\n",
            "3   2017-05-07 13:00:00\n",
            "4   2017-05-10 11:00:00\n",
            "Name: localhour, dtype: datetime64[ns]\n",
            "0   2017-10-02 10:00:00\n",
            "1   2017-11-03 10:00:00\n",
            "2   2017-01-01 06:00:00\n",
            "3   2017-01-01 07:00:00\n",
            "4   2017-01-01 08:00:00\n",
            "Name: localhour, dtype: datetime64[ns]\n"
          ],
          "name": "stdout"
        }
      ]
    },
    {
      "metadata": {
        "id": "KfaebeSmvdQa",
        "colab_type": "text"
      },
      "cell_type": "markdown",
      "source": [
        "## Merge 'rawdata' and 'use '' with left join, finally show the result"
      ]
    },
    {
      "metadata": {
        "id": "f-ybUvmcSPCW",
        "colab_type": "code",
        "outputId": "85c9f179-0c1a-4fa3-e7ca-9ec711c656eb",
        "colab": {
          "base_uri": "https://localhost:8080/",
          "height": 355
        }
      },
      "cell_type": "code",
      "source": [
        "result = pd.merge(rawdata,\n",
        "                 use[['dataid', 'localhour', 'use']],\n",
        "                 on=['dataid','localhour'],\n",
        "                 how = 'left')\n",
        "result.use = pd.to_numeric(result.use, errors=\"coerce\")\n",
        "result.head()"
      ],
      "execution_count": 0,
      "outputs": [
        {
          "output_type": "execute_result",
          "data": {
            "text/html": [
              "<div>\n",
              "<style scoped>\n",
              "    .dataframe tbody tr th:only-of-type {\n",
              "        vertical-align: middle;\n",
              "    }\n",
              "\n",
              "    .dataframe tbody tr th {\n",
              "        vertical-align: top;\n",
              "    }\n",
              "\n",
              "    .dataframe thead th {\n",
              "        text-align: right;\n",
              "    }\n",
              "</style>\n",
              "<table border=\"1\" class=\"dataframe\">\n",
              "  <thead>\n",
              "    <tr style=\"text-align: right;\">\n",
              "      <th></th>\n",
              "      <th>dataid</th>\n",
              "      <th>localhour</th>\n",
              "      <th>car1</th>\n",
              "      <th>state</th>\n",
              "      <th>label</th>\n",
              "      <th>vehicle_type_Chevrolet Volt</th>\n",
              "      <th>vehicle_type_Mitsubishi i-MiEV</th>\n",
              "      <th>vehicle_type_Nissan Leaf</th>\n",
              "      <th>vehicle_type_Tesla Model S</th>\n",
              "      <th>vehicle_type_unknown_0</th>\n",
              "      <th>...</th>\n",
              "      <th>electric_vehicle_buy_again_unknown_1</th>\n",
              "      <th>city_Austin</th>\n",
              "      <th>city_Boulder</th>\n",
              "      <th>city_Coppell</th>\n",
              "      <th>city_Dallas</th>\n",
              "      <th>city_Houston</th>\n",
              "      <th>city_Humble</th>\n",
              "      <th>city_Plano</th>\n",
              "      <th>city_Round Rock</th>\n",
              "      <th>use</th>\n",
              "    </tr>\n",
              "  </thead>\n",
              "  <tbody>\n",
              "    <tr>\n",
              "      <th>0</th>\n",
              "      <td>410</td>\n",
              "      <td>2017-01-29 11:00:00</td>\n",
              "      <td>unknown_1</td>\n",
              "      <td>Texas</td>\n",
              "      <td>1</td>\n",
              "      <td>0</td>\n",
              "      <td>0</td>\n",
              "      <td>1</td>\n",
              "      <td>0</td>\n",
              "      <td>0</td>\n",
              "      <td>...</td>\n",
              "      <td>0</td>\n",
              "      <td>1</td>\n",
              "      <td>0</td>\n",
              "      <td>0</td>\n",
              "      <td>0</td>\n",
              "      <td>0</td>\n",
              "      <td>0</td>\n",
              "      <td>0</td>\n",
              "      <td>0</td>\n",
              "      <td>0.1904</td>\n",
              "    </tr>\n",
              "    <tr>\n",
              "      <th>1</th>\n",
              "      <td>410</td>\n",
              "      <td>2017-04-20 13:00:00</td>\n",
              "      <td>unknown_1</td>\n",
              "      <td>Texas</td>\n",
              "      <td>1</td>\n",
              "      <td>0</td>\n",
              "      <td>0</td>\n",
              "      <td>1</td>\n",
              "      <td>0</td>\n",
              "      <td>0</td>\n",
              "      <td>...</td>\n",
              "      <td>0</td>\n",
              "      <td>1</td>\n",
              "      <td>0</td>\n",
              "      <td>0</td>\n",
              "      <td>0</td>\n",
              "      <td>0</td>\n",
              "      <td>0</td>\n",
              "      <td>0</td>\n",
              "      <td>0</td>\n",
              "      <td>0.4522</td>\n",
              "    </tr>\n",
              "    <tr>\n",
              "      <th>2</th>\n",
              "      <td>410</td>\n",
              "      <td>2017-05-07 12:00:00</td>\n",
              "      <td>unknown_1</td>\n",
              "      <td>Texas</td>\n",
              "      <td>1</td>\n",
              "      <td>0</td>\n",
              "      <td>0</td>\n",
              "      <td>1</td>\n",
              "      <td>0</td>\n",
              "      <td>0</td>\n",
              "      <td>...</td>\n",
              "      <td>0</td>\n",
              "      <td>1</td>\n",
              "      <td>0</td>\n",
              "      <td>0</td>\n",
              "      <td>0</td>\n",
              "      <td>0</td>\n",
              "      <td>0</td>\n",
              "      <td>0</td>\n",
              "      <td>0</td>\n",
              "      <td>0.1344</td>\n",
              "    </tr>\n",
              "    <tr>\n",
              "      <th>3</th>\n",
              "      <td>410</td>\n",
              "      <td>2017-05-07 13:00:00</td>\n",
              "      <td>unknown_1</td>\n",
              "      <td>Texas</td>\n",
              "      <td>1</td>\n",
              "      <td>0</td>\n",
              "      <td>0</td>\n",
              "      <td>1</td>\n",
              "      <td>0</td>\n",
              "      <td>0</td>\n",
              "      <td>...</td>\n",
              "      <td>0</td>\n",
              "      <td>1</td>\n",
              "      <td>0</td>\n",
              "      <td>0</td>\n",
              "      <td>0</td>\n",
              "      <td>0</td>\n",
              "      <td>0</td>\n",
              "      <td>0</td>\n",
              "      <td>0</td>\n",
              "      <td>0.1437</td>\n",
              "    </tr>\n",
              "    <tr>\n",
              "      <th>4</th>\n",
              "      <td>410</td>\n",
              "      <td>2017-05-10 11:00:00</td>\n",
              "      <td>unknown_1</td>\n",
              "      <td>Texas</td>\n",
              "      <td>1</td>\n",
              "      <td>0</td>\n",
              "      <td>0</td>\n",
              "      <td>1</td>\n",
              "      <td>0</td>\n",
              "      <td>0</td>\n",
              "      <td>...</td>\n",
              "      <td>0</td>\n",
              "      <td>1</td>\n",
              "      <td>0</td>\n",
              "      <td>0</td>\n",
              "      <td>0</td>\n",
              "      <td>0</td>\n",
              "      <td>0</td>\n",
              "      <td>0</td>\n",
              "      <td>0</td>\n",
              "      <td>0.2219</td>\n",
              "    </tr>\n",
              "  </tbody>\n",
              "</table>\n",
              "<p>5 rows × 155 columns</p>\n",
              "</div>"
            ],
            "text/plain": [
              "   dataid           localhour       car1  state  label  \\\n",
              "0     410 2017-01-29 11:00:00  unknown_1  Texas      1   \n",
              "1     410 2017-04-20 13:00:00  unknown_1  Texas      1   \n",
              "2     410 2017-05-07 12:00:00  unknown_1  Texas      1   \n",
              "3     410 2017-05-07 13:00:00  unknown_1  Texas      1   \n",
              "4     410 2017-05-10 11:00:00  unknown_1  Texas      1   \n",
              "\n",
              "   vehicle_type_Chevrolet Volt  vehicle_type_Mitsubishi i-MiEV  \\\n",
              "0                            0                               0   \n",
              "1                            0                               0   \n",
              "2                            0                               0   \n",
              "3                            0                               0   \n",
              "4                            0                               0   \n",
              "\n",
              "   vehicle_type_Nissan Leaf  vehicle_type_Tesla Model S  \\\n",
              "0                         1                           0   \n",
              "1                         1                           0   \n",
              "2                         1                           0   \n",
              "3                         1                           0   \n",
              "4                         1                           0   \n",
              "\n",
              "   vehicle_type_unknown_0  ...    electric_vehicle_buy_again_unknown_1  \\\n",
              "0                       0  ...                                       0   \n",
              "1                       0  ...                                       0   \n",
              "2                       0  ...                                       0   \n",
              "3                       0  ...                                       0   \n",
              "4                       0  ...                                       0   \n",
              "\n",
              "   city_Austin  city_Boulder  city_Coppell  city_Dallas  city_Houston  \\\n",
              "0            1             0             0            0             0   \n",
              "1            1             0             0            0             0   \n",
              "2            1             0             0            0             0   \n",
              "3            1             0             0            0             0   \n",
              "4            1             0             0            0             0   \n",
              "\n",
              "   city_Humble  city_Plano  city_Round Rock    use  \n",
              "0            0           0                0 0.1904  \n",
              "1            0           0                0 0.4522  \n",
              "2            0           0                0 0.1344  \n",
              "3            0           0                0 0.1437  \n",
              "4            0           0                0 0.2219  \n",
              "\n",
              "[5 rows x 155 columns]"
            ]
          },
          "metadata": {
            "tags": []
          },
          "execution_count": 53
        }
      ]
    },
    {
      "metadata": {
        "id": "AySIMnIpyn8E",
        "colab_type": "text"
      },
      "cell_type": "markdown",
      "source": [
        "## Count the number of missing values for each column attribute"
      ]
    },
    {
      "metadata": {
        "id": "mwpGXhx7vhmQ",
        "colab_type": "code",
        "outputId": "8647a577-8a72-42c1-ab36-56a72a482ab6",
        "colab": {
          "base_uri": "https://localhost:8080/",
          "height": 1071
        }
      },
      "cell_type": "code",
      "source": [
        "result.isnull().sum(axis=0).sort_values(ascending=False)/float(len(result))"
      ],
      "execution_count": 0,
      "outputs": [
        {
          "output_type": "execute_result",
          "data": {
            "text/plain": [
              "use                                                           0.0348\n",
              "spend_time_at_home_wednesday_unknown_1                        0.0000\n",
              "ethnicity_caucasian_other_than_hispanic_or_latino_Caucasian   0.0000\n",
              "spend_time_at_home_friday_unknown_1                           0.0000\n",
              "spend_time_at_home_friday_unknown_0                           0.0000\n",
              "spend_time_at_home_friday_Friday                              0.0000\n",
              "spend_time_at_home_thursday_unknown_1                         0.0000\n",
              "spend_time_at_home_thursday_unknown_0                         0.0000\n",
              "spend_time_at_home_thursday_Thursday                          0.0000\n",
              "spend_time_at_home_wednesday_unknown_0                        0.0000\n",
              "ethnicity_asian_pacific_islander_unknown_0                    0.0000\n",
              "spend_time_at_home_wednesday_Wednesday                        0.0000\n",
              "spend_time_at_home_tuesday_unknown_1                          0.0000\n",
              "spend_time_at_home_tuesday_unknown_0                          0.0000\n",
              "spend_time_at_home_tuesday_Tuesday                            0.0000\n",
              "spend_time_at_home_monday_unknown_1                           0.0000\n",
              "spend_time_at_home_monday_unknown_0                           0.0000\n",
              "spend_time_at_home_monday_Monday                              0.0000\n",
              "ethnicity_caucasian_other_than_hispanic_or_latino_unknown_0   0.0000\n",
              "ethnicity_caucasian_other_than_hispanic_or_latino_unknown_1   0.0000\n",
              "ethnicity_hispanic_or_latino_Hispanic                         0.0000\n",
              "ethnicity_hispanic_or_latino_unknown_0                        0.0000\n",
              "residents_6_to_12_unknown_1                                   0.0000\n",
              "residents_6_to_12_unknown_0                                   0.0000\n",
              "residents_6_to_12_3                                           0.0000\n",
              "residents_6_to_12_2                                           0.0000\n",
              "residents_6_to_12_1                                           0.0000\n",
              "residents_6_to_12_0                                           0.0000\n",
              "residents_under_5_unknown_1                                   0.0000\n",
              "residents_under_5_unknown_0                                   0.0000\n",
              "                                                               ...  \n",
              "residents_25_to_34_unknown_0                                  0.0000\n",
              "residents_25_to_34_1                                          0.0000\n",
              "electric_vehicle_satisfied_Neutral                            0.0000\n",
              "residents_25_to_34_0                                          0.0000\n",
              "residents_19_to_24_unknown_1                                  0.0000\n",
              "residents_19_to_24_unknown_0                                  0.0000\n",
              "residents_19_to_24_2                                          0.0000\n",
              "residents_19_to_24_1                                          0.0000\n",
              "residents_19_to_24_0                                          0.0000\n",
              "residents_13_to_18_unknown_1                                  0.0000\n",
              "residents_50_to_64_0                                          0.0000\n",
              "residents_50_to_64_1                                          0.0000\n",
              "residents_50_to_64_2                                          0.0000\n",
              "residents_50_to_64_unknown_0                                  0.0000\n",
              "total_annual_income_$75,000 - $99,999                         0.0000\n",
              "total_annual_income_$50,000 - $74,999                         0.0000\n",
              "total_annual_income_$300,000 - $1,000,000                     0.0000\n",
              "total_annual_income_$20,000 - $34,999                         0.0000\n",
              "total_annual_income_$150,000 - $299,000                       0.0000\n",
              "total_annual_income_$100,000 - $149,999                       0.0000\n",
              "education_level_Some college/trade/vocational school          0.0000\n",
              "education_level_Postgraduate degree                           0.0000\n",
              "education_level_College graduate                              0.0000\n",
              "residents_65_and_older_unknown_1                              0.0000\n",
              "residents_65_and_older_unknown_0                              0.0000\n",
              "residents_65_and_older_2                                      0.0000\n",
              "residents_65_and_older_1                                      0.0000\n",
              "residents_65_and_older_0                                      0.0000\n",
              "residents_50_to_64_unknown_1                                  0.0000\n",
              "dataid                                                        0.0000\n",
              "Length: 155, dtype: float64"
            ]
          },
          "metadata": {
            "tags": []
          },
          "execution_count": 54
        }
      ]
    },
    {
      "metadata": {
        "id": "cGu8_HkA1fVP",
        "colab_type": "text"
      },
      "cell_type": "markdown",
      "source": [
        "## Fill NaN values with 0"
      ]
    },
    {
      "metadata": {
        "id": "f3alXXSqKsC3",
        "colab_type": "code",
        "outputId": "302748d4-979a-4d91-dd55-d362466fdbbb",
        "colab": {
          "base_uri": "https://localhost:8080/",
          "height": 1071
        }
      },
      "cell_type": "code",
      "source": [
        "result.use = result.use.fillna(0)\n",
        "result.isnull().sum(axis=0).sort_values(ascending=False)/float(len(result))"
      ],
      "execution_count": 0,
      "outputs": [
        {
          "output_type": "execute_result",
          "data": {
            "text/plain": [
              "use                                                           0.0000\n",
              "spend_time_at_home_wednesday_unknown_1                        0.0000\n",
              "ethnicity_caucasian_other_than_hispanic_or_latino_Caucasian   0.0000\n",
              "spend_time_at_home_friday_unknown_1                           0.0000\n",
              "spend_time_at_home_friday_unknown_0                           0.0000\n",
              "spend_time_at_home_friday_Friday                              0.0000\n",
              "spend_time_at_home_thursday_unknown_1                         0.0000\n",
              "spend_time_at_home_thursday_unknown_0                         0.0000\n",
              "spend_time_at_home_thursday_Thursday                          0.0000\n",
              "spend_time_at_home_wednesday_unknown_0                        0.0000\n",
              "ethnicity_asian_pacific_islander_unknown_0                    0.0000\n",
              "spend_time_at_home_wednesday_Wednesday                        0.0000\n",
              "spend_time_at_home_tuesday_unknown_1                          0.0000\n",
              "spend_time_at_home_tuesday_unknown_0                          0.0000\n",
              "spend_time_at_home_tuesday_Tuesday                            0.0000\n",
              "spend_time_at_home_monday_unknown_1                           0.0000\n",
              "spend_time_at_home_monday_unknown_0                           0.0000\n",
              "spend_time_at_home_monday_Monday                              0.0000\n",
              "ethnicity_caucasian_other_than_hispanic_or_latino_unknown_0   0.0000\n",
              "ethnicity_caucasian_other_than_hispanic_or_latino_unknown_1   0.0000\n",
              "ethnicity_hispanic_or_latino_Hispanic                         0.0000\n",
              "ethnicity_hispanic_or_latino_unknown_0                        0.0000\n",
              "residents_6_to_12_unknown_1                                   0.0000\n",
              "residents_6_to_12_unknown_0                                   0.0000\n",
              "residents_6_to_12_3                                           0.0000\n",
              "residents_6_to_12_2                                           0.0000\n",
              "residents_6_to_12_1                                           0.0000\n",
              "residents_6_to_12_0                                           0.0000\n",
              "residents_under_5_unknown_1                                   0.0000\n",
              "residents_under_5_unknown_0                                   0.0000\n",
              "                                                               ...  \n",
              "residents_25_to_34_unknown_0                                  0.0000\n",
              "residents_25_to_34_1                                          0.0000\n",
              "electric_vehicle_satisfied_Neutral                            0.0000\n",
              "residents_25_to_34_0                                          0.0000\n",
              "residents_19_to_24_unknown_1                                  0.0000\n",
              "residents_19_to_24_unknown_0                                  0.0000\n",
              "residents_19_to_24_2                                          0.0000\n",
              "residents_19_to_24_1                                          0.0000\n",
              "residents_19_to_24_0                                          0.0000\n",
              "residents_13_to_18_unknown_1                                  0.0000\n",
              "residents_50_to_64_0                                          0.0000\n",
              "residents_50_to_64_1                                          0.0000\n",
              "residents_50_to_64_2                                          0.0000\n",
              "residents_50_to_64_unknown_0                                  0.0000\n",
              "total_annual_income_$75,000 - $99,999                         0.0000\n",
              "total_annual_income_$50,000 - $74,999                         0.0000\n",
              "total_annual_income_$300,000 - $1,000,000                     0.0000\n",
              "total_annual_income_$20,000 - $34,999                         0.0000\n",
              "total_annual_income_$150,000 - $299,000                       0.0000\n",
              "total_annual_income_$100,000 - $149,999                       0.0000\n",
              "education_level_Some college/trade/vocational school          0.0000\n",
              "education_level_Postgraduate degree                           0.0000\n",
              "education_level_College graduate                              0.0000\n",
              "residents_65_and_older_unknown_1                              0.0000\n",
              "residents_65_and_older_unknown_0                              0.0000\n",
              "residents_65_and_older_2                                      0.0000\n",
              "residents_65_and_older_1                                      0.0000\n",
              "residents_65_and_older_0                                      0.0000\n",
              "residents_50_to_64_unknown_1                                  0.0000\n",
              "dataid                                                        0.0000\n",
              "Length: 155, dtype: float64"
            ]
          },
          "metadata": {
            "tags": []
          },
          "execution_count": 55
        }
      ]
    },
    {
      "metadata": {
        "id": "OPcGp1El6DBP",
        "colab_type": "text"
      },
      "cell_type": "markdown",
      "source": [
        "## Mount 'result' dataset to google drive"
      ]
    },
    {
      "metadata": {
        "id": "LUEsIuWR6H-6",
        "colab_type": "code",
        "outputId": "301df064-3489-4c93-a365-5a847381413b",
        "colab": {
          "base_uri": "https://localhost:8080/",
          "height": 34
        }
      },
      "cell_type": "code",
      "source": [
        "from google.colab import drive\n",
        "# drive.mount('drive')\n",
        "drive.mount(\"drive\", force_remount=True)\n",
        "\n",
        "result.to_csv('final.csv')\n",
        "!cp final.csv drive/My\\ Drive/"
      ],
      "execution_count": 0,
      "outputs": [
        {
          "output_type": "stream",
          "text": [
            "Mounted at drive\n"
          ],
          "name": "stdout"
        }
      ]
    },
    {
      "metadata": {
        "id": "aolXQpB-1wss",
        "colab_type": "text"
      },
      "cell_type": "markdown",
      "source": [
        "## Create a time series dataset"
      ]
    },
    {
      "metadata": {
        "id": "IdISArbm1joI",
        "colab_type": "code",
        "outputId": "df8ea93c-a19f-46cb-e810-51452a48eef3",
        "colab": {
          "base_uri": "https://localhost:8080/",
          "height": 204
        }
      },
      "cell_type": "code",
      "source": [
        "timeseries = result[['dataid', 'localhour', 'car1', 'use', 'label']]\n",
        "timeseries.head()"
      ],
      "execution_count": 0,
      "outputs": [
        {
          "output_type": "execute_result",
          "data": {
            "text/html": [
              "<div>\n",
              "<style scoped>\n",
              "    .dataframe tbody tr th:only-of-type {\n",
              "        vertical-align: middle;\n",
              "    }\n",
              "\n",
              "    .dataframe tbody tr th {\n",
              "        vertical-align: top;\n",
              "    }\n",
              "\n",
              "    .dataframe thead th {\n",
              "        text-align: right;\n",
              "    }\n",
              "</style>\n",
              "<table border=\"1\" class=\"dataframe\">\n",
              "  <thead>\n",
              "    <tr style=\"text-align: right;\">\n",
              "      <th></th>\n",
              "      <th>dataid</th>\n",
              "      <th>localhour</th>\n",
              "      <th>car1</th>\n",
              "      <th>use</th>\n",
              "      <th>label</th>\n",
              "    </tr>\n",
              "  </thead>\n",
              "  <tbody>\n",
              "    <tr>\n",
              "      <th>0</th>\n",
              "      <td>410</td>\n",
              "      <td>2017-01-29 11:00:00</td>\n",
              "      <td>unknown_1</td>\n",
              "      <td>0.1904</td>\n",
              "      <td>1</td>\n",
              "    </tr>\n",
              "    <tr>\n",
              "      <th>1</th>\n",
              "      <td>410</td>\n",
              "      <td>2017-04-20 13:00:00</td>\n",
              "      <td>unknown_1</td>\n",
              "      <td>0.4522</td>\n",
              "      <td>1</td>\n",
              "    </tr>\n",
              "    <tr>\n",
              "      <th>2</th>\n",
              "      <td>410</td>\n",
              "      <td>2017-05-07 12:00:00</td>\n",
              "      <td>unknown_1</td>\n",
              "      <td>0.1344</td>\n",
              "      <td>1</td>\n",
              "    </tr>\n",
              "    <tr>\n",
              "      <th>3</th>\n",
              "      <td>410</td>\n",
              "      <td>2017-05-07 13:00:00</td>\n",
              "      <td>unknown_1</td>\n",
              "      <td>0.1437</td>\n",
              "      <td>1</td>\n",
              "    </tr>\n",
              "    <tr>\n",
              "      <th>4</th>\n",
              "      <td>410</td>\n",
              "      <td>2017-05-10 11:00:00</td>\n",
              "      <td>unknown_1</td>\n",
              "      <td>0.2219</td>\n",
              "      <td>1</td>\n",
              "    </tr>\n",
              "  </tbody>\n",
              "</table>\n",
              "</div>"
            ],
            "text/plain": [
              "   dataid           localhour       car1    use  label\n",
              "0     410 2017-01-29 11:00:00  unknown_1 0.1904      1\n",
              "1     410 2017-04-20 13:00:00  unknown_1 0.4522      1\n",
              "2     410 2017-05-07 12:00:00  unknown_1 0.1344      1\n",
              "3     410 2017-05-07 13:00:00  unknown_1 0.1437      1\n",
              "4     410 2017-05-10 11:00:00  unknown_1 0.2219      1"
            ]
          },
          "metadata": {
            "tags": []
          },
          "execution_count": 46
        }
      ]
    },
    {
      "metadata": {
        "id": "WBBqFw_wNks0",
        "colab_type": "code",
        "outputId": "aba322ed-2a83-45d4-b3c8-21e036fa56af",
        "colab": {
          "base_uri": "https://localhost:8080/",
          "height": 1969
        }
      },
      "cell_type": "code",
      "source": [
        "timeseries[timeseries['car1'] != 'unknown_1']"
      ],
      "execution_count": 0,
      "outputs": [
        {
          "output_type": "execute_result",
          "data": {
            "text/html": [
              "<div>\n",
              "<style scoped>\n",
              "    .dataframe tbody tr th:only-of-type {\n",
              "        vertical-align: middle;\n",
              "    }\n",
              "\n",
              "    .dataframe tbody tr th {\n",
              "        vertical-align: top;\n",
              "    }\n",
              "\n",
              "    .dataframe thead th {\n",
              "        text-align: right;\n",
              "    }\n",
              "</style>\n",
              "<table border=\"1\" class=\"dataframe\">\n",
              "  <thead>\n",
              "    <tr style=\"text-align: right;\">\n",
              "      <th></th>\n",
              "      <th>dataid</th>\n",
              "      <th>localhour</th>\n",
              "      <th>car1</th>\n",
              "      <th>use</th>\n",
              "      <th>label</th>\n",
              "    </tr>\n",
              "  </thead>\n",
              "  <tbody>\n",
              "    <tr>\n",
              "      <th>8727</th>\n",
              "      <td>661</td>\n",
              "      <td>2017-11-16 00:00:00</td>\n",
              "      <td>0</td>\n",
              "      <td>0.5112</td>\n",
              "      <td>1</td>\n",
              "    </tr>\n",
              "    <tr>\n",
              "      <th>8728</th>\n",
              "      <td>661</td>\n",
              "      <td>2017-11-21 11:00:00</td>\n",
              "      <td>0</td>\n",
              "      <td>0.9484</td>\n",
              "      <td>1</td>\n",
              "    </tr>\n",
              "    <tr>\n",
              "      <th>8729</th>\n",
              "      <td>661</td>\n",
              "      <td>2017-11-21 12:00:00</td>\n",
              "      <td>0</td>\n",
              "      <td>0.4676</td>\n",
              "      <td>1</td>\n",
              "    </tr>\n",
              "    <tr>\n",
              "      <th>8730</th>\n",
              "      <td>661</td>\n",
              "      <td>2017-11-21 13:00:00</td>\n",
              "      <td>0</td>\n",
              "      <td>0.6412</td>\n",
              "      <td>1</td>\n",
              "    </tr>\n",
              "    <tr>\n",
              "      <th>8731</th>\n",
              "      <td>661</td>\n",
              "      <td>2017-11-21 14:00:00</td>\n",
              "      <td>0</td>\n",
              "      <td>0.6829</td>\n",
              "      <td>1</td>\n",
              "    </tr>\n",
              "    <tr>\n",
              "      <th>8732</th>\n",
              "      <td>661</td>\n",
              "      <td>2017-11-21 15:00:00</td>\n",
              "      <td>0</td>\n",
              "      <td>0.4412</td>\n",
              "      <td>1</td>\n",
              "    </tr>\n",
              "    <tr>\n",
              "      <th>8733</th>\n",
              "      <td>661</td>\n",
              "      <td>2017-11-21 16:00:00</td>\n",
              "      <td>0</td>\n",
              "      <td>0.5813</td>\n",
              "      <td>1</td>\n",
              "    </tr>\n",
              "    <tr>\n",
              "      <th>8734</th>\n",
              "      <td>661</td>\n",
              "      <td>2017-11-21 17:00:00</td>\n",
              "      <td>0</td>\n",
              "      <td>0.4275</td>\n",
              "      <td>1</td>\n",
              "    </tr>\n",
              "    <tr>\n",
              "      <th>8735</th>\n",
              "      <td>661</td>\n",
              "      <td>2017-11-28 11:00:00</td>\n",
              "      <td>0</td>\n",
              "      <td>1.2264</td>\n",
              "      <td>1</td>\n",
              "    </tr>\n",
              "    <tr>\n",
              "      <th>8736</th>\n",
              "      <td>661</td>\n",
              "      <td>2017-11-16 01:00:00</td>\n",
              "      <td>0.001433333</td>\n",
              "      <td>0.6034</td>\n",
              "      <td>1</td>\n",
              "    </tr>\n",
              "    <tr>\n",
              "      <th>8737</th>\n",
              "      <td>661</td>\n",
              "      <td>2017-11-16 02:00:00</td>\n",
              "      <td>0</td>\n",
              "      <td>0.8399</td>\n",
              "      <td>1</td>\n",
              "    </tr>\n",
              "    <tr>\n",
              "      <th>8738</th>\n",
              "      <td>661</td>\n",
              "      <td>2017-11-16 03:00:00</td>\n",
              "      <td>0.001466667</td>\n",
              "      <td>0.9294</td>\n",
              "      <td>1</td>\n",
              "    </tr>\n",
              "    <tr>\n",
              "      <th>8739</th>\n",
              "      <td>661</td>\n",
              "      <td>2017-11-16 04:00:00</td>\n",
              "      <td>2.306216667</td>\n",
              "      <td>1.0465</td>\n",
              "      <td>1</td>\n",
              "    </tr>\n",
              "    <tr>\n",
              "      <th>8740</th>\n",
              "      <td>661</td>\n",
              "      <td>2017-11-16 05:00:00</td>\n",
              "      <td>0.66715</td>\n",
              "      <td>1.1066</td>\n",
              "      <td>1</td>\n",
              "    </tr>\n",
              "    <tr>\n",
              "      <th>8741</th>\n",
              "      <td>661</td>\n",
              "      <td>2017-11-16 06:00:00</td>\n",
              "      <td>0</td>\n",
              "      <td>0.8854</td>\n",
              "      <td>1</td>\n",
              "    </tr>\n",
              "    <tr>\n",
              "      <th>8742</th>\n",
              "      <td>661</td>\n",
              "      <td>2017-11-16 07:00:00</td>\n",
              "      <td>0</td>\n",
              "      <td>0.5038</td>\n",
              "      <td>1</td>\n",
              "    </tr>\n",
              "    <tr>\n",
              "      <th>8743</th>\n",
              "      <td>661</td>\n",
              "      <td>2017-11-16 08:00:00</td>\n",
              "      <td>0</td>\n",
              "      <td>0.4365</td>\n",
              "      <td>1</td>\n",
              "    </tr>\n",
              "    <tr>\n",
              "      <th>8744</th>\n",
              "      <td>661</td>\n",
              "      <td>2017-11-16 09:00:00</td>\n",
              "      <td>0</td>\n",
              "      <td>0.5595</td>\n",
              "      <td>1</td>\n",
              "    </tr>\n",
              "    <tr>\n",
              "      <th>8745</th>\n",
              "      <td>661</td>\n",
              "      <td>2017-11-16 10:00:00</td>\n",
              "      <td>0</td>\n",
              "      <td>2.7152</td>\n",
              "      <td>1</td>\n",
              "    </tr>\n",
              "    <tr>\n",
              "      <th>8746</th>\n",
              "      <td>661</td>\n",
              "      <td>2017-11-16 11:00:00</td>\n",
              "      <td>0</td>\n",
              "      <td>1.1315</td>\n",
              "      <td>1</td>\n",
              "    </tr>\n",
              "    <tr>\n",
              "      <th>8747</th>\n",
              "      <td>661</td>\n",
              "      <td>2017-11-16 12:00:00</td>\n",
              "      <td>0</td>\n",
              "      <td>0.5074</td>\n",
              "      <td>1</td>\n",
              "    </tr>\n",
              "    <tr>\n",
              "      <th>8748</th>\n",
              "      <td>661</td>\n",
              "      <td>2017-11-16 13:00:00</td>\n",
              "      <td>0</td>\n",
              "      <td>0.5118</td>\n",
              "      <td>1</td>\n",
              "    </tr>\n",
              "    <tr>\n",
              "      <th>8749</th>\n",
              "      <td>661</td>\n",
              "      <td>2017-11-16 14:00:00</td>\n",
              "      <td>0</td>\n",
              "      <td>0.7141</td>\n",
              "      <td>1</td>\n",
              "    </tr>\n",
              "    <tr>\n",
              "      <th>8750</th>\n",
              "      <td>661</td>\n",
              "      <td>2017-11-16 15:00:00</td>\n",
              "      <td>0</td>\n",
              "      <td>0.5208</td>\n",
              "      <td>1</td>\n",
              "    </tr>\n",
              "    <tr>\n",
              "      <th>8751</th>\n",
              "      <td>661</td>\n",
              "      <td>2017-11-16 16:00:00</td>\n",
              "      <td>0</td>\n",
              "      <td>0.4568</td>\n",
              "      <td>1</td>\n",
              "    </tr>\n",
              "    <tr>\n",
              "      <th>8752</th>\n",
              "      <td>661</td>\n",
              "      <td>2017-11-16 17:00:00</td>\n",
              "      <td>0</td>\n",
              "      <td>0.5799</td>\n",
              "      <td>1</td>\n",
              "    </tr>\n",
              "    <tr>\n",
              "      <th>8753</th>\n",
              "      <td>661</td>\n",
              "      <td>2017-11-16 18:00:00</td>\n",
              "      <td>0</td>\n",
              "      <td>0.4712</td>\n",
              "      <td>1</td>\n",
              "    </tr>\n",
              "    <tr>\n",
              "      <th>8754</th>\n",
              "      <td>661</td>\n",
              "      <td>2017-11-16 19:00:00</td>\n",
              "      <td>0</td>\n",
              "      <td>0.5014</td>\n",
              "      <td>1</td>\n",
              "    </tr>\n",
              "    <tr>\n",
              "      <th>8755</th>\n",
              "      <td>661</td>\n",
              "      <td>2017-11-16 20:00:00</td>\n",
              "      <td>0</td>\n",
              "      <td>0.5504</td>\n",
              "      <td>1</td>\n",
              "    </tr>\n",
              "    <tr>\n",
              "      <th>8756</th>\n",
              "      <td>661</td>\n",
              "      <td>2017-01-03 14:00:00</td>\n",
              "      <td>0</td>\n",
              "      <td>1.2223</td>\n",
              "      <td>1</td>\n",
              "    </tr>\n",
              "    <tr>\n",
              "      <th>...</th>\n",
              "      <td>...</td>\n",
              "      <td>...</td>\n",
              "      <td>...</td>\n",
              "      <td>...</td>\n",
              "      <td>...</td>\n",
              "    </tr>\n",
              "    <tr>\n",
              "      <th>663572</th>\n",
              "      <td>4473</td>\n",
              "      <td>2017-08-20 06:00:00</td>\n",
              "      <td>unknown_0</td>\n",
              "      <td>0.7815</td>\n",
              "      <td>0</td>\n",
              "    </tr>\n",
              "    <tr>\n",
              "      <th>663573</th>\n",
              "      <td>4473</td>\n",
              "      <td>2017-08-20 07:00:00</td>\n",
              "      <td>unknown_0</td>\n",
              "      <td>2.5114</td>\n",
              "      <td>0</td>\n",
              "    </tr>\n",
              "    <tr>\n",
              "      <th>663574</th>\n",
              "      <td>4473</td>\n",
              "      <td>2017-08-20 08:00:00</td>\n",
              "      <td>unknown_0</td>\n",
              "      <td>2.2014</td>\n",
              "      <td>0</td>\n",
              "    </tr>\n",
              "    <tr>\n",
              "      <th>663575</th>\n",
              "      <td>4473</td>\n",
              "      <td>2017-08-20 09:00:00</td>\n",
              "      <td>unknown_0</td>\n",
              "      <td>2.0331</td>\n",
              "      <td>0</td>\n",
              "    </tr>\n",
              "    <tr>\n",
              "      <th>663576</th>\n",
              "      <td>4473</td>\n",
              "      <td>2017-08-20 10:00:00</td>\n",
              "      <td>unknown_0</td>\n",
              "      <td>2.1149</td>\n",
              "      <td>0</td>\n",
              "    </tr>\n",
              "    <tr>\n",
              "      <th>663577</th>\n",
              "      <td>4473</td>\n",
              "      <td>2017-08-20 11:00:00</td>\n",
              "      <td>unknown_0</td>\n",
              "      <td>2.0181</td>\n",
              "      <td>0</td>\n",
              "    </tr>\n",
              "    <tr>\n",
              "      <th>663578</th>\n",
              "      <td>4473</td>\n",
              "      <td>2017-08-20 12:00:00</td>\n",
              "      <td>unknown_0</td>\n",
              "      <td>1.2066</td>\n",
              "      <td>0</td>\n",
              "    </tr>\n",
              "    <tr>\n",
              "      <th>663579</th>\n",
              "      <td>4473</td>\n",
              "      <td>2017-08-20 13:00:00</td>\n",
              "      <td>unknown_0</td>\n",
              "      <td>0.2921</td>\n",
              "      <td>0</td>\n",
              "    </tr>\n",
              "    <tr>\n",
              "      <th>663580</th>\n",
              "      <td>4473</td>\n",
              "      <td>2017-08-20 14:00:00</td>\n",
              "      <td>unknown_0</td>\n",
              "      <td>1.2541</td>\n",
              "      <td>0</td>\n",
              "    </tr>\n",
              "    <tr>\n",
              "      <th>663581</th>\n",
              "      <td>4473</td>\n",
              "      <td>2017-08-20 15:00:00</td>\n",
              "      <td>unknown_0</td>\n",
              "      <td>1.6081</td>\n",
              "      <td>0</td>\n",
              "    </tr>\n",
              "    <tr>\n",
              "      <th>663582</th>\n",
              "      <td>4473</td>\n",
              "      <td>2017-08-20 16:00:00</td>\n",
              "      <td>unknown_0</td>\n",
              "      <td>2.0833</td>\n",
              "      <td>0</td>\n",
              "    </tr>\n",
              "    <tr>\n",
              "      <th>663583</th>\n",
              "      <td>4473</td>\n",
              "      <td>2017-08-20 17:00:00</td>\n",
              "      <td>unknown_0</td>\n",
              "      <td>2.7667</td>\n",
              "      <td>0</td>\n",
              "    </tr>\n",
              "    <tr>\n",
              "      <th>663584</th>\n",
              "      <td>4473</td>\n",
              "      <td>2017-08-20 18:00:00</td>\n",
              "      <td>unknown_0</td>\n",
              "      <td>2.4332</td>\n",
              "      <td>0</td>\n",
              "    </tr>\n",
              "    <tr>\n",
              "      <th>663585</th>\n",
              "      <td>4473</td>\n",
              "      <td>2017-08-20 19:00:00</td>\n",
              "      <td>unknown_0</td>\n",
              "      <td>2.5778</td>\n",
              "      <td>0</td>\n",
              "    </tr>\n",
              "    <tr>\n",
              "      <th>663586</th>\n",
              "      <td>4473</td>\n",
              "      <td>2017-08-20 20:00:00</td>\n",
              "      <td>unknown_0</td>\n",
              "      <td>2.6965</td>\n",
              "      <td>0</td>\n",
              "    </tr>\n",
              "    <tr>\n",
              "      <th>663587</th>\n",
              "      <td>4473</td>\n",
              "      <td>2017-08-20 21:00:00</td>\n",
              "      <td>unknown_0</td>\n",
              "      <td>2.9062</td>\n",
              "      <td>0</td>\n",
              "    </tr>\n",
              "    <tr>\n",
              "      <th>663588</th>\n",
              "      <td>4473</td>\n",
              "      <td>2017-08-20 22:00:00</td>\n",
              "      <td>unknown_0</td>\n",
              "      <td>1.5529</td>\n",
              "      <td>0</td>\n",
              "    </tr>\n",
              "    <tr>\n",
              "      <th>663589</th>\n",
              "      <td>4473</td>\n",
              "      <td>2017-08-20 23:00:00</td>\n",
              "      <td>unknown_0</td>\n",
              "      <td>2.3394</td>\n",
              "      <td>0</td>\n",
              "    </tr>\n",
              "    <tr>\n",
              "      <th>663590</th>\n",
              "      <td>4473</td>\n",
              "      <td>2017-08-21 00:00:00</td>\n",
              "      <td>unknown_0</td>\n",
              "      <td>2.5545</td>\n",
              "      <td>0</td>\n",
              "    </tr>\n",
              "    <tr>\n",
              "      <th>663591</th>\n",
              "      <td>4473</td>\n",
              "      <td>2017-08-21 01:00:00</td>\n",
              "      <td>unknown_0</td>\n",
              "      <td>2.6051</td>\n",
              "      <td>0</td>\n",
              "    </tr>\n",
              "    <tr>\n",
              "      <th>663592</th>\n",
              "      <td>4473</td>\n",
              "      <td>2017-08-21 02:00:00</td>\n",
              "      <td>unknown_0</td>\n",
              "      <td>2.4554</td>\n",
              "      <td>0</td>\n",
              "    </tr>\n",
              "    <tr>\n",
              "      <th>663593</th>\n",
              "      <td>4473</td>\n",
              "      <td>2017-08-21 03:00:00</td>\n",
              "      <td>unknown_0</td>\n",
              "      <td>2.3311</td>\n",
              "      <td>0</td>\n",
              "    </tr>\n",
              "    <tr>\n",
              "      <th>663594</th>\n",
              "      <td>4473</td>\n",
              "      <td>2017-08-21 04:00:00</td>\n",
              "      <td>unknown_0</td>\n",
              "      <td>2.3626</td>\n",
              "      <td>0</td>\n",
              "    </tr>\n",
              "    <tr>\n",
              "      <th>663595</th>\n",
              "      <td>4473</td>\n",
              "      <td>2017-08-21 05:00:00</td>\n",
              "      <td>unknown_0</td>\n",
              "      <td>2.2394</td>\n",
              "      <td>0</td>\n",
              "    </tr>\n",
              "    <tr>\n",
              "      <th>663596</th>\n",
              "      <td>4473</td>\n",
              "      <td>2017-08-21 06:00:00</td>\n",
              "      <td>unknown_0</td>\n",
              "      <td>1.2161</td>\n",
              "      <td>0</td>\n",
              "    </tr>\n",
              "    <tr>\n",
              "      <th>663597</th>\n",
              "      <td>4473</td>\n",
              "      <td>2017-08-21 07:00:00</td>\n",
              "      <td>unknown_0</td>\n",
              "      <td>1.7652</td>\n",
              "      <td>0</td>\n",
              "    </tr>\n",
              "    <tr>\n",
              "      <th>663598</th>\n",
              "      <td>4473</td>\n",
              "      <td>2017-08-21 08:00:00</td>\n",
              "      <td>unknown_0</td>\n",
              "      <td>1.2199</td>\n",
              "      <td>0</td>\n",
              "    </tr>\n",
              "    <tr>\n",
              "      <th>663599</th>\n",
              "      <td>4473</td>\n",
              "      <td>2017-08-21 09:00:00</td>\n",
              "      <td>unknown_0</td>\n",
              "      <td>0.8885</td>\n",
              "      <td>0</td>\n",
              "    </tr>\n",
              "    <tr>\n",
              "      <th>663600</th>\n",
              "      <td>4473</td>\n",
              "      <td>2017-08-21 10:00:00</td>\n",
              "      <td>unknown_0</td>\n",
              "      <td>1.1317</td>\n",
              "      <td>0</td>\n",
              "    </tr>\n",
              "    <tr>\n",
              "      <th>663601</th>\n",
              "      <td>4473</td>\n",
              "      <td>2017-08-21 11:00:00</td>\n",
              "      <td>unknown_0</td>\n",
              "      <td>0.8021</td>\n",
              "      <td>0</td>\n",
              "    </tr>\n",
              "  </tbody>\n",
              "</table>\n",
              "<p>643776 rows × 5 columns</p>\n",
              "</div>"
            ],
            "text/plain": [
              "        dataid           localhour         car1    use  label\n",
              "8727       661 2017-11-16 00:00:00            0 0.5112      1\n",
              "8728       661 2017-11-21 11:00:00            0 0.9484      1\n",
              "8729       661 2017-11-21 12:00:00            0 0.4676      1\n",
              "8730       661 2017-11-21 13:00:00            0 0.6412      1\n",
              "8731       661 2017-11-21 14:00:00            0 0.6829      1\n",
              "8732       661 2017-11-21 15:00:00            0 0.4412      1\n",
              "8733       661 2017-11-21 16:00:00            0 0.5813      1\n",
              "8734       661 2017-11-21 17:00:00            0 0.4275      1\n",
              "8735       661 2017-11-28 11:00:00            0 1.2264      1\n",
              "8736       661 2017-11-16 01:00:00  0.001433333 0.6034      1\n",
              "8737       661 2017-11-16 02:00:00            0 0.8399      1\n",
              "8738       661 2017-11-16 03:00:00  0.001466667 0.9294      1\n",
              "8739       661 2017-11-16 04:00:00  2.306216667 1.0465      1\n",
              "8740       661 2017-11-16 05:00:00      0.66715 1.1066      1\n",
              "8741       661 2017-11-16 06:00:00            0 0.8854      1\n",
              "8742       661 2017-11-16 07:00:00            0 0.5038      1\n",
              "8743       661 2017-11-16 08:00:00            0 0.4365      1\n",
              "8744       661 2017-11-16 09:00:00            0 0.5595      1\n",
              "8745       661 2017-11-16 10:00:00            0 2.7152      1\n",
              "8746       661 2017-11-16 11:00:00            0 1.1315      1\n",
              "8747       661 2017-11-16 12:00:00            0 0.5074      1\n",
              "8748       661 2017-11-16 13:00:00            0 0.5118      1\n",
              "8749       661 2017-11-16 14:00:00            0 0.7141      1\n",
              "8750       661 2017-11-16 15:00:00            0 0.5208      1\n",
              "8751       661 2017-11-16 16:00:00            0 0.4568      1\n",
              "8752       661 2017-11-16 17:00:00            0 0.5799      1\n",
              "8753       661 2017-11-16 18:00:00            0 0.4712      1\n",
              "8754       661 2017-11-16 19:00:00            0 0.5014      1\n",
              "8755       661 2017-11-16 20:00:00            0 0.5504      1\n",
              "8756       661 2017-01-03 14:00:00            0 1.2223      1\n",
              "...        ...                 ...          ...    ...    ...\n",
              "663572    4473 2017-08-20 06:00:00    unknown_0 0.7815      0\n",
              "663573    4473 2017-08-20 07:00:00    unknown_0 2.5114      0\n",
              "663574    4473 2017-08-20 08:00:00    unknown_0 2.2014      0\n",
              "663575    4473 2017-08-20 09:00:00    unknown_0 2.0331      0\n",
              "663576    4473 2017-08-20 10:00:00    unknown_0 2.1149      0\n",
              "663577    4473 2017-08-20 11:00:00    unknown_0 2.0181      0\n",
              "663578    4473 2017-08-20 12:00:00    unknown_0 1.2066      0\n",
              "663579    4473 2017-08-20 13:00:00    unknown_0 0.2921      0\n",
              "663580    4473 2017-08-20 14:00:00    unknown_0 1.2541      0\n",
              "663581    4473 2017-08-20 15:00:00    unknown_0 1.6081      0\n",
              "663582    4473 2017-08-20 16:00:00    unknown_0 2.0833      0\n",
              "663583    4473 2017-08-20 17:00:00    unknown_0 2.7667      0\n",
              "663584    4473 2017-08-20 18:00:00    unknown_0 2.4332      0\n",
              "663585    4473 2017-08-20 19:00:00    unknown_0 2.5778      0\n",
              "663586    4473 2017-08-20 20:00:00    unknown_0 2.6965      0\n",
              "663587    4473 2017-08-20 21:00:00    unknown_0 2.9062      0\n",
              "663588    4473 2017-08-20 22:00:00    unknown_0 1.5529      0\n",
              "663589    4473 2017-08-20 23:00:00    unknown_0 2.3394      0\n",
              "663590    4473 2017-08-21 00:00:00    unknown_0 2.5545      0\n",
              "663591    4473 2017-08-21 01:00:00    unknown_0 2.6051      0\n",
              "663592    4473 2017-08-21 02:00:00    unknown_0 2.4554      0\n",
              "663593    4473 2017-08-21 03:00:00    unknown_0 2.3311      0\n",
              "663594    4473 2017-08-21 04:00:00    unknown_0 2.3626      0\n",
              "663595    4473 2017-08-21 05:00:00    unknown_0 2.2394      0\n",
              "663596    4473 2017-08-21 06:00:00    unknown_0 1.2161      0\n",
              "663597    4473 2017-08-21 07:00:00    unknown_0 1.7652      0\n",
              "663598    4473 2017-08-21 08:00:00    unknown_0 1.2199      0\n",
              "663599    4473 2017-08-21 09:00:00    unknown_0 0.8885      0\n",
              "663600    4473 2017-08-21 10:00:00    unknown_0 1.1317      0\n",
              "663601    4473 2017-08-21 11:00:00    unknown_0 0.8021      0\n",
              "\n",
              "[643776 rows x 5 columns]"
            ]
          },
          "metadata": {
            "tags": []
          },
          "execution_count": 63
        }
      ]
    },
    {
      "metadata": {
        "id": "jODi8LRrvpVg",
        "colab_type": "text"
      },
      "cell_type": "markdown",
      "source": [
        "## Update 'timeseries' dataset"
      ]
    },
    {
      "metadata": {
        "id": "Zhw9JoAwvo0D",
        "colab_type": "code",
        "outputId": "b10534cc-e565-422f-b2e2-21847d470123",
        "colab": {
          "base_uri": "https://localhost:8080/",
          "height": 238
        }
      },
      "cell_type": "code",
      "source": [
        "from pandas import read_csv\n",
        "timeseries = importfile(file_id = '1-3K7zt0JBJWPI03JNTsHnzw2JFO0bnr-')\n",
        "series = read_csv('timeseries.csv',index_col=0)\n",
        "\n",
        "series.sort_values(by = ['dataid', 'localhour'], ascending=[True, True], inplace=True)\n",
        "series.head()"
      ],
      "execution_count": 0,
      "outputs": [
        {
          "output_type": "stream",
          "text": [
            "Drive file (title: timeseries.csv, id: 1-3K7zt0JBJWPI03JNTsHnzw2JFO0bnr-)\n",
            "file path: /content/timeseries.csv\n"
          ],
          "name": "stdout"
        },
        {
          "output_type": "execute_result",
          "data": {
            "text/html": [
              "<div>\n",
              "<style scoped>\n",
              "    .dataframe tbody tr th:only-of-type {\n",
              "        vertical-align: middle;\n",
              "    }\n",
              "\n",
              "    .dataframe tbody tr th {\n",
              "        vertical-align: top;\n",
              "    }\n",
              "\n",
              "    .dataframe thead th {\n",
              "        text-align: right;\n",
              "    }\n",
              "</style>\n",
              "<table border=\"1\" class=\"dataframe\">\n",
              "  <thead>\n",
              "    <tr style=\"text-align: right;\">\n",
              "      <th></th>\n",
              "      <th>dataid</th>\n",
              "      <th>localhour</th>\n",
              "      <th>car1</th>\n",
              "      <th>use</th>\n",
              "      <th>label</th>\n",
              "    </tr>\n",
              "  </thead>\n",
              "  <tbody>\n",
              "    <tr>\n",
              "      <th>10</th>\n",
              "      <td>410</td>\n",
              "      <td>2017-01-01 00:00:00</td>\n",
              "      <td>unknown_1</td>\n",
              "      <td>0.0000</td>\n",
              "      <td>1</td>\n",
              "    </tr>\n",
              "    <tr>\n",
              "      <th>11</th>\n",
              "      <td>410</td>\n",
              "      <td>2017-01-01 01:00:00</td>\n",
              "      <td>unknown_1</td>\n",
              "      <td>0.0000</td>\n",
              "      <td>1</td>\n",
              "    </tr>\n",
              "    <tr>\n",
              "      <th>12</th>\n",
              "      <td>410</td>\n",
              "      <td>2017-01-01 02:00:00</td>\n",
              "      <td>unknown_1</td>\n",
              "      <td>0.0000</td>\n",
              "      <td>1</td>\n",
              "    </tr>\n",
              "    <tr>\n",
              "      <th>13</th>\n",
              "      <td>410</td>\n",
              "      <td>2017-01-01 03:00:00</td>\n",
              "      <td>unknown_1</td>\n",
              "      <td>0.0000</td>\n",
              "      <td>1</td>\n",
              "    </tr>\n",
              "    <tr>\n",
              "      <th>14</th>\n",
              "      <td>410</td>\n",
              "      <td>2017-01-01 04:00:00</td>\n",
              "      <td>unknown_1</td>\n",
              "      <td>0.0000</td>\n",
              "      <td>1</td>\n",
              "    </tr>\n",
              "  </tbody>\n",
              "</table>\n",
              "</div>"
            ],
            "text/plain": [
              "    dataid            localhour       car1    use  label\n",
              "10     410  2017-01-01 00:00:00  unknown_1 0.0000      1\n",
              "11     410  2017-01-01 01:00:00  unknown_1 0.0000      1\n",
              "12     410  2017-01-01 02:00:00  unknown_1 0.0000      1\n",
              "13     410  2017-01-01 03:00:00  unknown_1 0.0000      1\n",
              "14     410  2017-01-01 04:00:00  unknown_1 0.0000      1"
            ]
          },
          "metadata": {
            "tags": []
          },
          "execution_count": 9
        }
      ]
    },
    {
      "metadata": {
        "id": "Be6R28y3599z",
        "colab_type": "text"
      },
      "cell_type": "markdown",
      "source": [
        "## Monut 'timeseries' dataset to google drive"
      ]
    },
    {
      "metadata": {
        "id": "3aP5Q4joVbJf",
        "colab_type": "code",
        "outputId": "fdbd4596-b737-485a-f599-5018daf2e70a",
        "colab": {
          "base_uri": "https://localhost:8080/",
          "height": 122
        }
      },
      "cell_type": "code",
      "source": [
        "from google.colab import drive\n",
        "drive.mount('drive')\n",
        "\n",
        "series.to_csv('timeseries.csv')\n",
        "!cp timeseries.csv drive/My\\ Drive/"
      ],
      "execution_count": 0,
      "outputs": [
        {
          "output_type": "stream",
          "text": [
            "Go to this URL in a browser: https://accounts.google.com/o/oauth2/auth?client_id=947318989803-6bn6qk8qdgf4n4g3pfee6491hc0brc4i.apps.googleusercontent.com&redirect_uri=urn%3Aietf%3Awg%3Aoauth%3A2.0%3Aoob&scope=email%20https%3A%2F%2Fwww.googleapis.com%2Fauth%2Fdocs.test%20https%3A%2F%2Fwww.googleapis.com%2Fauth%2Fdrive%20https%3A%2F%2Fwww.googleapis.com%2Fauth%2Fdrive.photos.readonly%20https%3A%2F%2Fwww.googleapis.com%2Fauth%2Fpeopleapi.readonly&response_type=code\n",
            "\n",
            "Enter your authorization code:\n",
            "··········\n",
            "Mounted at drive\n"
          ],
          "name": "stdout"
        }
      ]
    },
    {
      "metadata": {
        "id": "utV2cnesLgcC",
        "colab_type": "text"
      },
      "cell_type": "markdown",
      "source": [
        "## Import 'weather' dataset"
      ]
    },
    {
      "metadata": {
        "id": "MPeG6Z_M0cW1",
        "colab_type": "code",
        "outputId": "07f54d99-63c6-4405-872a-cc7126ce14e8",
        "colab": {
          "base_uri": "https://localhost:8080/",
          "height": 238
        }
      },
      "cell_type": "code",
      "source": [
        "weather = importfile(file_id = '1V1qT6o65vB0XsSFs2a3GL1u6QCJTn0R9')\n",
        "weather = pd.read_csv(os.path.join(\"/content\",\"weather.csv\"), header = 0, keep_default_na = False)\n",
        "weather.head()"
      ],
      "execution_count": 0,
      "outputs": [
        {
          "output_type": "stream",
          "text": [
            "Drive file (title: weather.csv, id: 1V1qT6o65vB0XsSFs2a3GL1u6QCJTn0R9)\n",
            "file path: /content/weather.csv\n"
          ],
          "name": "stdout"
        },
        {
          "output_type": "execute_result",
          "data": {
            "text/html": [
              "<div>\n",
              "<style scoped>\n",
              "    .dataframe tbody tr th:only-of-type {\n",
              "        vertical-align: middle;\n",
              "    }\n",
              "\n",
              "    .dataframe tbody tr th {\n",
              "        vertical-align: top;\n",
              "    }\n",
              "\n",
              "    .dataframe thead th {\n",
              "        text-align: right;\n",
              "    }\n",
              "</style>\n",
              "<table border=\"1\" class=\"dataframe\">\n",
              "  <thead>\n",
              "    <tr style=\"text-align: right;\">\n",
              "      <th></th>\n",
              "      <th>localhour</th>\n",
              "      <th>latitude</th>\n",
              "      <th>longitude</th>\n",
              "      <th>temperature</th>\n",
              "      <th>humidity</th>\n",
              "      <th>wind_speed</th>\n",
              "    </tr>\n",
              "  </thead>\n",
              "  <tbody>\n",
              "    <tr>\n",
              "      <th>0</th>\n",
              "      <td>2017-01-01 00:00:00-06</td>\n",
              "      <td>30.2924</td>\n",
              "      <td>-97.6997</td>\n",
              "      <td>66.5600</td>\n",
              "      <td>0.7200</td>\n",
              "      <td>4.0000</td>\n",
              "    </tr>\n",
              "    <tr>\n",
              "      <th>1</th>\n",
              "      <td>2017-01-01 01:00:00-06</td>\n",
              "      <td>30.2924</td>\n",
              "      <td>-97.6997</td>\n",
              "      <td>63.5300</td>\n",
              "      <td>0.8300</td>\n",
              "      <td>4.9300</td>\n",
              "    </tr>\n",
              "    <tr>\n",
              "      <th>2</th>\n",
              "      <td>2017-01-01 02:00:00-06</td>\n",
              "      <td>30.2924</td>\n",
              "      <td>-97.6997</td>\n",
              "      <td>61.5300</td>\n",
              "      <td>0.8700</td>\n",
              "      <td>4.8800</td>\n",
              "    </tr>\n",
              "    <tr>\n",
              "      <th>3</th>\n",
              "      <td>2017-01-01 03:00:00-06</td>\n",
              "      <td>30.2924</td>\n",
              "      <td>-97.6997</td>\n",
              "      <td>60.3700</td>\n",
              "      <td>0.9200</td>\n",
              "      <td>4.4400</td>\n",
              "    </tr>\n",
              "    <tr>\n",
              "      <th>4</th>\n",
              "      <td>2017-01-01 04:00:00-06</td>\n",
              "      <td>30.2924</td>\n",
              "      <td>-97.6997</td>\n",
              "      <td>59.1400</td>\n",
              "      <td>0.9400</td>\n",
              "      <td>4.5400</td>\n",
              "    </tr>\n",
              "  </tbody>\n",
              "</table>\n",
              "</div>"
            ],
            "text/plain": [
              "                localhour  latitude  longitude  temperature  humidity  \\\n",
              "0  2017-01-01 00:00:00-06   30.2924   -97.6997      66.5600    0.7200   \n",
              "1  2017-01-01 01:00:00-06   30.2924   -97.6997      63.5300    0.8300   \n",
              "2  2017-01-01 02:00:00-06   30.2924   -97.6997      61.5300    0.8700   \n",
              "3  2017-01-01 03:00:00-06   30.2924   -97.6997      60.3700    0.9200   \n",
              "4  2017-01-01 04:00:00-06   30.2924   -97.6997      59.1400    0.9400   \n",
              "\n",
              "   wind_speed  \n",
              "0      4.0000  \n",
              "1      4.9300  \n",
              "2      4.8800  \n",
              "3      4.4400  \n",
              "4      4.5400  "
            ]
          },
          "metadata": {
            "tags": []
          },
          "execution_count": 17
        }
      ]
    },
    {
      "metadata": {
        "id": "tTLnhUxSL57N",
        "colab_type": "code",
        "outputId": "dab0fd9d-9b7d-4340-963e-c42693b9e46d",
        "colab": {
          "base_uri": "https://localhost:8080/",
          "height": 204
        }
      },
      "cell_type": "code",
      "source": [
        "weather['Coordinates'] = list(zip(weather.longitude, weather.latitude))\n",
        "weather.head()"
      ],
      "execution_count": 0,
      "outputs": [
        {
          "output_type": "execute_result",
          "data": {
            "text/html": [
              "<div>\n",
              "<style scoped>\n",
              "    .dataframe tbody tr th:only-of-type {\n",
              "        vertical-align: middle;\n",
              "    }\n",
              "\n",
              "    .dataframe tbody tr th {\n",
              "        vertical-align: top;\n",
              "    }\n",
              "\n",
              "    .dataframe thead th {\n",
              "        text-align: right;\n",
              "    }\n",
              "</style>\n",
              "<table border=\"1\" class=\"dataframe\">\n",
              "  <thead>\n",
              "    <tr style=\"text-align: right;\">\n",
              "      <th></th>\n",
              "      <th>localhour</th>\n",
              "      <th>latitude</th>\n",
              "      <th>longitude</th>\n",
              "      <th>temperature</th>\n",
              "      <th>humidity</th>\n",
              "      <th>wind_speed</th>\n",
              "      <th>Coordinates</th>\n",
              "    </tr>\n",
              "  </thead>\n",
              "  <tbody>\n",
              "    <tr>\n",
              "      <th>0</th>\n",
              "      <td>2017-01-01 00:00:00-06</td>\n",
              "      <td>30.2924</td>\n",
              "      <td>-97.6997</td>\n",
              "      <td>66.5600</td>\n",
              "      <td>0.7200</td>\n",
              "      <td>4.0000</td>\n",
              "      <td>(-97.699662, 30.292432)</td>\n",
              "    </tr>\n",
              "    <tr>\n",
              "      <th>1</th>\n",
              "      <td>2017-01-01 01:00:00-06</td>\n",
              "      <td>30.2924</td>\n",
              "      <td>-97.6997</td>\n",
              "      <td>63.5300</td>\n",
              "      <td>0.8300</td>\n",
              "      <td>4.9300</td>\n",
              "      <td>(-97.699662, 30.292432)</td>\n",
              "    </tr>\n",
              "    <tr>\n",
              "      <th>2</th>\n",
              "      <td>2017-01-01 02:00:00-06</td>\n",
              "      <td>30.2924</td>\n",
              "      <td>-97.6997</td>\n",
              "      <td>61.5300</td>\n",
              "      <td>0.8700</td>\n",
              "      <td>4.8800</td>\n",
              "      <td>(-97.699662, 30.292432)</td>\n",
              "    </tr>\n",
              "    <tr>\n",
              "      <th>3</th>\n",
              "      <td>2017-01-01 03:00:00-06</td>\n",
              "      <td>30.2924</td>\n",
              "      <td>-97.6997</td>\n",
              "      <td>60.3700</td>\n",
              "      <td>0.9200</td>\n",
              "      <td>4.4400</td>\n",
              "      <td>(-97.699662, 30.292432)</td>\n",
              "    </tr>\n",
              "    <tr>\n",
              "      <th>4</th>\n",
              "      <td>2017-01-01 04:00:00-06</td>\n",
              "      <td>30.2924</td>\n",
              "      <td>-97.6997</td>\n",
              "      <td>59.1400</td>\n",
              "      <td>0.9400</td>\n",
              "      <td>4.5400</td>\n",
              "      <td>(-97.699662, 30.292432)</td>\n",
              "    </tr>\n",
              "  </tbody>\n",
              "</table>\n",
              "</div>"
            ],
            "text/plain": [
              "                localhour  latitude  longitude  temperature  humidity  \\\n",
              "0  2017-01-01 00:00:00-06   30.2924   -97.6997      66.5600    0.7200   \n",
              "1  2017-01-01 01:00:00-06   30.2924   -97.6997      63.5300    0.8300   \n",
              "2  2017-01-01 02:00:00-06   30.2924   -97.6997      61.5300    0.8700   \n",
              "3  2017-01-01 03:00:00-06   30.2924   -97.6997      60.3700    0.9200   \n",
              "4  2017-01-01 04:00:00-06   30.2924   -97.6997      59.1400    0.9400   \n",
              "\n",
              "   wind_speed              Coordinates  \n",
              "0      4.0000  (-97.699662, 30.292432)  \n",
              "1      4.9300  (-97.699662, 30.292432)  \n",
              "2      4.8800  (-97.699662, 30.292432)  \n",
              "3      4.4400  (-97.699662, 30.292432)  \n",
              "4      4.5400  (-97.699662, 30.292432)  "
            ]
          },
          "metadata": {
            "tags": []
          },
          "execution_count": 19
        }
      ]
    },
    {
      "metadata": {
        "id": "WPr_OcZOVud0",
        "colab_type": "code",
        "outputId": "7645223b-7939-434f-b0d5-d7d3259db759",
        "colab": {
          "base_uri": "https://localhost:8080/",
          "height": 85
        }
      },
      "cell_type": "code",
      "source": [
        "weather.Coordinates.value_counts()"
      ],
      "execution_count": 0,
      "outputs": [
        {
          "output_type": "execute_result",
          "data": {
            "text/plain": [
              "(-117.15188500000001, 32.778033)    8855\n",
              "(-105.256111, 40.027278)            8854\n",
              "(-97.699662, 30.292432)             8829\n",
              "Name: Coordinates, dtype: int64"
            ]
          },
          "metadata": {
            "tags": []
          },
          "execution_count": 20
        }
      ]
    },
    {
      "metadata": {
        "id": "SZk8wTzpZ2bw",
        "colab_type": "text"
      },
      "cell_type": "markdown",
      "source": [
        "### Delete 'California' dataset Coordinate(-117.15188500000001, 32.778033)"
      ]
    },
    {
      "metadata": {
        "id": "xT5O6oxZY9Rf",
        "colab_type": "code",
        "outputId": "5c227358-cd65-47f0-a439-c85d4fb2cf09",
        "colab": {
          "base_uri": "https://localhost:8080/",
          "height": 68
        }
      },
      "cell_type": "code",
      "source": [
        "weather = weather[weather['Coordinates'] != (-117.15188500000001, 32.778033)]\n",
        "weather.Coordinates.value_counts()"
      ],
      "execution_count": 0,
      "outputs": [
        {
          "output_type": "execute_result",
          "data": {
            "text/plain": [
              "(-105.256111, 40.027278)    8854\n",
              "(-97.699662, 30.292432)     8829\n",
              "Name: Coordinates, dtype: int64"
            ]
          },
          "metadata": {
            "tags": []
          },
          "execution_count": 21
        }
      ]
    },
    {
      "metadata": {
        "id": "B0OLQNPmMZAw",
        "colab_type": "code",
        "outputId": "ce2afb4c-6d84-49f8-ac51-5f41a764778a",
        "colab": {
          "base_uri": "https://localhost:8080/",
          "height": 238
        }
      },
      "cell_type": "code",
      "source": [
        "weather['Coordinates'] = weather['Coordinates'].apply(Point)\n",
        "gdf = geopandas.GeoDataFrame(weather, geometry='Coordinates')\n",
        "print(gdf.head())"
      ],
      "execution_count": 0,
      "outputs": [
        {
          "output_type": "stream",
          "text": [
            "                localhour  latitude  longitude  temperature  humidity  \\\n",
            "0  2017-01-01 00:00:00-06   30.2924   -97.6997      66.5600    0.7200   \n",
            "1  2017-01-01 01:00:00-06   30.2924   -97.6997      63.5300    0.8300   \n",
            "2  2017-01-01 02:00:00-06   30.2924   -97.6997      61.5300    0.8700   \n",
            "3  2017-01-01 03:00:00-06   30.2924   -97.6997      60.3700    0.9200   \n",
            "4  2017-01-01 04:00:00-06   30.2924   -97.6997      59.1400    0.9400   \n",
            "\n",
            "   wind_speed                   Coordinates  \n",
            "0      4.0000  POINT (-97.699662 30.292432)  \n",
            "1      4.9300  POINT (-97.699662 30.292432)  \n",
            "2      4.8800  POINT (-97.699662 30.292432)  \n",
            "3      4.4400  POINT (-97.699662 30.292432)  \n",
            "4      4.5400  POINT (-97.699662 30.292432)  \n"
          ],
          "name": "stdout"
        }
      ]
    },
    {
      "metadata": {
        "id": "cVeqGvzNQRh8",
        "colab_type": "code",
        "outputId": "23522a1c-b64a-433f-976f-14b6e01f6f8a",
        "colab": {
          "base_uri": "https://localhost:8080/",
          "height": 208
        }
      },
      "cell_type": "code",
      "source": [
        "world = geopandas.read_file(geopandas.datasets.get_path('naturalearth_lowres'))\n",
        "\n",
        "# We restrict to North America.\n",
        "ax = world[world.continent == 'North America'].plot(\n",
        "    color='white', edgecolor='black')\n",
        "\n",
        "# We can now plot our GeoDataFrame.\n",
        "gdf.plot(ax=ax, color='red')\n",
        "\n",
        "plt.show()"
      ],
      "execution_count": 0,
      "outputs": [
        {
          "output_type": "display_data",
          "data": {
            "image/png": "[encoded data removed]",
            "text/plain": [
              "<Figure size 432x288 with 1 Axes>"
            ]
          },
          "metadata": {
            "tags": []
          }
        }
      ]
    },
    {
      "metadata": {
        "id": "JbU6Hj5ZRdHb",
        "colab_type": "code",
        "outputId": "46fd5a8d-2e85-4ad2-f86c-89ee2f3e105b",
        "colab": {
          "base_uri": "https://localhost:8080/",
          "height": 34
        }
      },
      "cell_type": "code",
      "source": [
        "gdf.longitude.nunique()"
      ],
      "execution_count": 0,
      "outputs": [
        {
          "output_type": "execute_result",
          "data": {
            "text/plain": [
              "2"
            ]
          },
          "metadata": {
            "tags": []
          },
          "execution_count": 73
        }
      ]
    },
    {
      "metadata": {
        "id": "r7LrgK39kT34",
        "colab_type": "text"
      },
      "cell_type": "markdown",
      "source": [
        "### Create a new cloumn called 'state' based on the Coordinates"
      ]
    },
    {
      "metadata": {
        "id": "21XnfBq9meyZ",
        "colab_type": "code",
        "colab": {}
      },
      "cell_type": "code",
      "source": [
        "weather.loc[weather['Coordinates'] == (-97.699662, 30.292432) , 'state'] = 'Texas'\n",
        "weather.loc[weather['Coordinates'] == (-105.256111, 40.027278), 'state'] = 'Colorado'"
      ],
      "execution_count": 0,
      "outputs": []
    },
    {
      "metadata": {
        "id": "-WL8oSW9lhKk",
        "colab_type": "code",
        "outputId": "3ec376d0-fa8b-4bfb-be89-f5d964f625c7",
        "colab": {
          "base_uri": "https://localhost:8080/",
          "height": 68
        }
      },
      "cell_type": "code",
      "source": [
        "weather.state.value_counts()"
      ],
      "execution_count": 0,
      "outputs": [
        {
          "output_type": "execute_result",
          "data": {
            "text/plain": [
              "Colorado    8854\n",
              "Texas       8829\n",
              "Name: state, dtype: int64"
            ]
          },
          "metadata": {
            "tags": []
          },
          "execution_count": 23
        }
      ]
    },
    {
      "metadata": {
        "id": "1z0lo9UKm7M4",
        "colab_type": "code",
        "colab": {}
      },
      "cell_type": "code",
      "source": [
        "weather['temperature'] = (weather['temperature']-32)/1.8"
      ],
      "execution_count": 0,
      "outputs": []
    },
    {
      "metadata": {
        "id": "NC9ZqTgntiu_",
        "colab_type": "code",
        "outputId": "2f896066-29e1-4abe-fe38-5b9fb63d8f60",
        "colab": {
          "base_uri": "https://localhost:8080/",
          "height": 204
        }
      },
      "cell_type": "code",
      "source": [
        "weather.head()"
      ],
      "execution_count": 0,
      "outputs": [
        {
          "output_type": "execute_result",
          "data": {
            "text/html": [
              "<div>\n",
              "<style scoped>\n",
              "    .dataframe tbody tr th:only-of-type {\n",
              "        vertical-align: middle;\n",
              "    }\n",
              "\n",
              "    .dataframe tbody tr th {\n",
              "        vertical-align: top;\n",
              "    }\n",
              "\n",
              "    .dataframe thead th {\n",
              "        text-align: right;\n",
              "    }\n",
              "</style>\n",
              "<table border=\"1\" class=\"dataframe\">\n",
              "  <thead>\n",
              "    <tr style=\"text-align: right;\">\n",
              "      <th></th>\n",
              "      <th>localhour</th>\n",
              "      <th>latitude</th>\n",
              "      <th>longitude</th>\n",
              "      <th>temperature</th>\n",
              "      <th>humidity</th>\n",
              "      <th>wind_speed</th>\n",
              "      <th>Coordinates</th>\n",
              "      <th>state</th>\n",
              "    </tr>\n",
              "  </thead>\n",
              "  <tbody>\n",
              "    <tr>\n",
              "      <th>0</th>\n",
              "      <td>2017-01-01 00:00:00-06</td>\n",
              "      <td>30.2924</td>\n",
              "      <td>-97.6997</td>\n",
              "      <td>19.2000</td>\n",
              "      <td>0.7200</td>\n",
              "      <td>4.0000</td>\n",
              "      <td>(-97.699662, 30.292432)</td>\n",
              "      <td>Texas</td>\n",
              "    </tr>\n",
              "    <tr>\n",
              "      <th>1</th>\n",
              "      <td>2017-01-01 01:00:00-06</td>\n",
              "      <td>30.2924</td>\n",
              "      <td>-97.6997</td>\n",
              "      <td>17.5167</td>\n",
              "      <td>0.8300</td>\n",
              "      <td>4.9300</td>\n",
              "      <td>(-97.699662, 30.292432)</td>\n",
              "      <td>Texas</td>\n",
              "    </tr>\n",
              "    <tr>\n",
              "      <th>2</th>\n",
              "      <td>2017-01-01 02:00:00-06</td>\n",
              "      <td>30.2924</td>\n",
              "      <td>-97.6997</td>\n",
              "      <td>16.4056</td>\n",
              "      <td>0.8700</td>\n",
              "      <td>4.8800</td>\n",
              "      <td>(-97.699662, 30.292432)</td>\n",
              "      <td>Texas</td>\n",
              "    </tr>\n",
              "    <tr>\n",
              "      <th>3</th>\n",
              "      <td>2017-01-01 03:00:00-06</td>\n",
              "      <td>30.2924</td>\n",
              "      <td>-97.6997</td>\n",
              "      <td>15.7611</td>\n",
              "      <td>0.9200</td>\n",
              "      <td>4.4400</td>\n",
              "      <td>(-97.699662, 30.292432)</td>\n",
              "      <td>Texas</td>\n",
              "    </tr>\n",
              "    <tr>\n",
              "      <th>4</th>\n",
              "      <td>2017-01-01 04:00:00-06</td>\n",
              "      <td>30.2924</td>\n",
              "      <td>-97.6997</td>\n",
              "      <td>15.0778</td>\n",
              "      <td>0.9400</td>\n",
              "      <td>4.5400</td>\n",
              "      <td>(-97.699662, 30.292432)</td>\n",
              "      <td>Texas</td>\n",
              "    </tr>\n",
              "  </tbody>\n",
              "</table>\n",
              "</div>"
            ],
            "text/plain": [
              "                localhour  latitude  longitude  temperature  humidity  \\\n",
              "0  2017-01-01 00:00:00-06   30.2924   -97.6997      19.2000    0.7200   \n",
              "1  2017-01-01 01:00:00-06   30.2924   -97.6997      17.5167    0.8300   \n",
              "2  2017-01-01 02:00:00-06   30.2924   -97.6997      16.4056    0.8700   \n",
              "3  2017-01-01 03:00:00-06   30.2924   -97.6997      15.7611    0.9200   \n",
              "4  2017-01-01 04:00:00-06   30.2924   -97.6997      15.0778    0.9400   \n",
              "\n",
              "   wind_speed              Coordinates  state  \n",
              "0      4.0000  (-97.699662, 30.292432)  Texas  \n",
              "1      4.9300  (-97.699662, 30.292432)  Texas  \n",
              "2      4.8800  (-97.699662, 30.292432)  Texas  \n",
              "3      4.4400  (-97.699662, 30.292432)  Texas  \n",
              "4      4.5400  (-97.699662, 30.292432)  Texas  "
            ]
          },
          "metadata": {
            "tags": []
          },
          "execution_count": 25
        }
      ]
    },
    {
      "metadata": {
        "id": "KMqUxG4avTsu",
        "colab_type": "text"
      },
      "cell_type": "markdown",
      "source": [
        "### Change weather.localhour from object to datetime "
      ]
    },
    {
      "metadata": {
        "id": "_h9qqr5PvWZk",
        "colab_type": "code",
        "outputId": "47a17d53-ad41-498d-cff1-b9fb543099c0",
        "colab": {
          "base_uri": "https://localhost:8080/",
          "height": 1071
        }
      },
      "cell_type": "code",
      "source": [
        "weather['localhour'] = pd.to_datetime(weather['localhour'])\n",
        "weather.localhour"
      ],
      "execution_count": 0,
      "outputs": [
        {
          "output_type": "execute_result",
          "data": {
            "text/plain": [
              "0       2017-01-01 06:00:00\n",
              "1       2017-01-01 07:00:00\n",
              "2       2017-01-01 08:00:00\n",
              "3       2017-01-01 09:00:00\n",
              "4       2017-01-01 10:00:00\n",
              "5       2017-01-01 11:00:00\n",
              "6       2017-01-01 12:00:00\n",
              "7       2017-01-01 13:00:00\n",
              "8       2017-01-01 14:00:00\n",
              "9       2017-01-01 15:00:00\n",
              "10      2017-01-01 16:00:00\n",
              "11      2017-01-01 17:00:00\n",
              "12      2017-01-01 18:00:00\n",
              "13      2017-01-01 19:00:00\n",
              "14      2017-01-01 20:00:00\n",
              "15      2017-01-01 21:00:00\n",
              "16      2017-01-01 22:00:00\n",
              "17      2017-01-01 23:00:00\n",
              "18      2017-01-02 00:00:00\n",
              "19      2017-01-02 01:00:00\n",
              "20      2017-01-02 02:00:00\n",
              "21      2017-01-02 03:00:00\n",
              "22      2017-01-02 04:00:00\n",
              "23      2017-01-02 05:00:00\n",
              "24      2017-01-02 06:00:00\n",
              "25      2017-01-02 07:00:00\n",
              "26      2017-01-02 08:00:00\n",
              "27      2017-01-02 09:00:00\n",
              "28      2017-01-02 10:00:00\n",
              "29      2017-01-02 11:00:00\n",
              "                ...        \n",
              "24717   2017-11-28 00:00:00\n",
              "24718   2017-11-28 01:00:00\n",
              "24719   2017-11-28 02:00:00\n",
              "24720   2017-11-28 03:00:00\n",
              "24721   2017-11-28 04:00:00\n",
              "24722   2017-11-28 05:00:00\n",
              "24723   2017-11-28 06:00:00\n",
              "24724   2017-11-28 07:00:00\n",
              "24725   2017-11-28 08:00:00\n",
              "24726   2017-11-28 09:00:00\n",
              "24727   2017-11-28 10:00:00\n",
              "24728   2017-11-28 11:00:00\n",
              "24729   2017-11-28 12:00:00\n",
              "24730   2017-11-28 13:00:00\n",
              "24731   2017-11-28 14:00:00\n",
              "24732   2017-11-28 15:00:00\n",
              "24733   2017-11-28 16:00:00\n",
              "24734   2017-11-28 17:00:00\n",
              "24735   2017-11-28 18:00:00\n",
              "24736   2017-11-28 19:00:00\n",
              "24737   2017-11-28 20:00:00\n",
              "24738   2017-11-28 21:00:00\n",
              "24739   2017-11-28 22:00:00\n",
              "24740   2017-11-28 23:00:00\n",
              "24741   2017-11-29 00:00:00\n",
              "24742   2017-11-29 01:00:00\n",
              "24743   2017-11-29 02:00:00\n",
              "24744   2017-11-29 03:00:00\n",
              "24745   2017-11-29 04:00:00\n",
              "24746   2017-11-29 05:00:00\n",
              "Name: localhour, Length: 17683, dtype: datetime64[ns]"
            ]
          },
          "metadata": {
            "tags": []
          },
          "execution_count": 26
        }
      ]
    },
    {
      "metadata": {
        "id": "WhbRj22PpAcP",
        "colab_type": "text"
      },
      "cell_type": "markdown",
      "source": [
        "### Create a new column called 'ssd' （Human Comfort)"
      ]
    },
    {
      "metadata": {
        "id": "_JD2Lp5Wpi-w",
        "colab_type": "code",
        "outputId": "95bc9546-c29a-4fbf-ea65-69ee739a2b39",
        "colab": {
          "base_uri": "https://localhost:8080/",
          "height": 235
        }
      },
      "cell_type": "code",
      "source": [
        "def ssd(row):\n",
        "   return float((1.818 * row['temperature']+ 18.18)*(0.88 + 0.002 * row['humidity'])+(row['temperature']- 32) / (45 - row['temperature'])- 3.2 * row['wind_speed'] + 18.2)\n",
        "  \n",
        "weather['ssd'] = weather.apply (lambda row: ssd(row), axis=1)\n",
        "weather.head(5)"
      ],
      "execution_count": 0,
      "outputs": [
        {
          "output_type": "execute_result",
          "data": {
            "text/html": [
              "<div>\n",
              "<style scoped>\n",
              "    .dataframe tbody tr th:only-of-type {\n",
              "        vertical-align: middle;\n",
              "    }\n",
              "\n",
              "    .dataframe tbody tr th {\n",
              "        vertical-align: top;\n",
              "    }\n",
              "\n",
              "    .dataframe thead th {\n",
              "        text-align: right;\n",
              "    }\n",
              "</style>\n",
              "<table border=\"1\" class=\"dataframe\">\n",
              "  <thead>\n",
              "    <tr style=\"text-align: right;\">\n",
              "      <th></th>\n",
              "      <th>latitude</th>\n",
              "      <th>longitude</th>\n",
              "      <th>temperature</th>\n",
              "      <th>humidity</th>\n",
              "      <th>wind_speed</th>\n",
              "      <th>Coordinates</th>\n",
              "      <th>state</th>\n",
              "      <th>ssd</th>\n",
              "    </tr>\n",
              "    <tr>\n",
              "      <th>localhour</th>\n",
              "      <th></th>\n",
              "      <th></th>\n",
              "      <th></th>\n",
              "      <th></th>\n",
              "      <th></th>\n",
              "      <th></th>\n",
              "      <th></th>\n",
              "      <th></th>\n",
              "    </tr>\n",
              "  </thead>\n",
              "  <tbody>\n",
              "    <tr>\n",
              "      <th>2017-01-01 06:00:00</th>\n",
              "      <td>30.2924</td>\n",
              "      <td>-97.6997</td>\n",
              "      <td>19.2000</td>\n",
              "      <td>0.7200</td>\n",
              "      <td>4.0000</td>\n",
              "      <td>(-97.699662, 30.292432)</td>\n",
              "      <td>Texas</td>\n",
              "      <td>51.6956</td>\n",
              "    </tr>\n",
              "    <tr>\n",
              "      <th>2017-01-01 07:00:00</th>\n",
              "      <td>30.2924</td>\n",
              "      <td>-97.6997</td>\n",
              "      <td>17.5167</td>\n",
              "      <td>0.8300</td>\n",
              "      <td>4.9300</td>\n",
              "      <td>(-97.699662, 30.292432)</td>\n",
              "      <td>Texas</td>\n",
              "      <td>46.0023</td>\n",
              "    </tr>\n",
              "    <tr>\n",
              "      <th>2017-01-01 08:00:00</th>\n",
              "      <td>30.2924</td>\n",
              "      <td>-97.6997</td>\n",
              "      <td>16.4056</td>\n",
              "      <td>0.8700</td>\n",
              "      <td>4.8800</td>\n",
              "      <td>(-97.699662, 30.292432)</td>\n",
              "      <td>Texas</td>\n",
              "      <td>44.3668</td>\n",
              "    </tr>\n",
              "    <tr>\n",
              "      <th>2017-01-01 09:00:00</th>\n",
              "      <td>30.2924</td>\n",
              "      <td>-97.6997</td>\n",
              "      <td>15.7611</td>\n",
              "      <td>0.9200</td>\n",
              "      <td>4.4400</td>\n",
              "      <td>(-97.699662, 30.292432)</td>\n",
              "      <td>Texas</td>\n",
              "      <td>44.7364</td>\n",
              "    </tr>\n",
              "    <tr>\n",
              "      <th>2017-01-01 10:00:00</th>\n",
              "      <td>30.2924</td>\n",
              "      <td>-97.6997</td>\n",
              "      <td>15.0778</td>\n",
              "      <td>0.9400</td>\n",
              "      <td>4.5400</td>\n",
              "      <td>(-97.699662, 30.292432)</td>\n",
              "      <td>Texas</td>\n",
              "      <td>43.3126</td>\n",
              "    </tr>\n",
              "  </tbody>\n",
              "</table>\n",
              "</div>"
            ],
            "text/plain": [
              "                     latitude  longitude  temperature  humidity  wind_speed  \\\n",
              "localhour                                                                     \n",
              "2017-01-01 06:00:00   30.2924   -97.6997      19.2000    0.7200      4.0000   \n",
              "2017-01-01 07:00:00   30.2924   -97.6997      17.5167    0.8300      4.9300   \n",
              "2017-01-01 08:00:00   30.2924   -97.6997      16.4056    0.8700      4.8800   \n",
              "2017-01-01 09:00:00   30.2924   -97.6997      15.7611    0.9200      4.4400   \n",
              "2017-01-01 10:00:00   30.2924   -97.6997      15.0778    0.9400      4.5400   \n",
              "\n",
              "                                 Coordinates  state     ssd  \n",
              "localhour                                                    \n",
              "2017-01-01 06:00:00  (-97.699662, 30.292432)  Texas 51.6956  \n",
              "2017-01-01 07:00:00  (-97.699662, 30.292432)  Texas 46.0023  \n",
              "2017-01-01 08:00:00  (-97.699662, 30.292432)  Texas 44.3668  \n",
              "2017-01-01 09:00:00  (-97.699662, 30.292432)  Texas 44.7364  \n",
              "2017-01-01 10:00:00  (-97.699662, 30.292432)  Texas 43.3126  "
            ]
          },
          "metadata": {
            "tags": []
          },
          "execution_count": 36
        }
      ]
    },
    {
      "metadata": {
        "id": "Huwg446sM94n",
        "colab_type": "text"
      },
      "cell_type": "markdown",
      "source": [
        "### Calculate the daily average temperature"
      ]
    },
    {
      "metadata": {
        "id": "yGuv2tvKNFXQ",
        "colab_type": "code",
        "colab": {}
      },
      "cell_type": "code",
      "source": [
        "weather.set_index('localhour', inplace=True)\n",
        "weather_Texas = weather[weather['state'] == 'Texas']\n",
        "weather_Colorado = weather[weather['state'] == 'Colorado']"
      ],
      "execution_count": 0,
      "outputs": []
    },
    {
      "metadata": {
        "id": "2VFM-_czM6Fu",
        "colab_type": "code",
        "outputId": "e931d06e-7368-42ba-f0b3-7d447c564048",
        "colab": {
          "base_uri": "https://localhost:8080/",
          "height": 700
        }
      },
      "cell_type": "code",
      "source": [
        "daily_weather_Texas = pd.DataFrame()\n",
        "daily_weather_Texas['ssd'] = weather_Texas['ssd'].resample('D').mean()\n",
        "daily_weather_Texas['state'] = 'Texas'\n",
        "daily_weather_Texas.head(20)"
      ],
      "execution_count": 0,
      "outputs": [
        {
          "output_type": "execute_result",
          "data": {
            "text/html": [
              "<div>\n",
              "<style scoped>\n",
              "    .dataframe tbody tr th:only-of-type {\n",
              "        vertical-align: middle;\n",
              "    }\n",
              "\n",
              "    .dataframe tbody tr th {\n",
              "        vertical-align: top;\n",
              "    }\n",
              "\n",
              "    .dataframe thead th {\n",
              "        text-align: right;\n",
              "    }\n",
              "</style>\n",
              "<table border=\"1\" class=\"dataframe\">\n",
              "  <thead>\n",
              "    <tr style=\"text-align: right;\">\n",
              "      <th></th>\n",
              "      <th>ssd</th>\n",
              "      <th>state</th>\n",
              "    </tr>\n",
              "    <tr>\n",
              "      <th>localhour</th>\n",
              "      <th></th>\n",
              "      <th></th>\n",
              "    </tr>\n",
              "  </thead>\n",
              "  <tbody>\n",
              "    <tr>\n",
              "      <th>2017-01-01</th>\n",
              "      <td>43.9108</td>\n",
              "      <td>Texas</td>\n",
              "    </tr>\n",
              "    <tr>\n",
              "      <th>2017-01-02</th>\n",
              "      <td>40.2390</td>\n",
              "      <td>Texas</td>\n",
              "    </tr>\n",
              "    <tr>\n",
              "      <th>2017-01-03</th>\n",
              "      <td>40.8041</td>\n",
              "      <td>Texas</td>\n",
              "    </tr>\n",
              "    <tr>\n",
              "      <th>2017-01-04</th>\n",
              "      <td>17.8573</td>\n",
              "      <td>Texas</td>\n",
              "    </tr>\n",
              "    <tr>\n",
              "      <th>2017-01-05</th>\n",
              "      <td>29.5382</td>\n",
              "      <td>Texas</td>\n",
              "    </tr>\n",
              "    <tr>\n",
              "      <th>2017-01-06</th>\n",
              "      <td>-6.8677</td>\n",
              "      <td>Texas</td>\n",
              "    </tr>\n",
              "    <tr>\n",
              "      <th>2017-01-07</th>\n",
              "      <td>-9.5941</td>\n",
              "      <td>Texas</td>\n",
              "    </tr>\n",
              "    <tr>\n",
              "      <th>2017-01-08</th>\n",
              "      <td>19.6015</td>\n",
              "      <td>Texas</td>\n",
              "    </tr>\n",
              "    <tr>\n",
              "      <th>2017-01-09</th>\n",
              "      <td>24.9293</td>\n",
              "      <td>Texas</td>\n",
              "    </tr>\n",
              "    <tr>\n",
              "      <th>2017-01-10</th>\n",
              "      <td>20.5600</td>\n",
              "      <td>Texas</td>\n",
              "    </tr>\n",
              "    <tr>\n",
              "      <th>2017-01-11</th>\n",
              "      <td>33.4624</td>\n",
              "      <td>Texas</td>\n",
              "    </tr>\n",
              "    <tr>\n",
              "      <th>2017-01-12</th>\n",
              "      <td>28.7525</td>\n",
              "      <td>Texas</td>\n",
              "    </tr>\n",
              "    <tr>\n",
              "      <th>2017-01-13</th>\n",
              "      <td>41.5302</td>\n",
              "      <td>Texas</td>\n",
              "    </tr>\n",
              "    <tr>\n",
              "      <th>2017-01-14</th>\n",
              "      <td>34.4364</td>\n",
              "      <td>Texas</td>\n",
              "    </tr>\n",
              "    <tr>\n",
              "      <th>2017-01-15</th>\n",
              "      <td>32.1141</td>\n",
              "      <td>Texas</td>\n",
              "    </tr>\n",
              "    <tr>\n",
              "      <th>2017-01-16</th>\n",
              "      <td>40.6218</td>\n",
              "      <td>Texas</td>\n",
              "    </tr>\n",
              "    <tr>\n",
              "      <th>2017-01-17</th>\n",
              "      <td>34.4294</td>\n",
              "      <td>Texas</td>\n",
              "    </tr>\n",
              "    <tr>\n",
              "      <th>2017-01-18</th>\n",
              "      <td>22.2709</td>\n",
              "      <td>Texas</td>\n",
              "    </tr>\n",
              "    <tr>\n",
              "      <th>2017-01-19</th>\n",
              "      <td>36.9348</td>\n",
              "      <td>Texas</td>\n",
              "    </tr>\n",
              "    <tr>\n",
              "      <th>2017-01-20</th>\n",
              "      <td>35.1347</td>\n",
              "      <td>Texas</td>\n",
              "    </tr>\n",
              "  </tbody>\n",
              "</table>\n",
              "</div>"
            ],
            "text/plain": [
              "               ssd  state\n",
              "localhour                \n",
              "2017-01-01 43.9108  Texas\n",
              "2017-01-02 40.2390  Texas\n",
              "2017-01-03 40.8041  Texas\n",
              "2017-01-04 17.8573  Texas\n",
              "2017-01-05 29.5382  Texas\n",
              "2017-01-06 -6.8677  Texas\n",
              "2017-01-07 -9.5941  Texas\n",
              "2017-01-08 19.6015  Texas\n",
              "2017-01-09 24.9293  Texas\n",
              "2017-01-10 20.5600  Texas\n",
              "2017-01-11 33.4624  Texas\n",
              "2017-01-12 28.7525  Texas\n",
              "2017-01-13 41.5302  Texas\n",
              "2017-01-14 34.4364  Texas\n",
              "2017-01-15 32.1141  Texas\n",
              "2017-01-16 40.6218  Texas\n",
              "2017-01-17 34.4294  Texas\n",
              "2017-01-18 22.2709  Texas\n",
              "2017-01-19 36.9348  Texas\n",
              "2017-01-20 35.1347  Texas"
            ]
          },
          "metadata": {
            "tags": []
          },
          "execution_count": 32
        }
      ]
    },
    {
      "metadata": {
        "id": "Gt8nHxgyO8Ym",
        "colab_type": "code",
        "outputId": "dd1e381d-d1e0-4a9e-d1d1-bcdea0c8c6b5",
        "colab": {
          "base_uri": "https://localhost:8080/",
          "height": 700
        }
      },
      "cell_type": "code",
      "source": [
        "daily_weather_Colorado = pd.DataFrame()\n",
        "daily_weather_Colorado['ssd'] = weather_Colorado['ssd'].resample('D').mean()\n",
        "daily_weather_Colorado['state'] = 'Colorado'\n",
        "daily_weather_Colorado.head(20)"
      ],
      "execution_count": 0,
      "outputs": [
        {
          "output_type": "execute_result",
          "data": {
            "text/html": [
              "<div>\n",
              "<style scoped>\n",
              "    .dataframe tbody tr th:only-of-type {\n",
              "        vertical-align: middle;\n",
              "    }\n",
              "\n",
              "    .dataframe tbody tr th {\n",
              "        vertical-align: top;\n",
              "    }\n",
              "\n",
              "    .dataframe thead th {\n",
              "        text-align: right;\n",
              "    }\n",
              "</style>\n",
              "<table border=\"1\" class=\"dataframe\">\n",
              "  <thead>\n",
              "    <tr style=\"text-align: right;\">\n",
              "      <th></th>\n",
              "      <th>ssd</th>\n",
              "      <th>state</th>\n",
              "    </tr>\n",
              "    <tr>\n",
              "      <th>localhour</th>\n",
              "      <th></th>\n",
              "      <th></th>\n",
              "    </tr>\n",
              "  </thead>\n",
              "  <tbody>\n",
              "    <tr>\n",
              "      <th>2017-01-01</th>\n",
              "      <td>24.3115</td>\n",
              "      <td>Colorado</td>\n",
              "    </tr>\n",
              "    <tr>\n",
              "      <th>2017-01-02</th>\n",
              "      <td>21.5850</td>\n",
              "      <td>Colorado</td>\n",
              "    </tr>\n",
              "    <tr>\n",
              "      <th>2017-01-03</th>\n",
              "      <td>14.6962</td>\n",
              "      <td>Colorado</td>\n",
              "    </tr>\n",
              "    <tr>\n",
              "      <th>2017-01-04</th>\n",
              "      <td>10.5928</td>\n",
              "      <td>Colorado</td>\n",
              "    </tr>\n",
              "    <tr>\n",
              "      <th>2017-01-05</th>\n",
              "      <td>-3.3870</td>\n",
              "      <td>Colorado</td>\n",
              "    </tr>\n",
              "    <tr>\n",
              "      <th>2017-01-06</th>\n",
              "      <td>-2.4982</td>\n",
              "      <td>Colorado</td>\n",
              "    </tr>\n",
              "    <tr>\n",
              "      <th>2017-01-07</th>\n",
              "      <td>3.1841</td>\n",
              "      <td>Colorado</td>\n",
              "    </tr>\n",
              "    <tr>\n",
              "      <th>2017-01-08</th>\n",
              "      <td>10.4532</td>\n",
              "      <td>Colorado</td>\n",
              "    </tr>\n",
              "    <tr>\n",
              "      <th>2017-01-09</th>\n",
              "      <td>8.5668</td>\n",
              "      <td>Colorado</td>\n",
              "    </tr>\n",
              "    <tr>\n",
              "      <th>2017-01-10</th>\n",
              "      <td>-3.9905</td>\n",
              "      <td>Colorado</td>\n",
              "    </tr>\n",
              "    <tr>\n",
              "      <th>2017-01-11</th>\n",
              "      <td>-7.8017</td>\n",
              "      <td>Colorado</td>\n",
              "    </tr>\n",
              "    <tr>\n",
              "      <th>2017-01-12</th>\n",
              "      <td>11.2057</td>\n",
              "      <td>Colorado</td>\n",
              "    </tr>\n",
              "    <tr>\n",
              "      <th>2017-01-13</th>\n",
              "      <td>12.9176</td>\n",
              "      <td>Colorado</td>\n",
              "    </tr>\n",
              "    <tr>\n",
              "      <th>2017-01-14</th>\n",
              "      <td>22.8325</td>\n",
              "      <td>Colorado</td>\n",
              "    </tr>\n",
              "    <tr>\n",
              "      <th>2017-01-15</th>\n",
              "      <td>25.3556</td>\n",
              "      <td>Colorado</td>\n",
              "    </tr>\n",
              "    <tr>\n",
              "      <th>2017-01-16</th>\n",
              "      <td>20.2504</td>\n",
              "      <td>Colorado</td>\n",
              "    </tr>\n",
              "    <tr>\n",
              "      <th>2017-01-17</th>\n",
              "      <td>22.1930</td>\n",
              "      <td>Colorado</td>\n",
              "    </tr>\n",
              "    <tr>\n",
              "      <th>2017-01-18</th>\n",
              "      <td>23.2956</td>\n",
              "      <td>Colorado</td>\n",
              "    </tr>\n",
              "    <tr>\n",
              "      <th>2017-01-19</th>\n",
              "      <td>28.9495</td>\n",
              "      <td>Colorado</td>\n",
              "    </tr>\n",
              "    <tr>\n",
              "      <th>2017-01-20</th>\n",
              "      <td>31.4538</td>\n",
              "      <td>Colorado</td>\n",
              "    </tr>\n",
              "  </tbody>\n",
              "</table>\n",
              "</div>"
            ],
            "text/plain": [
              "               ssd     state\n",
              "localhour                   \n",
              "2017-01-01 24.3115  Colorado\n",
              "2017-01-02 21.5850  Colorado\n",
              "2017-01-03 14.6962  Colorado\n",
              "2017-01-04 10.5928  Colorado\n",
              "2017-01-05 -3.3870  Colorado\n",
              "2017-01-06 -2.4982  Colorado\n",
              "2017-01-07  3.1841  Colorado\n",
              "2017-01-08 10.4532  Colorado\n",
              "2017-01-09  8.5668  Colorado\n",
              "2017-01-10 -3.9905  Colorado\n",
              "2017-01-11 -7.8017  Colorado\n",
              "2017-01-12 11.2057  Colorado\n",
              "2017-01-13 12.9176  Colorado\n",
              "2017-01-14 22.8325  Colorado\n",
              "2017-01-15 25.3556  Colorado\n",
              "2017-01-16 20.2504  Colorado\n",
              "2017-01-17 22.1930  Colorado\n",
              "2017-01-18 23.2956  Colorado\n",
              "2017-01-19 28.9495  Colorado\n",
              "2017-01-20 31.4538  Colorado"
            ]
          },
          "metadata": {
            "tags": []
          },
          "execution_count": 33
        }
      ]
    },
    {
      "metadata": {
        "id": "r2G7oP1XQHoy",
        "colab_type": "text"
      },
      "cell_type": "markdown",
      "source": [
        "### Concatenate 'daily_weather_Texas' and 'daily_weather_Colorado'"
      ]
    },
    {
      "metadata": {
        "id": "B1XO1Gm3QRjf",
        "colab_type": "code",
        "colab": {}
      },
      "cell_type": "code",
      "source": [
        "weather_new = pd.concat([daily_weather_Texas, daily_weather_Colorado])"
      ],
      "execution_count": 0,
      "outputs": []
    },
    {
      "metadata": {
        "id": "g14-of10Qhvt",
        "colab_type": "code",
        "colab": {}
      },
      "cell_type": "code",
      "source": [
        "weather_new.reset_index(inplace= True)"
      ],
      "execution_count": 0,
      "outputs": []
    },
    {
      "metadata": {
        "id": "Xc2btc7cSdIS",
        "colab_type": "code",
        "outputId": "ee1466ee-9275-46d4-e7f9-d3bda4204d4c",
        "colab": {
          "base_uri": "https://localhost:8080/",
          "height": 1088
        }
      },
      "cell_type": "code",
      "source": [
        "weather_new = weather_new['ssd']\n",
        "weather_new"
      ],
      "execution_count": 0,
      "outputs": [
        {
          "output_type": "execute_result",
          "data": {
            "text/plain": [
              "localhour\n",
              "2017-01-01   43.9108\n",
              "2017-01-02   40.2390\n",
              "2017-01-03   40.8041\n",
              "2017-01-04   17.8573\n",
              "2017-01-05   29.5382\n",
              "2017-01-06   -6.8677\n",
              "2017-01-07   -9.5941\n",
              "2017-01-08   19.6015\n",
              "2017-01-09   24.9293\n",
              "2017-01-10   20.5600\n",
              "2017-01-11   33.4624\n",
              "2017-01-12   28.7525\n",
              "2017-01-13   41.5302\n",
              "2017-01-14   34.4364\n",
              "2017-01-15   32.1141\n",
              "2017-01-16   40.6218\n",
              "2017-01-17   34.4294\n",
              "2017-01-18   22.2709\n",
              "2017-01-19   36.9348\n",
              "2017-01-20   35.1347\n",
              "2017-01-21   47.8029\n",
              "2017-01-22   17.3117\n",
              "2017-01-23   25.3952\n",
              "2017-01-24   36.0049\n",
              "2017-01-25   35.6319\n",
              "2017-01-26   23.8728\n",
              "2017-01-27   27.5232\n",
              "2017-01-28   23.9907\n",
              "2017-01-29   23.9508\n",
              "2017-01-30   32.9377\n",
              "               ...  \n",
              "2017-12-02   41.3405\n",
              "2017-12-03   41.2340\n",
              "2017-12-04   23.7005\n",
              "2017-12-05   27.0254\n",
              "2017-12-06   25.4760\n",
              "2017-12-07   21.9282\n",
              "2017-12-08   35.5326\n",
              "2017-12-09   39.7717\n",
              "2017-12-10   38.8266\n",
              "2017-12-11   39.4478\n",
              "2017-12-12   39.1945\n",
              "2017-12-13   38.1299\n",
              "2017-12-14   31.7364\n",
              "2017-12-15   30.2218\n",
              "2017-12-16   40.4911\n",
              "2017-12-17   30.9778\n",
              "2017-12-18   30.1593\n",
              "2017-12-19   34.8431\n",
              "2017-12-20   38.2613\n",
              "2017-12-21   21.9464\n",
              "2017-12-22   19.7772\n",
              "2017-12-23   22.4520\n",
              "2017-12-24   11.3190\n",
              "2017-12-25   15.8798\n",
              "2017-12-26   11.3108\n",
              "2017-12-27   16.8867\n",
              "2017-12-28   33.3579\n",
              "2017-12-29   38.0108\n",
              "2017-12-30   16.1169\n",
              "2017-12-31   14.8591\n",
              "Name: ssd, Length: 730, dtype: float64"
            ]
          },
          "metadata": {
            "tags": []
          },
          "execution_count": 84
        }
      ]
    },
    {
      "metadata": {
        "id": "Qb0snWMBxF1b",
        "colab_type": "text"
      },
      "cell_type": "markdown",
      "source": [
        "### Export 'weather' dataset"
      ]
    },
    {
      "metadata": {
        "id": "VOBMqV95w3GM",
        "colab_type": "code",
        "outputId": "1797c314-a834-4a56-fcf6-e51936b06935",
        "colab": {
          "base_uri": "https://localhost:8080/",
          "height": 122
        }
      },
      "cell_type": "code",
      "source": [
        "from google.colab import drive\n",
        "drive.mount('drive')\n",
        "\n",
        "weather_new.to_csv('weather_new.csv')\n",
        "!cp weather_new.csv drive/My\\ Drive/"
      ],
      "execution_count": 0,
      "outputs": [
        {
          "output_type": "stream",
          "text": [
            "Go to this URL in a browser: https://accounts.google.com/o/oauth2/auth?client_id=947318989803-6bn6qk8qdgf4n4g3pfee6491hc0brc4i.apps.googleusercontent.com&redirect_uri=urn%3Aietf%3Awg%3Aoauth%3A2.0%3Aoob&scope=email%20https%3A%2F%2Fwww.googleapis.com%2Fauth%2Fdocs.test%20https%3A%2F%2Fwww.googleapis.com%2Fauth%2Fdrive%20https%3A%2F%2Fwww.googleapis.com%2Fauth%2Fdrive.photos.readonly%20https%3A%2F%2Fwww.googleapis.com%2Fauth%2Fpeopleapi.readonly&response_type=code\n",
            "\n",
            "Enter your authorization code:\n",
            "··········\n",
            "Mounted at drive\n"
          ],
          "name": "stdout"
        }
      ]
    },
    {
      "metadata": {
        "id": "L6AvP6-TinKH",
        "colab_type": "text"
      },
      "cell_type": "markdown",
      "source": [
        "## Merge 'final' and 'weather' datasets (new feature 'ssd')"
      ]
    },
    {
      "metadata": {
        "id": "1SajmHszSNox",
        "colab_type": "code",
        "outputId": "f970505a-8b06-47d0-e8c0-68fa4d70551f",
        "colab": {
          "base_uri": "https://localhost:8080/",
          "height": 389
        }
      },
      "cell_type": "code",
      "source": [
        "final = importfile(file_id = '1-1uSVok5sd2IB8JrOLV68AFNDHe_tzCs')\n",
        "final = pd.read_csv(os.path.join(\"/content\",\"final.csv\"), header = 0, keep_default_na = False)\n",
        "final.head()"
      ],
      "execution_count": 0,
      "outputs": [
        {
          "output_type": "stream",
          "text": [
            "Drive file (title: final.csv, id: 1-1uSVok5sd2IB8JrOLV68AFNDHe_tzCs)\n",
            "file path: /content/final.csv\n"
          ],
          "name": "stdout"
        },
        {
          "output_type": "execute_result",
          "data": {
            "text/html": [
              "<div>\n",
              "<style scoped>\n",
              "    .dataframe tbody tr th:only-of-type {\n",
              "        vertical-align: middle;\n",
              "    }\n",
              "\n",
              "    .dataframe tbody tr th {\n",
              "        vertical-align: top;\n",
              "    }\n",
              "\n",
              "    .dataframe thead th {\n",
              "        text-align: right;\n",
              "    }\n",
              "</style>\n",
              "<table border=\"1\" class=\"dataframe\">\n",
              "  <thead>\n",
              "    <tr style=\"text-align: right;\">\n",
              "      <th></th>\n",
              "      <th>Unnamed: 0</th>\n",
              "      <th>dataid</th>\n",
              "      <th>localhour</th>\n",
              "      <th>car1</th>\n",
              "      <th>state</th>\n",
              "      <th>label</th>\n",
              "      <th>vehicle_type_Chevrolet Volt</th>\n",
              "      <th>vehicle_type_Mitsubishi i-MiEV</th>\n",
              "      <th>vehicle_type_Nissan Leaf</th>\n",
              "      <th>vehicle_type_Tesla Model S</th>\n",
              "      <th>...</th>\n",
              "      <th>electric_vehicle_buy_again_unknown_1</th>\n",
              "      <th>city_Austin</th>\n",
              "      <th>city_Boulder</th>\n",
              "      <th>city_Coppell</th>\n",
              "      <th>city_Dallas</th>\n",
              "      <th>city_Houston</th>\n",
              "      <th>city_Humble</th>\n",
              "      <th>city_Plano</th>\n",
              "      <th>city_Round Rock</th>\n",
              "      <th>use</th>\n",
              "    </tr>\n",
              "  </thead>\n",
              "  <tbody>\n",
              "    <tr>\n",
              "      <th>0</th>\n",
              "      <td>0</td>\n",
              "      <td>410</td>\n",
              "      <td>2017-01-29 11:00:00</td>\n",
              "      <td>unknown_1</td>\n",
              "      <td>Texas</td>\n",
              "      <td>1</td>\n",
              "      <td>0</td>\n",
              "      <td>0</td>\n",
              "      <td>1</td>\n",
              "      <td>0</td>\n",
              "      <td>...</td>\n",
              "      <td>0</td>\n",
              "      <td>1</td>\n",
              "      <td>0</td>\n",
              "      <td>0</td>\n",
              "      <td>0</td>\n",
              "      <td>0</td>\n",
              "      <td>0</td>\n",
              "      <td>0</td>\n",
              "      <td>0</td>\n",
              "      <td>0.1904</td>\n",
              "    </tr>\n",
              "    <tr>\n",
              "      <th>1</th>\n",
              "      <td>1</td>\n",
              "      <td>410</td>\n",
              "      <td>2017-04-20 13:00:00</td>\n",
              "      <td>unknown_1</td>\n",
              "      <td>Texas</td>\n",
              "      <td>1</td>\n",
              "      <td>0</td>\n",
              "      <td>0</td>\n",
              "      <td>1</td>\n",
              "      <td>0</td>\n",
              "      <td>...</td>\n",
              "      <td>0</td>\n",
              "      <td>1</td>\n",
              "      <td>0</td>\n",
              "      <td>0</td>\n",
              "      <td>0</td>\n",
              "      <td>0</td>\n",
              "      <td>0</td>\n",
              "      <td>0</td>\n",
              "      <td>0</td>\n",
              "      <td>0.4522</td>\n",
              "    </tr>\n",
              "    <tr>\n",
              "      <th>2</th>\n",
              "      <td>2</td>\n",
              "      <td>410</td>\n",
              "      <td>2017-05-07 12:00:00</td>\n",
              "      <td>unknown_1</td>\n",
              "      <td>Texas</td>\n",
              "      <td>1</td>\n",
              "      <td>0</td>\n",
              "      <td>0</td>\n",
              "      <td>1</td>\n",
              "      <td>0</td>\n",
              "      <td>...</td>\n",
              "      <td>0</td>\n",
              "      <td>1</td>\n",
              "      <td>0</td>\n",
              "      <td>0</td>\n",
              "      <td>0</td>\n",
              "      <td>0</td>\n",
              "      <td>0</td>\n",
              "      <td>0</td>\n",
              "      <td>0</td>\n",
              "      <td>0.1344</td>\n",
              "    </tr>\n",
              "    <tr>\n",
              "      <th>3</th>\n",
              "      <td>3</td>\n",
              "      <td>410</td>\n",
              "      <td>2017-05-07 13:00:00</td>\n",
              "      <td>unknown_1</td>\n",
              "      <td>Texas</td>\n",
              "      <td>1</td>\n",
              "      <td>0</td>\n",
              "      <td>0</td>\n",
              "      <td>1</td>\n",
              "      <td>0</td>\n",
              "      <td>...</td>\n",
              "      <td>0</td>\n",
              "      <td>1</td>\n",
              "      <td>0</td>\n",
              "      <td>0</td>\n",
              "      <td>0</td>\n",
              "      <td>0</td>\n",
              "      <td>0</td>\n",
              "      <td>0</td>\n",
              "      <td>0</td>\n",
              "      <td>0.1437</td>\n",
              "    </tr>\n",
              "    <tr>\n",
              "      <th>4</th>\n",
              "      <td>4</td>\n",
              "      <td>410</td>\n",
              "      <td>2017-05-10 11:00:00</td>\n",
              "      <td>unknown_1</td>\n",
              "      <td>Texas</td>\n",
              "      <td>1</td>\n",
              "      <td>0</td>\n",
              "      <td>0</td>\n",
              "      <td>1</td>\n",
              "      <td>0</td>\n",
              "      <td>...</td>\n",
              "      <td>0</td>\n",
              "      <td>1</td>\n",
              "      <td>0</td>\n",
              "      <td>0</td>\n",
              "      <td>0</td>\n",
              "      <td>0</td>\n",
              "      <td>0</td>\n",
              "      <td>0</td>\n",
              "      <td>0</td>\n",
              "      <td>0.2219</td>\n",
              "    </tr>\n",
              "  </tbody>\n",
              "</table>\n",
              "<p>5 rows × 156 columns</p>\n",
              "</div>"
            ],
            "text/plain": [
              "   Unnamed: 0  dataid            localhour       car1  state  label  \\\n",
              "0           0     410  2017-01-29 11:00:00  unknown_1  Texas      1   \n",
              "1           1     410  2017-04-20 13:00:00  unknown_1  Texas      1   \n",
              "2           2     410  2017-05-07 12:00:00  unknown_1  Texas      1   \n",
              "3           3     410  2017-05-07 13:00:00  unknown_1  Texas      1   \n",
              "4           4     410  2017-05-10 11:00:00  unknown_1  Texas      1   \n",
              "\n",
              "   vehicle_type_Chevrolet Volt  vehicle_type_Mitsubishi i-MiEV  \\\n",
              "0                            0                               0   \n",
              "1                            0                               0   \n",
              "2                            0                               0   \n",
              "3                            0                               0   \n",
              "4                            0                               0   \n",
              "\n",
              "   vehicle_type_Nissan Leaf  vehicle_type_Tesla Model S  ...    \\\n",
              "0                         1                           0  ...     \n",
              "1                         1                           0  ...     \n",
              "2                         1                           0  ...     \n",
              "3                         1                           0  ...     \n",
              "4                         1                           0  ...     \n",
              "\n",
              "   electric_vehicle_buy_again_unknown_1  city_Austin  city_Boulder  \\\n",
              "0                                     0            1             0   \n",
              "1                                     0            1             0   \n",
              "2                                     0            1             0   \n",
              "3                                     0            1             0   \n",
              "4                                     0            1             0   \n",
              "\n",
              "   city_Coppell  city_Dallas  city_Houston  city_Humble  city_Plano  \\\n",
              "0             0            0             0            0           0   \n",
              "1             0            0             0            0           0   \n",
              "2             0            0             0            0           0   \n",
              "3             0            0             0            0           0   \n",
              "4             0            0             0            0           0   \n",
              "\n",
              "   city_Round Rock    use  \n",
              "0                0 0.1904  \n",
              "1                0 0.4522  \n",
              "2                0 0.1344  \n",
              "3                0 0.1437  \n",
              "4                0 0.2219  \n",
              "\n",
              "[5 rows x 156 columns]"
            ]
          },
          "metadata": {
            "tags": []
          },
          "execution_count": 52
        }
      ]
    },
    {
      "metadata": {
        "id": "14-Nd_LiyywO",
        "colab_type": "code",
        "colab": {}
      },
      "cell_type": "code",
      "source": [
        "weather_new['localhour'] = pd.to_datetime(weather_new['localhour'])\n",
        "final['localhour'] = pd.to_datetime(final['localhour'])"
      ],
      "execution_count": 0,
      "outputs": []
    },
    {
      "metadata": {
        "id": "b2AdCQjFTKTK",
        "colab_type": "code",
        "outputId": "f992b9f5-377f-4241-f49a-a5f21087962e",
        "colab": {
          "base_uri": "https://localhost:8080/",
          "height": 355
        }
      },
      "cell_type": "code",
      "source": [
        "final_ssd = pd.merge(final,\n",
        "                 weather_new[['localhour', 'state', 'ssd']],\n",
        "                 on=['localhour','state'],\n",
        "                 how = 'left')\n",
        "final_ssd.ssd = pd.to_numeric(final_ssd.ssd, errors=\"coerce\")\n",
        "final_ssd.head()"
      ],
      "execution_count": 0,
      "outputs": [
        {
          "output_type": "execute_result",
          "data": {
            "text/html": [
              "<div>\n",
              "<style scoped>\n",
              "    .dataframe tbody tr th:only-of-type {\n",
              "        vertical-align: middle;\n",
              "    }\n",
              "\n",
              "    .dataframe tbody tr th {\n",
              "        vertical-align: top;\n",
              "    }\n",
              "\n",
              "    .dataframe thead th {\n",
              "        text-align: right;\n",
              "    }\n",
              "</style>\n",
              "<table border=\"1\" class=\"dataframe\">\n",
              "  <thead>\n",
              "    <tr style=\"text-align: right;\">\n",
              "      <th></th>\n",
              "      <th>Unnamed: 0</th>\n",
              "      <th>dataid</th>\n",
              "      <th>localhour</th>\n",
              "      <th>car1</th>\n",
              "      <th>state</th>\n",
              "      <th>label</th>\n",
              "      <th>vehicle_type_Chevrolet Volt</th>\n",
              "      <th>vehicle_type_Mitsubishi i-MiEV</th>\n",
              "      <th>vehicle_type_Nissan Leaf</th>\n",
              "      <th>vehicle_type_Tesla Model S</th>\n",
              "      <th>...</th>\n",
              "      <th>city_Austin</th>\n",
              "      <th>city_Boulder</th>\n",
              "      <th>city_Coppell</th>\n",
              "      <th>city_Dallas</th>\n",
              "      <th>city_Houston</th>\n",
              "      <th>city_Humble</th>\n",
              "      <th>city_Plano</th>\n",
              "      <th>city_Round Rock</th>\n",
              "      <th>use</th>\n",
              "      <th>ssd</th>\n",
              "    </tr>\n",
              "  </thead>\n",
              "  <tbody>\n",
              "    <tr>\n",
              "      <th>0</th>\n",
              "      <td>0</td>\n",
              "      <td>410</td>\n",
              "      <td>2017-01-29 11:00:00</td>\n",
              "      <td>unknown_1</td>\n",
              "      <td>Texas</td>\n",
              "      <td>1</td>\n",
              "      <td>0</td>\n",
              "      <td>0</td>\n",
              "      <td>1</td>\n",
              "      <td>0</td>\n",
              "      <td>...</td>\n",
              "      <td>1</td>\n",
              "      <td>0</td>\n",
              "      <td>0</td>\n",
              "      <td>0</td>\n",
              "      <td>0</td>\n",
              "      <td>0</td>\n",
              "      <td>0</td>\n",
              "      <td>0</td>\n",
              "      <td>0.1904</td>\n",
              "      <td>nan</td>\n",
              "    </tr>\n",
              "    <tr>\n",
              "      <th>1</th>\n",
              "      <td>1</td>\n",
              "      <td>410</td>\n",
              "      <td>2017-04-20 13:00:00</td>\n",
              "      <td>unknown_1</td>\n",
              "      <td>Texas</td>\n",
              "      <td>1</td>\n",
              "      <td>0</td>\n",
              "      <td>0</td>\n",
              "      <td>1</td>\n",
              "      <td>0</td>\n",
              "      <td>...</td>\n",
              "      <td>1</td>\n",
              "      <td>0</td>\n",
              "      <td>0</td>\n",
              "      <td>0</td>\n",
              "      <td>0</td>\n",
              "      <td>0</td>\n",
              "      <td>0</td>\n",
              "      <td>0</td>\n",
              "      <td>0.4522</td>\n",
              "      <td>nan</td>\n",
              "    </tr>\n",
              "    <tr>\n",
              "      <th>2</th>\n",
              "      <td>2</td>\n",
              "      <td>410</td>\n",
              "      <td>2017-05-07 12:00:00</td>\n",
              "      <td>unknown_1</td>\n",
              "      <td>Texas</td>\n",
              "      <td>1</td>\n",
              "      <td>0</td>\n",
              "      <td>0</td>\n",
              "      <td>1</td>\n",
              "      <td>0</td>\n",
              "      <td>...</td>\n",
              "      <td>1</td>\n",
              "      <td>0</td>\n",
              "      <td>0</td>\n",
              "      <td>0</td>\n",
              "      <td>0</td>\n",
              "      <td>0</td>\n",
              "      <td>0</td>\n",
              "      <td>0</td>\n",
              "      <td>0.1344</td>\n",
              "      <td>nan</td>\n",
              "    </tr>\n",
              "    <tr>\n",
              "      <th>3</th>\n",
              "      <td>3</td>\n",
              "      <td>410</td>\n",
              "      <td>2017-05-07 13:00:00</td>\n",
              "      <td>unknown_1</td>\n",
              "      <td>Texas</td>\n",
              "      <td>1</td>\n",
              "      <td>0</td>\n",
              "      <td>0</td>\n",
              "      <td>1</td>\n",
              "      <td>0</td>\n",
              "      <td>...</td>\n",
              "      <td>1</td>\n",
              "      <td>0</td>\n",
              "      <td>0</td>\n",
              "      <td>0</td>\n",
              "      <td>0</td>\n",
              "      <td>0</td>\n",
              "      <td>0</td>\n",
              "      <td>0</td>\n",
              "      <td>0.1437</td>\n",
              "      <td>nan</td>\n",
              "    </tr>\n",
              "    <tr>\n",
              "      <th>4</th>\n",
              "      <td>4</td>\n",
              "      <td>410</td>\n",
              "      <td>2017-05-10 11:00:00</td>\n",
              "      <td>unknown_1</td>\n",
              "      <td>Texas</td>\n",
              "      <td>1</td>\n",
              "      <td>0</td>\n",
              "      <td>0</td>\n",
              "      <td>1</td>\n",
              "      <td>0</td>\n",
              "      <td>...</td>\n",
              "      <td>1</td>\n",
              "      <td>0</td>\n",
              "      <td>0</td>\n",
              "      <td>0</td>\n",
              "      <td>0</td>\n",
              "      <td>0</td>\n",
              "      <td>0</td>\n",
              "      <td>0</td>\n",
              "      <td>0.2219</td>\n",
              "      <td>nan</td>\n",
              "    </tr>\n",
              "  </tbody>\n",
              "</table>\n",
              "<p>5 rows × 157 columns</p>\n",
              "</div>"
            ],
            "text/plain": [
              "   Unnamed: 0  dataid           localhour       car1  state  label  \\\n",
              "0           0     410 2017-01-29 11:00:00  unknown_1  Texas      1   \n",
              "1           1     410 2017-04-20 13:00:00  unknown_1  Texas      1   \n",
              "2           2     410 2017-05-07 12:00:00  unknown_1  Texas      1   \n",
              "3           3     410 2017-05-07 13:00:00  unknown_1  Texas      1   \n",
              "4           4     410 2017-05-10 11:00:00  unknown_1  Texas      1   \n",
              "\n",
              "   vehicle_type_Chevrolet Volt  vehicle_type_Mitsubishi i-MiEV  \\\n",
              "0                            0                               0   \n",
              "1                            0                               0   \n",
              "2                            0                               0   \n",
              "3                            0                               0   \n",
              "4                            0                               0   \n",
              "\n",
              "   vehicle_type_Nissan Leaf  vehicle_type_Tesla Model S ...   city_Austin  \\\n",
              "0                         1                           0 ...             1   \n",
              "1                         1                           0 ...             1   \n",
              "2                         1                           0 ...             1   \n",
              "3                         1                           0 ...             1   \n",
              "4                         1                           0 ...             1   \n",
              "\n",
              "   city_Boulder  city_Coppell  city_Dallas  city_Houston  city_Humble  \\\n",
              "0             0             0            0             0            0   \n",
              "1             0             0            0             0            0   \n",
              "2             0             0            0             0            0   \n",
              "3             0             0            0             0            0   \n",
              "4             0             0            0             0            0   \n",
              "\n",
              "   city_Plano  city_Round Rock    use  ssd  \n",
              "0           0                0 0.1904  nan  \n",
              "1           0                0 0.4522  nan  \n",
              "2           0                0 0.1344  nan  \n",
              "3           0                0 0.1437  nan  \n",
              "4           0                0 0.2219  nan  \n",
              "\n",
              "[5 rows x 157 columns]"
            ]
          },
          "metadata": {
            "tags": []
          },
          "execution_count": 55
        }
      ]
    },
    {
      "metadata": {
        "id": "hvjIwYP1cF8V",
        "colab_type": "code",
        "outputId": "e26abfbe-b62b-4555-9f08-be5a296bb48d",
        "colab": {
          "base_uri": "https://localhost:8080/",
          "height": 1071
        }
      },
      "cell_type": "code",
      "source": [
        "final_ssd.isnull().sum(axis=0).sort_values(ascending=False)/float(len(final_ssd))"
      ],
      "execution_count": 0,
      "outputs": [
        {
          "output_type": "execute_result",
          "data": {
            "text/plain": [
              "ssd                                                           0.9581\n",
              "spend_time_at_home_wednesday_unknown_0                        0.0000\n",
              "spend_time_at_home_friday_unknown_1                           0.0000\n",
              "spend_time_at_home_friday_unknown_0                           0.0000\n",
              "spend_time_at_home_friday_Friday                              0.0000\n",
              "spend_time_at_home_thursday_unknown_1                         0.0000\n",
              "spend_time_at_home_thursday_unknown_0                         0.0000\n",
              "spend_time_at_home_thursday_Thursday                          0.0000\n",
              "spend_time_at_home_wednesday_unknown_1                        0.0000\n",
              "spend_time_at_home_wednesday_Wednesday                        0.0000\n",
              "ethnicity_caucasian_other_than_hispanic_or_latino_unknown_0   0.0000\n",
              "spend_time_at_home_tuesday_unknown_1                          0.0000\n",
              "spend_time_at_home_tuesday_unknown_0                          0.0000\n",
              "spend_time_at_home_tuesday_Tuesday                            0.0000\n",
              "spend_time_at_home_monday_unknown_1                           0.0000\n",
              "spend_time_at_home_monday_unknown_0                           0.0000\n",
              "spend_time_at_home_monday_Monday                              0.0000\n",
              "ethnicity_asian_pacific_islander_unknown_1                    0.0000\n",
              "ethnicity_caucasian_other_than_hispanic_or_latino_Caucasian   0.0000\n",
              "ethnicity_caucasian_other_than_hispanic_or_latino_unknown_1   0.0000\n",
              "residents_13_to_18_1                                          0.0000\n",
              "residents_under_5_unknown_0                                   0.0000\n",
              "residents_6_to_12_unknown_1                                   0.0000\n",
              "residents_6_to_12_unknown_0                                   0.0000\n",
              "residents_6_to_12_3                                           0.0000\n",
              "residents_6_to_12_2                                           0.0000\n",
              "residents_6_to_12_1                                           0.0000\n",
              "residents_6_to_12_0                                           0.0000\n",
              "residents_under_5_unknown_1                                   0.0000\n",
              "residents_under_5_2                                           0.0000\n",
              "                                                               ...  \n",
              "residents_25_to_34_unknown_0                                  0.0000\n",
              "residents_25_to_34_1                                          0.0000\n",
              "electric_vehicle_satisfied_Neutral                            0.0000\n",
              "residents_25_to_34_0                                          0.0000\n",
              "residents_19_to_24_unknown_1                                  0.0000\n",
              "residents_19_to_24_unknown_0                                  0.0000\n",
              "residents_19_to_24_2                                          0.0000\n",
              "residents_19_to_24_1                                          0.0000\n",
              "residents_19_to_24_0                                          0.0000\n",
              "residents_13_to_18_unknown_1                                  0.0000\n",
              "residents_50_to_64_0                                          0.0000\n",
              "residents_50_to_64_1                                          0.0000\n",
              "residents_50_to_64_2                                          0.0000\n",
              "residents_50_to_64_unknown_0                                  0.0000\n",
              "total_annual_income_$75,000 - $99,999                         0.0000\n",
              "total_annual_income_$50,000 - $74,999                         0.0000\n",
              "total_annual_income_$300,000 - $1,000,000                     0.0000\n",
              "total_annual_income_$20,000 - $34,999                         0.0000\n",
              "total_annual_income_$150,000 - $299,000                       0.0000\n",
              "total_annual_income_$100,000 - $149,999                       0.0000\n",
              "education_level_Some college/trade/vocational school          0.0000\n",
              "education_level_Postgraduate degree                           0.0000\n",
              "education_level_College graduate                              0.0000\n",
              "residents_65_and_older_unknown_1                              0.0000\n",
              "residents_65_and_older_unknown_0                              0.0000\n",
              "residents_65_and_older_2                                      0.0000\n",
              "residents_65_and_older_1                                      0.0000\n",
              "residents_65_and_older_0                                      0.0000\n",
              "residents_50_to_64_unknown_1                                  0.0000\n",
              "Unnamed: 0                                                    0.0000\n",
              "Length: 157, dtype: float64"
            ]
          },
          "metadata": {
            "tags": []
          },
          "execution_count": 56
        }
      ]
    },
    {
      "metadata": {
        "id": "JE3Vbyu8x60M",
        "colab_type": "code",
        "outputId": "4e3563ad-18f0-4de2-8ceb-2d87f4789da6",
        "colab": {
          "base_uri": "https://localhost:8080/",
          "height": 1071
        }
      },
      "cell_type": "code",
      "source": [
        "final_ssd.ssd = final_ssd.ssd.fillna(0)\n",
        "final_ssd.drop(['Unnamed: 0'], axis = 1, inplace= True)\n",
        "final_ssd.isnull().sum(axis=0).sort_values(ascending=False)/float(len(final_ssd))"
      ],
      "execution_count": 0,
      "outputs": [
        {
          "output_type": "execute_result",
          "data": {
            "text/plain": [
              "ssd                                                           0.0000\n",
              "spend_time_at_home_wednesday_unknown_1                        0.0000\n",
              "ethnicity_caucasian_other_than_hispanic_or_latino_Caucasian   0.0000\n",
              "spend_time_at_home_friday_unknown_1                           0.0000\n",
              "spend_time_at_home_friday_unknown_0                           0.0000\n",
              "spend_time_at_home_friday_Friday                              0.0000\n",
              "spend_time_at_home_thursday_unknown_1                         0.0000\n",
              "spend_time_at_home_thursday_unknown_0                         0.0000\n",
              "spend_time_at_home_thursday_Thursday                          0.0000\n",
              "spend_time_at_home_wednesday_unknown_0                        0.0000\n",
              "ethnicity_caucasian_other_than_hispanic_or_latino_unknown_1   0.0000\n",
              "spend_time_at_home_wednesday_Wednesday                        0.0000\n",
              "spend_time_at_home_tuesday_unknown_1                          0.0000\n",
              "spend_time_at_home_tuesday_unknown_0                          0.0000\n",
              "spend_time_at_home_tuesday_Tuesday                            0.0000\n",
              "spend_time_at_home_monday_unknown_1                           0.0000\n",
              "spend_time_at_home_monday_unknown_0                           0.0000\n",
              "spend_time_at_home_monday_Monday                              0.0000\n",
              "ethnicity_caucasian_other_than_hispanic_or_latino_unknown_0   0.0000\n",
              "ethnicity_hispanic_or_latino_Hispanic                         0.0000\n",
              "use                                                           0.0000\n",
              "residents_under_5_unknown_1                                   0.0000\n",
              "residents_13_to_18_0                                          0.0000\n",
              "residents_6_to_12_unknown_1                                   0.0000\n",
              "residents_6_to_12_unknown_0                                   0.0000\n",
              "residents_6_to_12_3                                           0.0000\n",
              "residents_6_to_12_2                                           0.0000\n",
              "residents_6_to_12_1                                           0.0000\n",
              "residents_6_to_12_0                                           0.0000\n",
              "residents_under_5_unknown_0                                   0.0000\n",
              "                                                               ...  \n",
              "residents_25_to_34_unknown_1                                  0.0000\n",
              "residents_25_to_34_2                                          0.0000\n",
              "electric_vehicle_satisfied_Somewhat satisfied                 0.0000\n",
              "residents_25_to_34_1                                          0.0000\n",
              "residents_25_to_34_0                                          0.0000\n",
              "residents_19_to_24_unknown_1                                  0.0000\n",
              "residents_19_to_24_unknown_0                                  0.0000\n",
              "residents_19_to_24_2                                          0.0000\n",
              "residents_19_to_24_1                                          0.0000\n",
              "residents_19_to_24_0                                          0.0000\n",
              "residents_50_to_64_1                                          0.0000\n",
              "residents_50_to_64_2                                          0.0000\n",
              "residents_50_to_64_unknown_0                                  0.0000\n",
              "residents_50_to_64_unknown_1                                  0.0000\n",
              "electric_vehicle_satisfied_Neutral                            0.0000\n",
              "total_annual_income_$75,000 - $99,999                         0.0000\n",
              "total_annual_income_$50,000 - $74,999                         0.0000\n",
              "total_annual_income_$300,000 - $1,000,000                     0.0000\n",
              "total_annual_income_$20,000 - $34,999                         0.0000\n",
              "total_annual_income_$150,000 - $299,000                       0.0000\n",
              "total_annual_income_$100,000 - $149,999                       0.0000\n",
              "education_level_Some college/trade/vocational school          0.0000\n",
              "education_level_Postgraduate degree                           0.0000\n",
              "education_level_College graduate                              0.0000\n",
              "residents_65_and_older_unknown_1                              0.0000\n",
              "residents_65_and_older_unknown_0                              0.0000\n",
              "residents_65_and_older_2                                      0.0000\n",
              "residents_65_and_older_1                                      0.0000\n",
              "residents_65_and_older_0                                      0.0000\n",
              "dataid                                                        0.0000\n",
              "Length: 156, dtype: float64"
            ]
          },
          "metadata": {
            "tags": []
          },
          "execution_count": 162
        }
      ]
    },
    {
      "metadata": {
        "id": "LWcAYEZx2CHn",
        "colab_type": "code",
        "outputId": "fc68b9c1-77a3-41b0-9925-4592ed4e355c",
        "colab": {
          "base_uri": "https://localhost:8080/",
          "height": 102
        }
      },
      "cell_type": "code",
      "source": [
        "final_ssd.info()"
      ],
      "execution_count": 0,
      "outputs": [
        {
          "output_type": "stream",
          "text": [
            "<class 'pandas.core.frame.DataFrame'>\n",
            "Int64Index: 673200 entries, 0 to 673199\n",
            "Columns: 156 entries, dataid to ssd\n",
            "dtypes: datetime64[ns](1), float64(2), int64(151), object(2)\n",
            "memory usage: 826.4+ MB\n"
          ],
          "name": "stdout"
        }
      ]
    },
    {
      "metadata": {
        "id": "B0JpDkXC3jan",
        "colab_type": "text"
      },
      "cell_type": "markdown",
      "source": [
        "### One-hot encoding with the feature 'state'"
      ]
    },
    {
      "metadata": {
        "id": "1lGJE-t72NTm",
        "colab_type": "code",
        "outputId": "c3b5a64e-c127-4237-a069-0af3cfc9a024",
        "colab": {
          "base_uri": "https://localhost:8080/",
          "height": 355
        }
      },
      "cell_type": "code",
      "source": [
        "final_ssd = pd.concat([final_ssd,pd.get_dummies(final_ssd['state'], prefix='state')],axis=1)\n",
        "final_ssd.drop(['state'],axis=1, inplace=True)\n",
        "final_ssd.head(5)"
      ],
      "execution_count": 0,
      "outputs": [
        {
          "output_type": "execute_result",
          "data": {
            "text/html": [
              "<div>\n",
              "<style scoped>\n",
              "    .dataframe tbody tr th:only-of-type {\n",
              "        vertical-align: middle;\n",
              "    }\n",
              "\n",
              "    .dataframe tbody tr th {\n",
              "        vertical-align: top;\n",
              "    }\n",
              "\n",
              "    .dataframe thead th {\n",
              "        text-align: right;\n",
              "    }\n",
              "</style>\n",
              "<table border=\"1\" class=\"dataframe\">\n",
              "  <thead>\n",
              "    <tr style=\"text-align: right;\">\n",
              "      <th></th>\n",
              "      <th>dataid</th>\n",
              "      <th>localhour</th>\n",
              "      <th>car1</th>\n",
              "      <th>label</th>\n",
              "      <th>vehicle_type_Chevrolet Volt</th>\n",
              "      <th>vehicle_type_Mitsubishi i-MiEV</th>\n",
              "      <th>vehicle_type_Nissan Leaf</th>\n",
              "      <th>vehicle_type_Tesla Model S</th>\n",
              "      <th>vehicle_type_unknown_0</th>\n",
              "      <th>vehicle_type_unknown_1</th>\n",
              "      <th>...</th>\n",
              "      <th>city_Coppell</th>\n",
              "      <th>city_Dallas</th>\n",
              "      <th>city_Houston</th>\n",
              "      <th>city_Humble</th>\n",
              "      <th>city_Plano</th>\n",
              "      <th>city_Round Rock</th>\n",
              "      <th>use</th>\n",
              "      <th>ssd</th>\n",
              "      <th>state_Colorado</th>\n",
              "      <th>state_Texas</th>\n",
              "    </tr>\n",
              "  </thead>\n",
              "  <tbody>\n",
              "    <tr>\n",
              "      <th>0</th>\n",
              "      <td>410</td>\n",
              "      <td>2017-01-29 11:00:00</td>\n",
              "      <td>unknown_1</td>\n",
              "      <td>1</td>\n",
              "      <td>0</td>\n",
              "      <td>0</td>\n",
              "      <td>1</td>\n",
              "      <td>0</td>\n",
              "      <td>0</td>\n",
              "      <td>0</td>\n",
              "      <td>...</td>\n",
              "      <td>0</td>\n",
              "      <td>0</td>\n",
              "      <td>0</td>\n",
              "      <td>0</td>\n",
              "      <td>0</td>\n",
              "      <td>0</td>\n",
              "      <td>0.1904</td>\n",
              "      <td>27.5180</td>\n",
              "      <td>0</td>\n",
              "      <td>1</td>\n",
              "    </tr>\n",
              "    <tr>\n",
              "      <th>1</th>\n",
              "      <td>410</td>\n",
              "      <td>2017-04-20 13:00:00</td>\n",
              "      <td>unknown_1</td>\n",
              "      <td>1</td>\n",
              "      <td>0</td>\n",
              "      <td>0</td>\n",
              "      <td>1</td>\n",
              "      <td>0</td>\n",
              "      <td>0</td>\n",
              "      <td>0</td>\n",
              "      <td>...</td>\n",
              "      <td>0</td>\n",
              "      <td>0</td>\n",
              "      <td>0</td>\n",
              "      <td>0</td>\n",
              "      <td>0</td>\n",
              "      <td>0</td>\n",
              "      <td>0.4522</td>\n",
              "      <td>40.8545</td>\n",
              "      <td>0</td>\n",
              "      <td>1</td>\n",
              "    </tr>\n",
              "    <tr>\n",
              "      <th>2</th>\n",
              "      <td>410</td>\n",
              "      <td>2017-05-07 12:00:00</td>\n",
              "      <td>unknown_1</td>\n",
              "      <td>1</td>\n",
              "      <td>0</td>\n",
              "      <td>0</td>\n",
              "      <td>1</td>\n",
              "      <td>0</td>\n",
              "      <td>0</td>\n",
              "      <td>0</td>\n",
              "      <td>...</td>\n",
              "      <td>0</td>\n",
              "      <td>0</td>\n",
              "      <td>0</td>\n",
              "      <td>0</td>\n",
              "      <td>0</td>\n",
              "      <td>0</td>\n",
              "      <td>0.1344</td>\n",
              "      <td>51.8567</td>\n",
              "      <td>0</td>\n",
              "      <td>1</td>\n",
              "    </tr>\n",
              "    <tr>\n",
              "      <th>3</th>\n",
              "      <td>410</td>\n",
              "      <td>2017-05-07 13:00:00</td>\n",
              "      <td>unknown_1</td>\n",
              "      <td>1</td>\n",
              "      <td>0</td>\n",
              "      <td>0</td>\n",
              "      <td>1</td>\n",
              "      <td>0</td>\n",
              "      <td>0</td>\n",
              "      <td>0</td>\n",
              "      <td>...</td>\n",
              "      <td>0</td>\n",
              "      <td>0</td>\n",
              "      <td>0</td>\n",
              "      <td>0</td>\n",
              "      <td>0</td>\n",
              "      <td>0</td>\n",
              "      <td>0.1437</td>\n",
              "      <td>50.4463</td>\n",
              "      <td>0</td>\n",
              "      <td>1</td>\n",
              "    </tr>\n",
              "    <tr>\n",
              "      <th>4</th>\n",
              "      <td>410</td>\n",
              "      <td>2017-05-10 11:00:00</td>\n",
              "      <td>unknown_1</td>\n",
              "      <td>1</td>\n",
              "      <td>0</td>\n",
              "      <td>0</td>\n",
              "      <td>1</td>\n",
              "      <td>0</td>\n",
              "      <td>0</td>\n",
              "      <td>0</td>\n",
              "      <td>...</td>\n",
              "      <td>0</td>\n",
              "      <td>0</td>\n",
              "      <td>0</td>\n",
              "      <td>0</td>\n",
              "      <td>0</td>\n",
              "      <td>0</td>\n",
              "      <td>0.2219</td>\n",
              "      <td>37.8693</td>\n",
              "      <td>0</td>\n",
              "      <td>1</td>\n",
              "    </tr>\n",
              "  </tbody>\n",
              "</table>\n",
              "<p>5 rows × 157 columns</p>\n",
              "</div>"
            ],
            "text/plain": [
              "   dataid           localhour       car1  label  vehicle_type_Chevrolet Volt  \\\n",
              "0     410 2017-01-29 11:00:00  unknown_1      1                            0   \n",
              "1     410 2017-04-20 13:00:00  unknown_1      1                            0   \n",
              "2     410 2017-05-07 12:00:00  unknown_1      1                            0   \n",
              "3     410 2017-05-07 13:00:00  unknown_1      1                            0   \n",
              "4     410 2017-05-10 11:00:00  unknown_1      1                            0   \n",
              "\n",
              "   vehicle_type_Mitsubishi i-MiEV  vehicle_type_Nissan Leaf  \\\n",
              "0                               0                         1   \n",
              "1                               0                         1   \n",
              "2                               0                         1   \n",
              "3                               0                         1   \n",
              "4                               0                         1   \n",
              "\n",
              "   vehicle_type_Tesla Model S  vehicle_type_unknown_0  vehicle_type_unknown_1  \\\n",
              "0                           0                       0                       0   \n",
              "1                           0                       0                       0   \n",
              "2                           0                       0                       0   \n",
              "3                           0                       0                       0   \n",
              "4                           0                       0                       0   \n",
              "\n",
              "      ...       city_Coppell  city_Dallas  city_Houston  city_Humble  \\\n",
              "0     ...                  0            0             0            0   \n",
              "1     ...                  0            0             0            0   \n",
              "2     ...                  0            0             0            0   \n",
              "3     ...                  0            0             0            0   \n",
              "4     ...                  0            0             0            0   \n",
              "\n",
              "   city_Plano  city_Round Rock    use     ssd  state_Colorado  state_Texas  \n",
              "0           0                0 0.1904 27.5180               0            1  \n",
              "1           0                0 0.4522 40.8545               0            1  \n",
              "2           0                0 0.1344 51.8567               0            1  \n",
              "3           0                0 0.1437 50.4463               0            1  \n",
              "4           0                0 0.2219 37.8693               0            1  \n",
              "\n",
              "[5 rows x 157 columns]"
            ]
          },
          "metadata": {
            "tags": []
          },
          "execution_count": 166
        }
      ]
    },
    {
      "metadata": {
        "id": "M-ywanj02AAB",
        "colab_type": "text"
      },
      "cell_type": "markdown",
      "source": [
        "## Mount 'final_ssd' to the google drive"
      ]
    },
    {
      "metadata": {
        "id": "LhAIs_Gd0zQF",
        "colab_type": "code",
        "colab": {}
      },
      "cell_type": "code",
      "source": [
        "final_ssd.to_csv('final_ssd.csv')\n",
        "!cp final_ssd.csv drive/My\\ Drive/"
      ],
      "execution_count": 0,
      "outputs": []
    },
    {
      "metadata": {
        "id": "gkv-4VoV4b81",
        "colab_type": "code",
        "colab": {}
      },
      "cell_type": "code",
      "source": [
        ""
      ],
      "execution_count": 0,
      "outputs": []
    }
  ]
}