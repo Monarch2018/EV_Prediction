{
 "cells": [
  {
   "cell_type": "code",
   "execution_count": 1,
   "metadata": {},
   "outputs": [],
   "source": [
    "import pandas as pd\n",
    "import numpy as np"
   ]
  },
  {
   "cell_type": "code",
   "execution_count": 2,
   "metadata": {},
   "outputs": [],
   "source": [
    "data=pd.read_csv('./data/check_final.csv', index_col =0)"
   ]
  },
  {
   "cell_type": "code",
   "execution_count": 7,
   "metadata": {},
   "outputs": [],
   "source": [
    "#check_final.csv is collected from \n",
    "#delete useless features from check_final.csv\n",
    "del_cols = ['electric_vehicle_buy_reason_envir',\n",
    "            'electric_vehicle_buy_reason_save_money',\n",
    "            'electric_vehicle_buy_reason_new_tech_interest',\n",
    "            'electric_vehicle_buy_reason_performance',\n",
    "            'electric_vehicle_buy_reason_quietness',\n",
    "            'electric_vehicle_buy_reason_other_recommended',\n",
    "            'electric_vehicle_buy_again',\n",
    "            'vehicle_type',\n",
    "            'model_year',\n",
    "            'ownership_status',\n",
    "            'electric_vehicle_satisfied',\n",
    "            'electric_vehicle_features_liked',\n",
    "            'dataid',\n",
    "            'car1',\n",
    "            'quick_charge_port',\n",
    "            'localhour',\n",
    "            'delivery_date',\n",
    "            'any_electric_vehicle']"
   ]
  },
  {
   "cell_type": "code",
   "execution_count": 9,
   "metadata": {},
   "outputs": [],
   "source": [
    "data.drop(del_cols,axis=1,inplace=True)"
   ]
  },
  {
   "cell_type": "code",
   "execution_count": 12,
   "metadata": {},
   "outputs": [],
   "source": [
    "# group data into bins\n",
    "bins = [0,3,5,7]\n",
    "data['family_size'] = pd.cut(data['family_size'],bins)"
   ]
  },
  {
   "cell_type": "code",
   "execution_count": 14,
   "metadata": {},
   "outputs": [
    {
     "data": {
      "text/plain": [
       "Index(['status', 'education_level', 'total_annual_income', 'city', 'state',\n",
       "       'has_kid'],\n",
       "      dtype='object')"
      ]
     },
     "execution_count": 14,
     "metadata": {},
     "output_type": "execute_result"
    }
   ],
   "source": [
    "object_cols = data.columns[data.dtypes=='object']\n",
    "object_cols"
   ]
  },
  {
   "cell_type": "code",
   "execution_count": 15,
   "metadata": {},
   "outputs": [],
   "source": [
    "# one hot encoding\n",
    "data_dummy = pd.get_dummies(data[object_cols])\n",
    "data_dummy2 = pd.get_dummies(data['family_size'])"
   ]
  },
  {
   "cell_type": "code",
   "execution_count": 16,
   "metadata": {},
   "outputs": [],
   "source": [
    "# combine data\n",
    "data3 = data.drop(object_cols,axis=1)\n",
    "data4 = data3.drop('family_size',axis=1)\n",
    "data_final = pd.concat([data4,data_dummy,data_dummy2],axis=1)"
   ]
  },
  {
   "cell_type": "code",
   "execution_count": 20,
   "metadata": {},
   "outputs": [],
   "source": [
    "# save data\n",
    "data_final.to_csv('data_final.csv')"
   ]
  }
 ],
 "metadata": {
  "kernelspec": {
   "display_name": "Python 3",
   "language": "python",
   "name": "python3"
  },
  "language_info": {
   "codemirror_mode": {
    "name": "ipython",
    "version": 3
   },
   "file_extension": ".py",
   "mimetype": "text/x-python",
   "name": "python",
   "nbconvert_exporter": "python",
   "pygments_lexer": "ipython3",
   "version": "3.6.5"
  }
 },
 "nbformat": 4,
 "nbformat_minor": 2
}
