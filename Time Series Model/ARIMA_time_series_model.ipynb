{
  "nbformat": 4,
  "nbformat_minor": 0,
  "metadata": {
    "colab": {
      "name": "ARIMA time series model",
      "version": "0.3.2",
      "provenance": [],
      "collapsed_sections": [],
      "toc_visible": true
    },
    "kernelspec": {
      "name": "python3",
      "display_name": "Python 3"
    },
    "accelerator": "GPU"
  },
  "cells": [
    {
      "metadata": {
        "id": "Sa23193U2Bph",
        "colab_type": "code",
        "colab": {}
      },
      "cell_type": "code",
      "source": [
        "!pip install --upgrade -q gspread PyDrive"
      ],
      "execution_count": 0,
      "outputs": []
    },
    {
      "metadata": {
        "id": "3GA3ErFG5AZ9",
        "colab_type": "text"
      },
      "cell_type": "markdown",
      "source": [
        "## Import libraries and methods"
      ]
    },
    {
      "metadata": {
        "id": "TJJZPwMo406R",
        "colab_type": "code",
        "outputId": "03ef209e-cae4-46fb-eb98-394f5c125802",
        "colab": {
          "base_uri": "https://localhost:8080/",
          "height": 34
        }
      },
      "cell_type": "code",
      "source": [
        "import math\n",
        "import os\n",
        "import string\n",
        "import numpy\n",
        "from datetime import datetime\n",
        "import scipy\n",
        "import pandas as pd\n",
        "import numpy as np\n",
        "import matplotlib.pyplot as pyplot\n",
        "import statsmodels\n",
        "import sklearn\n",
        "from pandas import Grouper\n",
        "from pandas import DataFrame\n",
        "from pandas import concat\n",
        "from pandas import Series\n",
        "from math import sqrt\n",
        "from math import log\n",
        "from math import exp\n",
        "from sklearn.metrics import mean_squared_error\n",
        "from statsmodels.tsa.stattools import adfuller\n",
        "from statsmodels.graphics.tsaplots import plot_acf\n",
        "from statsmodels.graphics.tsaplots import plot_pacf\n",
        "from statsmodels.tsa.arima_model import ARIMA\n",
        "from statsmodels.graphics.gofplots import qqplot\n",
        "from statsmodels.tsa.arima_model import ARIMAResults\n",
        "from scipy.stats import boxcox\n",
        "\n",
        "#  忽略弹出的warnings\n",
        "import warnings\n",
        "warnings.filterwarnings('ignore')  \n",
        "\n",
        "pd.set_option('display.float_format', lambda x: '%.4f' % x)\n",
        "\n",
        "from imblearn.over_sampling import SMOTE\n",
        "import itertools\n",
        "\n",
        "#Goole Drive libs configuration\n",
        "from oauth2client.client import GoogleCredentials\n",
        "from google.colab import auth\n",
        "from pydrive.auth import GoogleAuth\n",
        "from pydrive.drive import GoogleDrive\n",
        "import gspread\n",
        "#@title Authenticate Google Drive client && create local directory\n",
        "auth.authenticate_user()\n",
        "credential = GoogleCredentials.get_application_default()\n",
        "#iniate Google Spread Sheet\n",
        "gc = gspread.authorize(credential)\n",
        "#iniate Google Drive\n",
        "gauth = GoogleAuth()\n",
        "gauth.credentials = credential\n",
        "drive = GoogleDrive(gauth)\n",
        "\n",
        "\n",
        "def importfile(file_id='0Bxfl1AFkt6bcbFZXU1phSEJnVEE'):\n",
        "    f = drive.CreateFile({'id': file_id})\n",
        "    print('Drive file (title: %s, id: %s)' % (f['title'], f['id']))\n",
        "    fname = os.path.join(os.getcwd(), f['title'])\n",
        "    print('file path: {}'.format(fname))\n",
        "    f_ = drive.CreateFile({'id': f['id']})\n",
        "    f_.GetContentFile(fname)\n",
        "    return fname\n",
        "\n",
        "def exportfile(file_name=\"sample.txt\"):\n",
        "    uploaded = drive.CreateFile({'title':file_name})\n",
        "    uploaded.Upload()\n",
        "    print('file {} uploaded to Google Drive'.format(file_name))\n",
        "    \n",
        "def create_dir(dir_name=\"Sample\"):\n",
        "  dir_path=os.path.join(os.getcwd(),dir_name)\n",
        "  if not os.path.exists(dir_path):\n",
        "    os.makedirs(dir_name)\n",
        "  return dir_path\n",
        "\n",
        "\n",
        "CWD=os.getcwd()\n",
        "print(\"Current root dir: \",CWD)"
      ],
      "execution_count": 0,
      "outputs": [
        {
          "output_type": "stream",
          "text": [
            "Current root dir:  /content\n"
          ],
          "name": "stdout"
        }
      ]
    },
    {
      "metadata": {
        "id": "rQoyI-bn2UxG",
        "colab_type": "text"
      },
      "cell_type": "markdown",
      "source": [
        "## Import timeseries dataset"
      ]
    },
    {
      "metadata": {
        "id": "4r18zd0H2Tlf",
        "colab_type": "code",
        "outputId": "02677fc2-cc02-4191-ce50-ee093790b9fd",
        "colab": {
          "base_uri": "https://localhost:8080/",
          "height": 51
        }
      },
      "cell_type": "code",
      "source": [
        "timeseries = importfile(file_id = '1bx2sY8TGrJ7DVRoZ_yjXxp3tQgqn4Zix')"
      ],
      "execution_count": 0,
      "outputs": [
        {
          "output_type": "stream",
          "text": [
            "Drive file (title: timeseries.csv, id: 1bx2sY8TGrJ7DVRoZ_yjXxp3tQgqn4Zix)\n",
            "file path: /content/timeseries.csv\n"
          ],
          "name": "stdout"
        }
      ]
    },
    {
      "metadata": {
        "id": "_sDvaL0S2rad",
        "colab_type": "text"
      },
      "cell_type": "markdown",
      "source": [
        "## Family choose"
      ]
    },
    {
      "metadata": {
        "id": "0BPYI9r32qoq",
        "colab_type": "code",
        "outputId": "930e1ecc-4cda-492c-ffc1-e22a793379e1",
        "colab": {
          "base_uri": "https://localhost:8080/",
          "height": 68
        }
      },
      "cell_type": "code",
      "source": [
        "from pandas import read_csv\n",
        "df = read_csv('timeseries.csv', index_col=2, header = 0, parse_dates=True, squeeze=True)\n",
        "df.drop(['Unnamed: 0'], axis = 1, inplace = True)\n",
        "\n",
        "daily_summary = pd.DataFrame()\n",
        "series = pd.DataFrame()\n",
        "ids = df.dataid.unique().tolist()\n",
        "\n",
        "for id in ids:\n",
        "  daily_summary_id = df[df['dataid'] == id]\n",
        "  daily_summary['dataid'] = daily_summary_id.dataid.resample('D').max()\n",
        "  daily_summary['use'] = daily_summary_id.use.resample('D').sum()\n",
        "  daily_summary['label'] = daily_summary_id.label.resample('D').max()\n",
        "  series = series.append(daily_summary)\n",
        "series.dropna(inplace = True)\n",
        "\n",
        "print('There are totally 76 families, please enter which family you want to predict:')\n",
        "x = int(input('Enter family number:'))\n",
        "series = series[series['dataid'] == ids[x-1]]['use']\n",
        "print(\"Number %d family's dataid is %d\"%(x,ids[x-1]))"
      ],
      "execution_count": 0,
      "outputs": [
        {
          "output_type": "stream",
          "text": [
            "There are totally 76 families, please enter which family you want to predict:\n",
            "Enter family number:1\n",
            "Number 1 family's dataid is 410\n"
          ],
          "name": "stdout"
        }
      ]
    },
    {
      "metadata": {
        "id": "kfSamP813YKW",
        "colab_type": "text"
      },
      "cell_type": "markdown",
      "source": [
        "## 1. Test Harness\n",
        "1. Defining a Validation Dataset.\n",
        "2. Developing a Method for Model Evaluation."
      ]
    },
    {
      "metadata": {
        "id": "pqp57zfE3ENx",
        "colab_type": "code",
        "outputId": "6df3e7c9-eeb0-4c0b-bffb-54247c422c67",
        "colab": {
          "base_uri": "https://localhost:8080/",
          "height": 34
        }
      },
      "cell_type": "code",
      "source": [
        "split_point = len(series) - 68\n",
        "dataset, validation = series[0:split_point], series[split_point:]\n",
        "print('Dataset %d, Validation %d' % (len(dataset), len(validation))) \n",
        "dataset.to_csv('dataset.csv')\n",
        "validation.to_csv('validation.csv')"
      ],
      "execution_count": 0,
      "outputs": [
        {
          "output_type": "stream",
          "text": [
            "Dataset 297, Validation 68\n"
          ],
          "name": "stdout"
        }
      ]
    },
    {
      "metadata": {
        "id": "ZY0bTZT44QHh",
        "colab_type": "text"
      },
      "cell_type": "markdown",
      "source": [
        "## 2. Persistence"
      ]
    },
    {
      "metadata": {
        "id": "N7ia81tG3Guf",
        "colab_type": "code",
        "outputId": "a4feefa0-1d8b-49c2-f39f-030463b21263",
        "colab": {
          "base_uri": "https://localhost:8080/",
          "height": 3145
        }
      },
      "cell_type": "code",
      "source": [
        "# prepare data\n",
        "X = series.values\n",
        "X = X.astype('float32')\n",
        "train_size = int(len(X) * 0.50)\n",
        "train, test = X[0:train_size], X[train_size:]\n",
        "# walk-forward validation\n",
        "history = [x for x in train]\n",
        "predictions = list()\n",
        "for i in range(len(test)):\n",
        "  # predict\n",
        "  yhat = history[-1]\n",
        "  predictions.append(yhat)\n",
        "  # observation\n",
        "  obs = test[i]\n",
        "  history.append(obs)\n",
        "  print('>Predicted=%.3f, Expected=%3.f' % (yhat, obs))\n",
        "# report performance\n",
        "rmse = sqrt(mean_squared_error(test, predictions)) \n",
        "print('RMSE: %.3f' % rmse)"
      ],
      "execution_count": 0,
      "outputs": [
        {
          "output_type": "stream",
          "text": [
            ">Predicted=44.342, Expected= 55\n",
            ">Predicted=54.926, Expected= 42\n",
            ">Predicted=41.537, Expected= 35\n",
            ">Predicted=34.972, Expected= 39\n",
            ">Predicted=38.513, Expected= 26\n",
            ">Predicted=26.433, Expected= 37\n",
            ">Predicted=36.868, Expected= 42\n",
            ">Predicted=41.871, Expected= 36\n",
            ">Predicted=36.176, Expected= 58\n",
            ">Predicted=57.677, Expected= 49\n",
            ">Predicted=49.264, Expected= 32\n",
            ">Predicted=32.099, Expected= 31\n",
            ">Predicted=30.943, Expected= 53\n",
            ">Predicted=53.306, Expected= 42\n",
            ">Predicted=42.255, Expected= 42\n",
            ">Predicted=41.685, Expected= 57\n",
            ">Predicted=57.261, Expected= 24\n",
            ">Predicted=24.030, Expected= 27\n",
            ">Predicted=27.211, Expected= 49\n",
            ">Predicted=49.295, Expected= 56\n",
            ">Predicted=56.257, Expected= 36\n",
            ">Predicted=36.278, Expected= 41\n",
            ">Predicted=40.566, Expected= 27\n",
            ">Predicted=27.078, Expected= 36\n",
            ">Predicted=35.730, Expected= 32\n",
            ">Predicted=32.269, Expected= 30\n",
            ">Predicted=29.892, Expected= 63\n",
            ">Predicted=63.418, Expected= 46\n",
            ">Predicted=46.262, Expected= 24\n",
            ">Predicted=24.325, Expected= 16\n",
            ">Predicted=15.776, Expected= 19\n",
            ">Predicted=18.770, Expected= 19\n",
            ">Predicted=18.742, Expected= 10\n",
            ">Predicted=9.996, Expected= 15\n",
            ">Predicted=15.318, Expected= 17\n",
            ">Predicted=16.642, Expected= 44\n",
            ">Predicted=44.452, Expected= 25\n",
            ">Predicted=24.731, Expected= 42\n",
            ">Predicted=41.997, Expected= 38\n",
            ">Predicted=38.030, Expected= 31\n",
            ">Predicted=31.356, Expected= 42\n",
            ">Predicted=41.705, Expected= 53\n",
            ">Predicted=53.089, Expected= 42\n",
            ">Predicted=41.807, Expected= 35\n",
            ">Predicted=35.174, Expected= 34\n",
            ">Predicted=34.067, Expected= 55\n",
            ">Predicted=55.284, Expected= 39\n",
            ">Predicted=38.966, Expected= 53\n",
            ">Predicted=53.403, Expected= 37\n",
            ">Predicted=37.076, Expected= 44\n",
            ">Predicted=44.074, Expected= 48\n",
            ">Predicted=47.984, Expected= 29\n",
            ">Predicted=29.279, Expected= 35\n",
            ">Predicted=35.270, Expected= 41\n",
            ">Predicted=41.408, Expected= 29\n",
            ">Predicted=29.108, Expected= 57\n",
            ">Predicted=56.583, Expected= 26\n",
            ">Predicted=25.699, Expected= 19\n",
            ">Predicted=19.031, Expected= 18\n",
            ">Predicted=18.478, Expected= 17\n",
            ">Predicted=17.124, Expected= 16\n",
            ">Predicted=15.613, Expected= 41\n",
            ">Predicted=40.663, Expected= 44\n",
            ">Predicted=44.344, Expected= 33\n",
            ">Predicted=32.995, Expected= 15\n",
            ">Predicted=14.985, Expected= 24\n",
            ">Predicted=23.860, Expected= 35\n",
            ">Predicted=35.063, Expected= 24\n",
            ">Predicted=24.166, Expected= 14\n",
            ">Predicted=14.486, Expected= 19\n",
            ">Predicted=19.234, Expected= 21\n",
            ">Predicted=21.133, Expected= 32\n",
            ">Predicted=31.891, Expected= 29\n",
            ">Predicted=29.292, Expected= 16\n",
            ">Predicted=15.754, Expected= 20\n",
            ">Predicted=20.015, Expected= 42\n",
            ">Predicted=41.555, Expected= 32\n",
            ">Predicted=32.206, Expected= 37\n",
            ">Predicted=37.036, Expected= 32\n",
            ">Predicted=31.598, Expected= 31\n",
            ">Predicted=31.144, Expected= 45\n",
            ">Predicted=44.554, Expected= 31\n",
            ">Predicted=31.072, Expected= 17\n",
            ">Predicted=17.044, Expected=  6\n",
            ">Predicted=6.365, Expected=  6\n",
            ">Predicted=6.054, Expected= 12\n",
            ">Predicted=11.627, Expected= 16\n",
            ">Predicted=15.810, Expected= 23\n",
            ">Predicted=22.972, Expected= 22\n",
            ">Predicted=21.582, Expected= 31\n",
            ">Predicted=30.726, Expected= 23\n",
            ">Predicted=23.319, Expected= 27\n",
            ">Predicted=27.483, Expected= 18\n",
            ">Predicted=17.917, Expected= 20\n",
            ">Predicted=20.308, Expected= 20\n",
            ">Predicted=19.618, Expected= 19\n",
            ">Predicted=19.289, Expected= 18\n",
            ">Predicted=18.133, Expected= 30\n",
            ">Predicted=29.971, Expected= 27\n",
            ">Predicted=27.054, Expected= 25\n",
            ">Predicted=25.123, Expected= 31\n",
            ">Predicted=30.722, Expected= 11\n",
            ">Predicted=11.144, Expected= 12\n",
            ">Predicted=12.368, Expected= 25\n",
            ">Predicted=24.540, Expected= 13\n",
            ">Predicted=12.547, Expected= 19\n",
            ">Predicted=18.549, Expected= 14\n",
            ">Predicted=13.565, Expected= 28\n",
            ">Predicted=27.753, Expected= 20\n",
            ">Predicted=20.478, Expected=  5\n",
            ">Predicted=5.444, Expected=  7\n",
            ">Predicted=7.182, Expected= 14\n",
            ">Predicted=14.316, Expected= 36\n",
            ">Predicted=35.806, Expected=  6\n",
            ">Predicted=6.036, Expected=  9\n",
            ">Predicted=8.654, Expected=  8\n",
            ">Predicted=7.941, Expected=  7\n",
            ">Predicted=6.969, Expected= 10\n",
            ">Predicted=9.717, Expected= 34\n",
            ">Predicted=34.239, Expected= 16\n",
            ">Predicted=15.516, Expected= 17\n",
            ">Predicted=17.064, Expected= 12\n",
            ">Predicted=11.873, Expected= 27\n",
            ">Predicted=27.347, Expected=  8\n",
            ">Predicted=8.209, Expected= 25\n",
            ">Predicted=25.121, Expected= 23\n",
            ">Predicted=23.396, Expected= 45\n",
            ">Predicted=45.204, Expected= 13\n",
            ">Predicted=13.121, Expected= 18\n",
            ">Predicted=17.957, Expected= 10\n",
            ">Predicted=10.112, Expected= 30\n",
            ">Predicted=29.906, Expected= 13\n",
            ">Predicted=12.957, Expected= 14\n",
            ">Predicted=13.647, Expected= 36\n",
            ">Predicted=35.643, Expected= 10\n",
            ">Predicted=10.252, Expected= 14\n",
            ">Predicted=13.545, Expected=  8\n",
            ">Predicted=8.387, Expected=  8\n",
            ">Predicted=7.879, Expected= 19\n",
            ">Predicted=19.494, Expected= 20\n",
            ">Predicted=20.370, Expected= 25\n",
            ">Predicted=25.208, Expected= 12\n",
            ">Predicted=11.612, Expected= 11\n",
            ">Predicted=10.809, Expected= 19\n",
            ">Predicted=18.692, Expected= 27\n",
            ">Predicted=27.068, Expected=  4\n",
            ">Predicted=3.892, Expected=  4\n",
            ">Predicted=3.905, Expected=  4\n",
            ">Predicted=3.935, Expected=  5\n",
            ">Predicted=4.777, Expected= 13\n",
            ">Predicted=13.043, Expected= 12\n",
            ">Predicted=11.706, Expected= 14\n",
            ">Predicted=14.166, Expected= 16\n",
            ">Predicted=16.262, Expected= 12\n",
            ">Predicted=12.416, Expected= 16\n",
            ">Predicted=16.062, Expected= 10\n",
            ">Predicted=9.770, Expected= 27\n",
            ">Predicted=26.641, Expected= 20\n",
            ">Predicted=20.169, Expected= 18\n",
            ">Predicted=18.229, Expected= 15\n",
            ">Predicted=15.158, Expected= 30\n",
            ">Predicted=29.708, Expected= 21\n",
            ">Predicted=20.878, Expected= 26\n",
            ">Predicted=25.527, Expected= 18\n",
            ">Predicted=17.512, Expected=  8\n",
            ">Predicted=8.207, Expected= 13\n",
            ">Predicted=13.193, Expected= 14\n",
            ">Predicted=13.556, Expected= 22\n",
            ">Predicted=22.052, Expected= 25\n",
            ">Predicted=25.033, Expected= 40\n",
            ">Predicted=40.499, Expected=  8\n",
            ">Predicted=7.855, Expected=  9\n",
            ">Predicted=9.130, Expected= 10\n",
            ">Predicted=10.039, Expected= 17\n",
            ">Predicted=16.947, Expected= 12\n",
            ">Predicted=11.904, Expected= 26\n",
            ">Predicted=25.597, Expected= 32\n",
            ">Predicted=32.084, Expected= 10\n",
            ">Predicted=10.405, Expected= 18\n",
            ">Predicted=17.813, Expected= 23\n",
            ">Predicted=22.721, Expected= 15\n",
            ">Predicted=14.513, Expected= 32\n",
            ">Predicted=31.981, Expected=  1\n",
            "RMSE: 12.701\n"
          ],
          "name": "stdout"
        }
      ]
    },
    {
      "metadata": {
        "id": "0vdG1IJf5QQR",
        "colab_type": "text"
      },
      "cell_type": "markdown",
      "source": [
        "**Conclusion:** ConRunning the test harness prints the prediction and observation for each iteration of the test dataset. The example ends by printing the RMSE for the model. In this case, we can see that the persistence model achieved an RMSE of 12.701. This means that on average, the model was wrong by about 12 electrical usage for each prediction made."
      ]
    },
    {
      "metadata": {
        "id": "1_aeE7985zUe",
        "colab_type": "text"
      },
      "cell_type": "markdown",
      "source": [
        "## 3. Data Analysis\n",
        "1. Summary Statistics.\n",
        "2. Line Plot.\n",
        "3. Density Plots.\n",
        "4. Box and Whisker Plot."
      ]
    },
    {
      "metadata": {
        "id": "x58ahpIa6AX8",
        "colab_type": "text"
      },
      "cell_type": "markdown",
      "source": [
        "### 3.1 Summary Statistics"
      ]
    },
    {
      "metadata": {
        "id": "g5jLDiGc559i",
        "colab_type": "code",
        "outputId": "82602d59-2f92-41df-c912-0303e2b39c8c",
        "colab": {
          "base_uri": "https://localhost:8080/",
          "height": 170
        }
      },
      "cell_type": "code",
      "source": [
        "print(series.describe())"
      ],
      "execution_count": 0,
      "outputs": [
        {
          "output_type": "stream",
          "text": [
            "count   365.0000\n",
            "mean     22.3331\n",
            "std      12.3356\n",
            "min       0.5305\n",
            "25%      12.7492\n",
            "50%      19.6841\n",
            "75%      29.8905\n",
            "max      67.5307\n",
            "Name: use, dtype: float64\n"
          ],
          "name": "stdout"
        }
      ]
    },
    {
      "metadata": {
        "id": "AstQQsRm6bC3",
        "colab_type": "text"
      },
      "cell_type": "markdown",
      "source": [
        "**Conclusion:** The large spread in this series will likely make highly accurate predictions difficult if it is caused by random fluctuation (e.g. not systematic)."
      ]
    },
    {
      "metadata": {
        "id": "NDQojj5U6h0o",
        "colab_type": "text"
      },
      "cell_type": "markdown",
      "source": [
        "### 3.2 Line Plot"
      ]
    },
    {
      "metadata": {
        "id": "izGi5Hp_4h5y",
        "colab_type": "code",
        "outputId": "2b418a9e-7052-4f47-efac-5e5581c099be",
        "colab": {
          "base_uri": "https://localhost:8080/",
          "height": 307
        }
      },
      "cell_type": "code",
      "source": [
        "pyplot.title('Monthly electrical usage')\n",
        "series.plot()\n",
        "pyplot.show()"
      ],
      "execution_count": 0,
      "outputs": [
        {
          "output_type": "display_data",
          "data": {
            "image/png": "[encoded data removed]",
            "text/plain": [
              "<Figure size 432x288 with 1 Axes>"
            ]
          },
          "metadata": {
            "tags": []
          }
        }
      ]
    },
    {
      "metadata": {
        "id": "v_KdZAYa62Ox",
        "colab_type": "text"
      },
      "cell_type": "markdown",
      "source": [
        "**Conclusion:** These simple observations suggest we may see benefit in modeling the trend and removing it from the time series. Alternately, we could use differencing to make the series stationary for modeling. We may even need two levels of differencing if there is a growth trend in the fluctuations in later months."
      ]
    },
    {
      "metadata": {
        "id": "wXJ1eVz-7R3T",
        "colab_type": "text"
      },
      "cell_type": "markdown",
      "source": [
        "### 3.3 Density Plot"
      ]
    },
    {
      "metadata": {
        "id": "p5-TCcnm6lxS",
        "colab_type": "code",
        "outputId": "542954a6-0c41-4333-c4ae-d981b48356b9",
        "colab": {
          "base_uri": "https://localhost:8080/",
          "height": 270
        }
      },
      "cell_type": "code",
      "source": [
        "pyplot.figure(1)\n",
        "pyplot.subplot(211)\n",
        "series.hist()\n",
        "pyplot.subplot(212)\n",
        "series.plot(kind='kde')\n",
        "pyplot.show()"
      ],
      "execution_count": 0,
      "outputs": [
        {
          "output_type": "display_data",
          "data": {
            "image/png": "[encoded data removed]",
            "text/plain": [
              "<Figure size 432x288 with 2 Axes>"
            ]
          },
          "metadata": {
            "tags": []
          }
        }
      ]
    },
    {
      "metadata": {
        "id": "9vb191IZ8JLr",
        "colab_type": "text"
      },
      "cell_type": "markdown",
      "source": [
        "**Conclusion:**\n",
        "1. The distribution is not Gaussian.\n",
        "2. The distribution is left shifted and may be exponential or a double Gaussian.\n"
      ]
    },
    {
      "metadata": {
        "id": "JwbO2Kws8XlU",
        "colab_type": "text"
      },
      "cell_type": "markdown",
      "source": [
        "### 3.4 Box and Whisker Plots"
      ]
    },
    {
      "metadata": {
        "id": "i56RM-087YuI",
        "colab_type": "code",
        "outputId": "243e3a63-6307-4d34-cd36-5d4dc1bb5987",
        "colab": {
          "base_uri": "https://localhost:8080/",
          "height": 269
        }
      },
      "cell_type": "code",
      "source": [
        "one_year = series['2017']\n",
        "groups = one_year.groupby(Grouper(freq='M'))\n",
        "months = concat([DataFrame(x[1].values) for x in groups], axis=1) \n",
        "months = DataFrame(months)\n",
        "months.columns = range(1, len(groups)+1)\n",
        "months.boxplot()\n",
        "pyplot.show()"
      ],
      "execution_count": 0,
      "outputs": [
        {
          "output_type": "display_data",
          "data": {
            "image/png": "[encoded data removed]",
            "text/plain": [
              "<Figure size 432x288 with 1 Axes>"
            ]
          },
          "metadata": {
            "tags": []
          }
        }
      ]
    },
    {
      "metadata": {
        "id": "AAEURhqd-6Y4",
        "colab_type": "text"
      },
      "cell_type": "markdown",
      "source": [
        "**Conclusion:** The observations suggest that the month-to-month fluctuations may not be systematic and hard to model. This monthy view of the data is an interesting family electrical usage and could be pursued further by looking at summary statistics from month-to-month and changes in summary stats from month-to-month. Next, we can start looking at predictive models of the series."
      ]
    },
    {
      "metadata": {
        "id": "d_BJL5T9_tY7",
        "colab_type": "text"
      },
      "cell_type": "markdown",
      "source": [
        "## 4. ARIMA Models\n",
        "We will approach this in four steps:\n",
        "1. Developing a manually configured ARIMA model.\n",
        "2. Using a grid search of ARIMA to find an optimized model.\n",
        "3. Analysis of forecast residual errors to evaluate any bias in the model. \n",
        "4. Explore improvements to the model using power transforms."
      ]
    },
    {
      "metadata": {
        "id": "agPYRsfl_-da",
        "colab_type": "text"
      },
      "cell_type": "markdown",
      "source": [
        "### 4.1 Manually Configured ARIMA\n",
        "Analysis of the time series data assumes that we are working with a stationary time series. The time series is almost certainly non-stationary. We can make it stationary by first differencing the series and using a statistical test to confirm that the result is stationary. The example below creates a stationary version of the series and saves it to file stationary.csv."
      ]
    },
    {
      "metadata": {
        "id": "HFjAaUBM93BL",
        "colab_type": "code",
        "outputId": "f3cd718f-bec7-428c-91d5-12d36da8e5e4",
        "colab": {
          "base_uri": "https://localhost:8080/",
          "height": 119
        }
      },
      "cell_type": "code",
      "source": [
        "# create a differenced time series\n",
        "def difference(dataset):\n",
        "  diff = list()\n",
        "  for i in range(1, len(dataset)):\n",
        "    value = dataset[i] - dataset[i - 1]\n",
        "    diff.append(value)\n",
        "  return Series(diff) \n",
        "X = series.values\n",
        "# difference data\n",
        "stationary = difference(X)\n",
        "stationary.index = series.index[1:]\n",
        "# check if stationary\n",
        "result = adfuller(stationary) \n",
        "print('ADF Statistic: %f' % result[0]) \n",
        "print('p-value: %f' % result[1]) \n",
        "print('Critical Values:')\n",
        "for key, value in result[4].items():\n",
        "  print('\\t%s: %.3f' % (key, value)) # save\n",
        "stationary.to_csv('stationary.csv')"
      ],
      "execution_count": 0,
      "outputs": [
        {
          "output_type": "stream",
          "text": [
            "ADF Statistic: -7.041553\n",
            "p-value: 0.000000\n",
            "Critical Values:\n",
            "\t1%: -3.449\n",
            "\t5%: -2.870\n",
            "\t10%: -2.571\n"
          ],
          "name": "stdout"
        }
      ]
    },
    {
      "metadata": {
        "id": "jiDFL2WfBP9G",
        "colab_type": "text"
      },
      "cell_type": "markdown",
      "source": [
        "**Conclusion:** Running the example outputs the result of a statistical significance test of whether the 1-lag differenced series is stationary. The results show that the test statistic value -8.763759 is smaller than the critical value at 5% of -2.872. This suggests that we can reject the null hypothesis with a significance level of less than 5% (i.e. a low probability that the result is a statistical fluke). Rejecting the null hypothesis means that the process has no unit root, and in turn that the 1-lag differenced time series is stationary or does not have time-dependent structure."
      ]
    },
    {
      "metadata": {
        "id": "CZYVJ5ICEhco",
        "colab_type": "text"
      },
      "cell_type": "markdown",
      "source": [
        "This suggests that at least one level of differencing is required. The d parameter in our ARIMA model should at least be a value of 1. The next step is to select the lag values for the Autoregression (AR) and Moving Average (MA) parameters, p and q respectively. We can do this by reviewing Autocorrelation Function (ACF) and Partial Autocorrelation Function (PACF) plots.\n",
        "\n",
        "\n",
        "\n",
        "\n",
        "\n",
        "\n",
        "\n",
        "\n",
        "\n",
        "\n",
        "\n",
        "\n",
        "\n"
      ]
    },
    {
      "metadata": {
        "id": "4UZrYY0u-hJ4",
        "colab_type": "code",
        "outputId": "2fd946f5-84fb-4e74-cbc9-fd0dfe70be37",
        "colab": {
          "base_uri": "https://localhost:8080/",
          "height": 460
        }
      },
      "cell_type": "code",
      "source": [
        "pyplot.figure(1)\n",
        "pyplot.subplot(211)\n",
        "plot_acf(series, lags=50, ax=pyplot.gca())\n",
        "\n",
        "pyplot.subplots_adjust(left=None, bottom=None, right=None, top=1.5, wspace=None, hspace=0.25)\n",
        "\n",
        "pyplot.figure(1)\n",
        "pyplot.subplot(212)\n",
        "plot_pacf(series, lags=50, ax=pyplot.gca())\n",
        "pyplot.show()"
      ],
      "execution_count": 0,
      "outputs": [
        {
          "output_type": "display_data",
          "data": {
            "image/png": "[encoded data removed]",
            "text/plain": [
              "<Figure size 432x288 with 2 Axes>"
            ]
          },
          "metadata": {
            "tags": []
          }
        }
      ]
    },
    {
      "metadata": {
        "id": "Br3kWJO7IGzZ",
        "colab_type": "text"
      },
      "cell_type": "markdown",
      "source": [
        "**Conclusion:** This quick analysis suggests an ARIMA(15,1,2) on the raw data may be a good starting point. The model can be simplified to ARIMA(0,1,2)."
      ]
    },
    {
      "metadata": {
        "id": "M3F2jhR4FQm8",
        "colab_type": "code",
        "outputId": "889c0f65-d59e-4289-c135-0a6f170735d7",
        "colab": {
          "base_uri": "https://localhost:8080/",
          "height": 3145
        }
      },
      "cell_type": "code",
      "source": [
        "X = series.values\n",
        "X = X.astype('float32')\n",
        "train_size = int(len(X) * 0.50)\n",
        "train, test = X[0:train_size], X[train_size:]\n",
        "# walk-forward validation\n",
        "history = [x for x in train]\n",
        "predictions = list()\n",
        "for i in range(len(test)):\n",
        "  # predict\n",
        "  model = ARIMA(history, order=(0,1,2))\n",
        "  model_fit = model.fit(disp=0)\n",
        "  yhat = model_fit.forecast()[0]\n",
        "  predictions.append(yhat)\n",
        "  # observation\n",
        "  obs = test[i]\n",
        "  history.append(obs)\n",
        "  print('>Predicted=%.3f, Expected=%2.f' % (yhat, obs))\n",
        "# report performance\n",
        "rmse = sqrt(mean_squared_error(test, predictions)) \n",
        "print('RMSE: %.3f' % rmse)"
      ],
      "execution_count": 0,
      "outputs": [
        {
          "output_type": "stream",
          "text": [
            ">Predicted=33.454, Expected=55\n",
            ">Predicted=39.895, Expected=42\n",
            ">Predicted=33.965, Expected=35\n",
            ">Predicted=33.996, Expected=39\n",
            ">Predicted=35.745, Expected=26\n",
            ">Predicted=30.403, Expected=37\n",
            ">Predicted=36.114, Expected=42\n",
            ">Predicted=36.662, Expected=36\n",
            ">Predicted=34.766, Expected=58\n",
            ">Predicted=44.671, Expected=49\n",
            ">Predicted=39.798, Expected=32\n",
            ">Predicted=35.153, Expected=31\n",
            ">Predicted=35.804, Expected=53\n",
            ">Predicted=44.718, Expected=42\n",
            ">Predicted=38.387, Expected=42\n",
            ">Predicted=40.643, Expected=57\n",
            ">Predicted=46.917, Expected=24\n",
            ">Predicted=32.652, Expected=27\n",
            ">Predicted=37.158, Expected=49\n",
            ">Predicted=43.823, Expected=56\n",
            ">Predicted=45.462, Expected=36\n",
            ">Predicted=37.862, Expected=41\n",
            ">Predicted=41.922, Expected=27\n",
            ">Predicted=35.168, Expected=36\n",
            ">Predicted=39.996, Expected=32\n",
            ">Predicted=36.848, Expected=30\n",
            ">Predicted=36.482, Expected=63\n",
            ">Predicted=49.397, Expected=46\n",
            ">Predicted=40.281, Expected=24\n",
            ">Predicted=34.821, Expected=16\n",
            ">Predicted=31.879, Expected=19\n",
            ">Predicted=32.535, Expected=19\n",
            ">Predicted=30.948, Expected=10\n",
            ">Predicted=26.189, Expected=15\n",
            ">Predicted=28.271, Expected=17\n",
            ">Predicted=26.211, Expected=44\n",
            ">Predicted=39.078, Expected=25\n",
            ">Predicted=26.572, Expected=42\n",
            ">Predicted=37.765, Expected=38\n",
            ">Predicted=33.237, Expected=31\n",
            ">Predicted=32.421, Expected=42\n",
            ">Predicted=37.088, Expected=53\n",
            ">Predicted=41.117, Expected=42\n",
            ">Predicted=36.256, Expected=35\n",
            ">Predicted=35.651, Expected=34\n",
            ">Predicted=35.415, Expected=55\n",
            ">Predicted=44.504, Expected=39\n",
            ">Predicted=35.723, Expected=53\n",
            ">Predicted=44.817, Expected=37\n",
            ">Predicted=36.304, Expected=44\n",
            ">Predicted=41.824, Expected=48\n",
            ">Predicted=42.075, Expected=29\n",
            ">Predicted=35.134, Expected=35\n",
            ">Predicted=39.190, Expected=41\n",
            ">Predicted=40.133, Expected=29\n",
            ">Predicted=35.126, Expected=57\n",
            ">Predicted=46.918, Expected=26\n",
            ">Predicted=33.132, Expected=19\n",
            ">Predicted=33.634, Expected=18\n",
            ">Predicted=31.807, Expected=17\n",
            ">Predicted=30.497, Expected=16\n",
            ">Predicted=28.787, Expected=41\n",
            ">Predicted=38.165, Expected=44\n",
            ">Predicted=37.262, Expected=33\n",
            ">Predicted=33.772, Expected=15\n",
            ">Predicted=27.446, Expected=24\n",
            ">Predicted=31.699, Expected=35\n",
            ">Predicted=34.252, Expected=24\n",
            ">Predicted=29.096, Expected=14\n",
            ">Predicted=25.967, Expected=19\n",
            ">Predicted=27.470, Expected=21\n",
            ">Predicted=26.732, Expected=32\n",
            ">Predicted=30.913, Expected=29\n",
            ">Predicted=28.728, Expected=16\n",
            ">Predicted=23.642, Expected=20\n",
            ">Predicted=25.940, Expected=42\n",
            ">Predicted=33.895, Expected=32\n",
            ">Predicted=28.527, Expected=37\n",
            ">Predicted=32.669, Expected=32\n",
            ">Predicted=29.692, Expected=31\n",
            ">Predicted=30.669, Expected=45\n",
            ">Predicted=36.098, Expected=31\n",
            ">Predicted=29.816, Expected=17\n",
            ">Predicted=26.055, Expected= 6\n",
            ">Predicted=21.629, Expected= 6\n",
            ">Predicted=20.976, Expected=12\n",
            ">Predicted=21.693, Expected=16\n",
            ">Predicted=21.975, Expected=23\n",
            ">Predicted=24.302, Expected=22\n",
            ">Predicted=22.772, Expected=31\n",
            ">Predicted=27.244, Expected=23\n",
            ">Predicted=23.007, Expected=27\n",
            ">Predicted=26.247, Expected=18\n",
            ">Predicted=21.192, Expected=20\n",
            ">Predicted=23.418, Expected=20\n",
            ">Predicted=22.035, Expected=19\n",
            ">Predicted=22.022, Expected=18\n",
            ">Predicted=21.172, Expected=30\n",
            ">Predicted=26.280, Expected=27\n",
            ">Predicted=23.899, Expected=25\n",
            ">Predicted=24.215, Expected=31\n",
            ">Predicted=26.700, Expected=11\n",
            ">Predicted=17.939, Expected=12\n",
            ">Predicted=20.359, Expected=25\n",
            ">Predicted=23.941, Expected=13\n",
            ">Predicted=17.665, Expected=19\n",
            ">Predicted=21.596, Expected=14\n",
            ">Predicted=17.822, Expected=28\n",
            ">Predicted=24.595, Expected=20\n",
            ">Predicted=19.817, Expected= 5\n",
            ">Predicted=14.831, Expected= 7\n",
            ">Predicted=15.870, Expected=14\n",
            ">Predicted=17.523, Expected=36\n",
            ">Predicted=26.078, Expected= 6\n",
            ">Predicted=11.980, Expected= 9\n",
            ">Predicted=16.444, Expected= 8\n",
            ">Predicted=13.751, Expected= 7\n",
            ">Predicted=13.309, Expected=10\n",
            ">Predicted=13.733, Expected=34\n",
            ">Predicted=23.678, Expected=16\n",
            ">Predicted=14.163, Expected=17\n",
            ">Predicted=17.719, Expected=12\n",
            ">Predicted=14.423, Expected=27\n",
            ">Predicted=21.472, Expected= 8\n",
            ">Predicted=12.375, Expected=25\n",
            ">Predicted=21.134, Expected=23\n",
            ">Predicted=18.563, Expected=45\n",
            ">Predicted=28.566, Expected=13\n",
            ">Predicted=15.408, Expected=18\n",
            ">Predicted=20.346, Expected=10\n",
            ">Predicted=15.801, Expected=30\n",
            ">Predicted=23.727, Expected=13\n",
            ">Predicted=16.212, Expected=14\n",
            ">Predicted=17.916, Expected=36\n",
            ">Predicted=25.157, Expected=10\n",
            ">Predicted=15.315, Expected=14\n",
            ">Predicted=18.280, Expected= 8\n",
            ">Predicted=15.101, Expected= 8\n",
            ">Predicted=14.862, Expected=19\n",
            ">Predicted=18.329, Expected=20\n",
            ">Predicted=17.940, Expected=25\n",
            ">Predicted=20.105, Expected=12\n",
            ">Predicted=15.217, Expected=11\n",
            ">Predicted=15.677, Expected=19\n",
            ">Predicted=17.859, Expected=27\n",
            ">Predicted=20.496, Expected= 4\n",
            ">Predicted=12.204, Expected= 4\n",
            ">Predicted=13.199, Expected= 4\n",
            ">Predicted=11.786, Expected= 5\n",
            ">Predicted=11.440, Expected=13\n",
            ">Predicted=13.754, Expected=12\n",
            ">Predicted=12.577, Expected=14\n",
            ">Predicted=13.659, Expected=16\n",
            ">Predicted=14.223, Expected=12\n",
            ">Predicted=12.893, Expected=16\n",
            ">Predicted=14.501, Expected=10\n",
            ">Predicted=11.952, Expected=27\n",
            ">Predicted=18.500, Expected=20\n",
            ">Predicted=15.496, Expected=18\n",
            ">Predicted=16.081, Expected=15\n",
            ">Predicted=15.061, Expected=30\n",
            ">Predicted=20.643, Expected=21\n",
            ">Predicted=17.132, Expected=26\n",
            ">Predicted=20.150, Expected=18\n",
            ">Predicted=17.141, Expected= 8\n",
            ">Predicted=14.498, Expected=13\n",
            ">Predicted=16.202, Expected=14\n",
            ">Predicted=15.548, Expected=22\n",
            ">Predicted=18.570, Expected=25\n",
            ">Predicted=19.340, Expected=40\n",
            ">Predicted=25.586, Expected= 8\n",
            ">Predicted=13.969, Expected= 9\n",
            ">Predicted=16.440, Expected=10\n",
            ">Predicted=15.277, Expected=17\n",
            ">Predicted=17.438, Expected=12\n",
            ">Predicted=15.029, Expected=26\n",
            ">Predicted=20.165, Expected=32\n",
            ">Predicted=21.931, Expected=10\n",
            ">Predicted=14.861, Expected=18\n",
            ">Predicted=18.714, Expected=23\n",
            ">Predicted=19.446, Expected=15\n",
            ">Predicted=16.697, Expected=32\n",
            ">Predicted=23.360, Expected= 1\n",
            "RMSE: 10.716\n"
          ],
          "name": "stdout"
        }
      ]
    },
    {
      "metadata": {
        "id": "2lGVQF8RJDnv",
        "colab_type": "text"
      },
      "cell_type": "markdown",
      "source": [
        "**Conclusion:** Running this example results in an RMSE of 10.716, which is lower than the persistence model. This is a good start, but we may be able to get improved results with a better configured ARIMA model."
      ]
    },
    {
      "metadata": {
        "id": "XE1ndMvRJ1Lz",
        "colab_type": "text"
      },
      "cell_type": "markdown",
      "source": [
        "### 4.2 Grid Search ARIMA Hyperparameters\n",
        "\n",
        "\n",
        "*   p: 0 to 4.\n",
        "*   d: 0 to 2.\n",
        "*   q: 0 to 4.\n",
        "\n",
        "\n",
        "\n",
        "\n"
      ]
    },
    {
      "metadata": {
        "id": "edGF8HMuIx7g",
        "colab_type": "code",
        "outputId": "7a72d230-0e0b-44f2-ec9f-0b9024a9e993",
        "colab": {
          "base_uri": "https://localhost:8080/",
          "height": 561
        }
      },
      "cell_type": "code",
      "source": [
        "# evaluate an ARIMA model for a given order (p,d,q) and return RMSE\n",
        "def evaluate_arima_model(X, arima_order): \n",
        "  # prepare training dataset\n",
        "  X = X.astype('float32')\n",
        "  train_size = int(len(X) * 0.50)\n",
        "  train, test = X[0:train_size], X[train_size:]\n",
        "  history = [x for x in train]\n",
        "  # make predictions\n",
        "  predictions = list()\n",
        "  for t in range(len(test)):\n",
        "    model = ARIMA(history, order=arima_order)\n",
        "    model_fit = model.fit(disp=0)\n",
        "    yhat = model_fit.forecast()[0]\n",
        "    predictions.append(yhat)\n",
        "    history.append(test[t])\n",
        "  # calculate out of sample error\n",
        "  rmse = sqrt(mean_squared_error(test, predictions))\n",
        "  return rmse\n",
        "\n",
        "# evaluate combinations of p, d and q values for an ARIMA model\n",
        "def evaluate_models(dataset, p_values, d_values, q_values): \n",
        "  dataset = dataset.astype('float32')\n",
        "  best_score, best_cfg = float(\"inf\"), None\n",
        "  for p in p_values:\n",
        "      for d in d_values:\n",
        "        for q in q_values:\n",
        "          order = (p,d,q)\n",
        "          try:\n",
        "            rmse = evaluate_arima_model(dataset, order)\n",
        "            if rmse < best_score:\n",
        "              best_score, best_cfg = rmse, order \n",
        "            print('ARIMA%s RMSE=%.3f' % (order,rmse))\n",
        "          except:\n",
        "            continue\n",
        "  print('Best ARIMA%s RMSE=%.3f' % (best_cfg, best_score))\n",
        "  \n",
        "# evaluate parameters\n",
        "p_values = range(0, 5)\n",
        "d_values = range(0, 3)\n",
        "q_values = range(0, 5)\n",
        "warnings.filterwarnings(\"ignore\")\n",
        "evaluate_models(series.values, p_values, d_values, q_values)"
      ],
      "execution_count": 0,
      "outputs": [
        {
          "output_type": "stream",
          "text": [
            "ARIMA(0, 0, 0) RMSE=14.152\n",
            "ARIMA(0, 0, 1) RMSE=12.419\n",
            "ARIMA(0, 0, 2) RMSE=12.048\n",
            "ARIMA(0, 0, 3) RMSE=11.863\n",
            "ARIMA(0, 0, 4) RMSE=11.638\n",
            "ARIMA(0, 1, 0) RMSE=12.727\n",
            "ARIMA(0, 1, 1) RMSE=10.901\n",
            "ARIMA(0, 1, 2) RMSE=10.716\n",
            "ARIMA(0, 2, 0) RMSE=20.992\n",
            "ARIMA(0, 2, 1) RMSE=12.783\n",
            "ARIMA(1, 0, 0) RMSE=11.531\n",
            "ARIMA(1, 1, 0) RMSE=11.826\n",
            "ARIMA(1, 1, 1) RMSE=10.651\n",
            "ARIMA(1, 1, 2) RMSE=10.794\n",
            "ARIMA(1, 1, 3) RMSE=10.902\n",
            "ARIMA(1, 2, 0) RMSE=16.742\n",
            "ARIMA(2, 0, 0) RMSE=11.427\n",
            "ARIMA(2, 1, 0) RMSE=11.648\n",
            "ARIMA(2, 1, 1) RMSE=10.802\n",
            "ARIMA(2, 1, 2) RMSE=10.842\n",
            "ARIMA(2, 1, 3) RMSE=10.974\n",
            "ARIMA(2, 2, 0) RMSE=15.477\n",
            "ARIMA(3, 0, 0) RMSE=11.294\n",
            "ARIMA(3, 1, 0) RMSE=11.326\n",
            "ARIMA(3, 1, 1) RMSE=10.840\n",
            "ARIMA(3, 1, 2) RMSE=10.894\n",
            "ARIMA(3, 2, 0) RMSE=14.266\n",
            "ARIMA(4, 0, 0) RMSE=11.165\n",
            "ARIMA(4, 1, 0) RMSE=11.250\n",
            "ARIMA(4, 1, 1) RMSE=10.920\n",
            "ARIMA(4, 2, 0) RMSE=13.876\n",
            "Best ARIMA(1, 1, 1) RMSE=10.651\n"
          ],
          "name": "stdout"
        }
      ]
    },
    {
      "metadata": {
        "id": "lY7Svr8_RSIB",
        "colab_type": "text"
      },
      "cell_type": "markdown",
      "source": [
        "**Conclusion:** The results show that the best configuration discovered was ARIMA(1,1,1) with lowest RMSE = 10.651."
      ]
    },
    {
      "metadata": {
        "id": "mHeyyEjOMf1s",
        "colab_type": "text"
      },
      "cell_type": "markdown",
      "source": [
        "### 4.3 Review Residual Errors\n",
        "A good final check of a model is to review residual forecast errors. Ideally, the distribution of residual errors should be a Gaussian with a zero mean. We can check this by plotting the residuals with a histogram and density plots."
      ]
    },
    {
      "metadata": {
        "id": "vDGP0C74Mhr0",
        "colab_type": "code",
        "outputId": "03fc41e8-78f8-40a6-d8ee-64a3ab41ab24",
        "colab": {
          "base_uri": "https://localhost:8080/",
          "height": 281
        }
      },
      "cell_type": "code",
      "source": [
        "X = series.values\n",
        "X = X.astype('float32')\n",
        "train_size = int(len(X) * 0.50)\n",
        "train, test = X[0:train_size], X[train_size:]\n",
        "# walk-forward validation\n",
        "history = [x for x in train]\n",
        "predictions = list()\n",
        "for i in range(len(test)):\n",
        "  # predict\n",
        "  model = ARIMA(history, order=(1,1,1))\n",
        "  model_fit = model.fit(disp=0)\n",
        "  yhat = model_fit.forecast()[0]\n",
        "  predictions.append(yhat)\n",
        "  # observation\n",
        "  obs = test[i]\n",
        "  history.append(obs)\n",
        "# errors\n",
        "residuals = [test[i]-predictions[i] for i in range(len(test))]\n",
        "residuals = DataFrame(residuals)\n",
        "pyplot.figure()\n",
        "pyplot.subplot(211)\n",
        "residuals.hist(ax=pyplot.gca()) \n",
        "pyplot.subplot(212) \n",
        "residuals.plot(kind='kde', ax=pyplot.gca()) \n",
        "pyplot.show()"
      ],
      "execution_count": 0,
      "outputs": [
        {
          "output_type": "display_data",
          "data": {
            "image/png": "[encoded data removed]",
            "text/plain": [
              "<Figure size 432x288 with 2 Axes>"
            ]
          },
          "metadata": {
            "tags": []
          }
        }
      ]
    },
    {
      "metadata": {
        "id": "7lPeu-5xQwkI",
        "colab_type": "text"
      },
      "cell_type": "markdown",
      "source": [
        "**Conclusion:** The graphs suggest a Gaussian-like distribution with a longer right tail. This is perhaps a sign that the predictions are biased, and in this case that perhaps a power-based transform of the raw data before modeling might be useful."
      ]
    },
    {
      "metadata": {
        "id": "zXO3C7dEQdgn",
        "colab_type": "code",
        "outputId": "76e9e26c-247e-423f-f187-53e153fda6bc",
        "colab": {
          "base_uri": "https://localhost:8080/",
          "height": 460
        }
      },
      "cell_type": "code",
      "source": [
        "# prepare data\n",
        "X = series.values\n",
        "X = X.astype('float32')\n",
        "train_size = int(len(X) * 0.50)\n",
        "train, test = X[0:train_size], X[train_size:]\n",
        "# walk-forward validation\n",
        "history = [x for x in train]\n",
        "predictions = list()\n",
        "for i in range(len(test)):\n",
        "  # predict\n",
        "  model = ARIMA(history, order=(1,1,1))\n",
        "  model_fit = model.fit(disp=0)\n",
        "  yhat = model_fit.forecast()[0]\n",
        "  predictions.append(yhat)\n",
        "  # observation\n",
        "  obs = test[i]\n",
        "  history.append(obs)\n",
        "# errors\n",
        "residuals = [test[i]-predictions[i] for i in range(len(test))]\n",
        "residuals = DataFrame(residuals)\n",
        "pyplot.figure()\n",
        "pyplot.subplot(211)\n",
        "plot_acf(residuals, lags=25, ax=pyplot.gca())\n",
        "\n",
        "pyplot.subplots_adjust(left=None, bottom=None, right=None, top=1.5, wspace=None, hspace=0.25)\n",
        "\n",
        "pyplot.subplot(212)\n",
        "plot_pacf(residuals, lags=25, ax=pyplot.gca())\n",
        "pyplot.show()"
      ],
      "execution_count": 0,
      "outputs": [
        {
          "output_type": "display_data",
          "data": {
            "image/png": "[encoded data removed]",
            "text/plain": [
              "<Figure size 432x288 with 2 Axes>"
            ]
          },
          "metadata": {
            "tags": []
          }
        }
      ]
    },
    {
      "metadata": {
        "id": "0jiV9vnjRrWb",
        "colab_type": "text"
      },
      "cell_type": "markdown",
      "source": [
        "**Conclusion:** The results suggest that what little autocorrelation is present in the time series has been captured by the model."
      ]
    },
    {
      "metadata": {
        "id": "R5XRyPIER29Y",
        "colab_type": "text"
      },
      "cell_type": "markdown",
      "source": [
        "### 4.4 Box-Cox Transformed Dataset\n",
        "The Box-Cox transform is a method that is able to evaluate a suite of power transforms, including, but not limited to, log, square root, and reciprocal transforms of the data."
      ]
    },
    {
      "metadata": {
        "id": "sQttutqRQgnC",
        "colab_type": "code",
        "outputId": "f0779c5c-9a4d-4566-a0a8-19d31a034a63",
        "colab": {
          "base_uri": "https://localhost:8080/",
          "height": 622
        }
      },
      "cell_type": "code",
      "source": [
        "X = series.values\n",
        "transformed, lam = boxcox(X)\n",
        "print('Lambda: %f' % lam)\n",
        "pyplot.subplots_adjust(left=None, bottom=None, right=None, top=2, wspace=None, hspace=0.25)\n",
        "pyplot.figure(1)\n",
        "# line plot\n",
        "pyplot.subplot(311)\n",
        "pyplot.plot(transformed)\n",
        "# histogram\n",
        "pyplot.subplot(312)\n",
        "pyplot.hist(transformed)\n",
        "# q-q plot\n",
        "pyplot.subplot(313)\n",
        "qqplot(transformed, line='r', ax=pyplot.gca()) \n",
        "pyplot.show()                                "
      ],
      "execution_count": 0,
      "outputs": [
        {
          "output_type": "stream",
          "text": [
            "Lambda: 0.310415\n"
          ],
          "name": "stdout"
        },
        {
          "output_type": "display_data",
          "data": {
            "image/png": "[encoded data removed]",
            "text/plain": [
              "<Figure size 432x288 with 3 Axes>"
            ]
          },
          "metadata": {
            "tags": []
          }
        }
      ]
    },
    {
      "metadata": {
        "id": "ZqHYn_IeSePO",
        "colab_type": "text"
      },
      "cell_type": "markdown",
      "source": [
        "**Conclusion:** Running the example creates three graphs: a line chart of the transformed time series, a histogram showing the distribution of transformed values, and a Q-Q plot showing how the distribution of values compared to an idealized Gaussian distribution. Some observations from these plots are follows:\n",
        "\n",
        "\n",
        "*   The large fluctuations have been removed from the line plot of the time series.\n",
        "*   he histogram shows a flatter or more uniform (well behaved) distribution of values.\n",
        "*   The Q-Q plot is reasonable, but still not a perfect fit for a Gaussian distribution.\n",
        "\n",
        "\n",
        "\n"
      ]
    },
    {
      "metadata": {
        "id": "fSiZPJlHTKnJ",
        "colab_type": "text"
      },
      "cell_type": "markdown",
      "source": [
        "The boxcox() function used in the example finds an ideal lambda value by optimizing a cost function. "
      ]
    },
    {
      "metadata": {
        "id": "Ks727vvESvuF",
        "colab_type": "code",
        "outputId": "57b9b8ca-ecb2-498f-f7c0-a1389dd91683",
        "colab": {
          "base_uri": "https://localhost:8080/",
          "height": 3145
        }
      },
      "cell_type": "code",
      "source": [
        "# invert box-cox transform\n",
        "def boxcox_inverse(value, lam):\n",
        "  if lam == 0:\n",
        "    return exp(value)\n",
        "  return exp(log(lam * value + 1) / lam)\n",
        "# prepare data\n",
        "X = series.values\n",
        "X = X.astype('float32')\n",
        "train_size = int(len(X) * 0.50)\n",
        "train, test = X[0:train_size], X[train_size:]\n",
        "# walk-forward validation\n",
        "history = [x for x in train]\n",
        "predictions = list()\n",
        "for i in range(len(test)):\n",
        "  # transform\n",
        "  transformed, lam = boxcox(history)\n",
        "  if lam < -5:\n",
        "    transformed, lam = history, 1\n",
        "  # predict\n",
        "  model = ARIMA(transformed, order=(1,1,1))\n",
        "  model_fit = model.fit(disp=0)\n",
        "  yhat = model_fit.forecast()[0]\n",
        "  # invert transformed prediction\n",
        "  yhat = boxcox_inverse(yhat, lam) \n",
        "  predictions.append(yhat)\n",
        "  # observation\n",
        "  obs = test[i]\n",
        "  history.append(obs)\n",
        "  print('>Predicted=%.3f, Expected=%2.f' % (yhat, obs))\n",
        "# report performance\n",
        "rmse = sqrt(mean_squared_error(test, predictions)) \n",
        "print('RMSE: %.3f' % rmse)\n",
        "                                  "
      ],
      "execution_count": 0,
      "outputs": [
        {
          "output_type": "stream",
          "text": [
            ">Predicted=31.314, Expected=55\n",
            ">Predicted=34.426, Expected=42\n",
            ">Predicted=32.600, Expected=35\n",
            ">Predicted=31.459, Expected=39\n",
            ">Predicted=32.835, Expected=26\n",
            ">Predicted=29.460, Expected=37\n",
            ">Predicted=32.692, Expected=42\n",
            ">Predicted=34.477, Expected=36\n",
            ">Predicted=33.449, Expected=58\n",
            ">Predicted=39.251, Expected=49\n",
            ">Predicted=38.505, Expected=32\n",
            ">Predicted=34.199, Expected=31\n",
            ">Predicted=33.752, Expected=53\n",
            ">Predicted=40.145, Expected=42\n",
            ">Predicted=38.160, Expected=42\n",
            ">Predicted=38.424, Expected=57\n",
            ">Predicted=42.999, Expected=24\n",
            ">Predicted=33.372, Expected=27\n",
            ">Predicted=33.985, Expected=49\n",
            ">Predicted=40.523, Expected=56\n",
            ">Predicted=42.994, Expected=36\n",
            ">Predicted=38.286, Expected=41\n",
            ">Predicted=39.653, Expected=27\n",
            ">Predicted=35.132, Expected=36\n",
            ">Predicted=37.761, Expected=32\n",
            ">Predicted=36.580, Expected=30\n",
            ">Predicted=35.548, Expected=63\n",
            ">Predicted=44.518, Expected=46\n",
            ">Predicted=41.466, Expected=24\n",
            ">Predicted=34.453, Expected=16\n",
            ">Predicted=29.439, Expected=19\n",
            ">Predicted=29.791, Expected=19\n",
            ">Predicted=28.916, Expected=10\n",
            ">Predicted=22.635, Expected=15\n",
            ">Predicted=24.700, Expected=17\n",
            ">Predicted=24.538, Expected=44\n",
            ">Predicted=34.412, Expected=25\n",
            ">Predicted=28.321, Expected=42\n",
            ">Predicted=34.063, Expected=38\n",
            ">Predicted=33.445, Expected=31\n",
            ">Predicted=31.559, Expected=42\n",
            ">Predicted=35.028, Expected=53\n",
            ">Predicted=38.788, Expected=42\n",
            ">Predicted=36.367, Expected=35\n",
            ">Predicted=34.563, Expected=34\n",
            ">Predicted=34.302, Expected=55\n",
            ">Predicted=40.904, Expected=39\n",
            ">Predicted=36.797, Expected=53\n",
            ">Predicted=41.457, Expected=37\n",
            ">Predicted=37.007, Expected=44\n",
            ">Predicted=39.471, Expected=48\n",
            ">Predicted=41.072, Expected=29\n",
            ">Predicted=34.901, Expected=35\n",
            ">Predicted=36.982, Expected=41\n",
            ">Predicted=39.141, Expected=29\n",
            ">Predicted=34.812, Expected=57\n",
            ">Predicted=43.660, Expected=26\n",
            ">Predicted=33.836, Expected=19\n",
            ">Predicted=30.157, Expected=18\n",
            ">Predicted=29.050, Expected=17\n",
            ">Predicted=27.525, Expected=16\n",
            ">Predicted=25.828, Expected=41\n",
            ">Predicted=35.697, Expected=44\n",
            ">Predicted=37.298, Expected=33\n",
            ">Predicted=33.825, Expected=15\n",
            ">Predicted=25.552, Expected=24\n",
            ">Predicted=29.200, Expected=35\n",
            ">Predicted=33.300, Expected=24\n",
            ">Predicted=29.188, Expected=14\n",
            ">Predicted=24.021, Expected=19\n",
            ">Predicted=25.674, Expected=21\n",
            ">Predicted=26.047, Expected=32\n",
            ">Predicted=30.044, Expected=29\n",
            ">Predicted=29.259, Expected=16\n",
            ">Predicted=23.282, Expected=20\n",
            ">Predicted=24.685, Expected=42\n",
            ">Predicted=32.208, Expected=32\n",
            ">Predicted=29.803, Expected=37\n",
            ">Predicted=31.693, Expected=32\n",
            ">Predicted=30.213, Expected=31\n",
            ">Predicted=30.194, Expected=45\n",
            ">Predicted=34.784, Expected=31\n",
            ">Predicted=30.872, Expected=17\n",
            ">Predicted=24.937, Expected= 6\n",
            ">Predicted=17.311, Expected= 6\n",
            ">Predicted=15.498, Expected=12\n",
            ">Predicted=18.332, Expected=16\n",
            ">Predicted=19.990, Expected=23\n",
            ">Predicted=22.971, Expected=22\n",
            ">Predicted=22.384, Expected=31\n",
            ">Predicted=26.042, Expected=23\n",
            ">Predicted=23.454, Expected=27\n",
            ">Predicted=25.171, Expected=18\n",
            ">Predicted=21.221, Expected=20\n",
            ">Predicted=22.073, Expected=20\n",
            ">Predicted=21.642, Expected=19\n",
            ">Predicted=21.349, Expected=18\n",
            ">Predicted=20.671, Expected=30\n",
            ">Predicted=25.289, Expected=27\n",
            ">Predicted=24.548, Expected=25\n",
            ">Predicted=23.989, Expected=31\n",
            ">Predicted=26.235, Expected=11\n",
            ">Predicted=17.725, Expected=12\n",
            ">Predicted=17.822, Expected=25\n",
            ">Predicted=22.906, Expected=13\n",
            ">Predicted=17.610, Expected=19\n",
            ">Predicted=20.060, Expected=14\n",
            ">Predicted=17.610, Expected=28\n",
            ">Predicted=23.128, Expected=20\n",
            ">Predicted=20.695, Expected= 5\n",
            ">Predicted=12.607, Expected= 7\n",
            ">Predicted=12.977, Expected=14\n",
            ">Predicted=16.233, Expected=36\n",
            ">Predicted=23.840, Expected= 6\n",
            ">Predicted=12.223, Expected= 9\n",
            ">Predicted=13.109, Expected= 8\n",
            ">Predicted=12.221, Expected= 7\n",
            ">Predicted=11.164, Expected=10\n",
            ">Predicted=12.160, Expected=34\n",
            ">Predicted=20.444, Expected=16\n",
            ">Predicted=15.226, Expected=17\n",
            ">Predicted=15.847, Expected=12\n",
            ">Predicted=13.788, Expected=27\n",
            ">Predicted=19.143, Expected= 8\n",
            ">Predicted=12.297, Expected=25\n",
            ">Predicted=18.313, Expected=23\n",
            ">Predicted=18.294, Expected=45\n",
            ">Predicted=24.714, Expected=13\n",
            ">Predicted=15.781, Expected=18\n",
            ">Predicted=17.498, Expected=10\n",
            ">Predicted=14.185, Expected=30\n",
            ">Predicted=20.833, Expected=13\n",
            ">Predicted=15.641, Expected=14\n",
            ">Predicted=15.699, Expected=36\n",
            ">Predicted=22.354, Expected=10\n",
            ">Predicted=14.701, Expected=14\n",
            ">Predicted=15.733, Expected= 8\n",
            ">Predicted=13.177, Expected= 8\n",
            ">Predicted=12.429, Expected=19\n",
            ">Predicted=16.592, Expected=20\n",
            ">Predicted=17.087, Expected=25\n",
            ">Predicted=18.792, Expected=12\n",
            ">Predicted=14.493, Expected=11\n",
            ">Predicted=13.886, Expected=19\n",
            ">Predicted=16.578, Expected=27\n",
            ">Predicted=19.236, Expected= 4\n",
            ">Predicted=10.337, Expected= 4\n",
            ">Predicted=9.544, Expected= 4\n",
            ">Predicted=8.895, Expected= 5\n",
            ">Predicted=8.859, Expected=13\n",
            ">Predicted=12.144, Expected=12\n",
            ">Predicted=11.703, Expected=14\n",
            ">Predicted=12.590, Expected=16\n",
            ">Predicted=13.421, Expected=12\n",
            ">Predicted=12.265, Expected=16\n",
            ">Predicted=13.554, Expected=10\n",
            ">Predicted=11.367, Expected=27\n",
            ">Predicted=16.603, Expected=20\n",
            ">Predicted=15.427, Expected=18\n",
            ">Predicted=15.136, Expected=15\n",
            ">Predicted=14.290, Expected=30\n",
            ">Predicted=18.768, Expected=21\n",
            ">Predicted=16.883, Expected=26\n",
            ">Predicted=18.619, Expected=18\n",
            ">Predicted=16.440, Expected= 8\n",
            ">Predicted=12.495, Expected=13\n",
            ">Predicted=14.391, Expected=14\n",
            ">Predicted=14.437, Expected=22\n",
            ">Predicted=17.340, Expected=25\n",
            ">Predicted=18.596, Expected=40\n",
            ">Predicted=23.345, Expected= 8\n",
            ">Predicted=13.013, Expected= 9\n",
            ">Predicted=13.180, Expected=10\n",
            ">Predicted=13.258, Expected=17\n",
            ">Predicted=15.786, Expected=12\n",
            ">Predicted=13.896, Expected=26\n",
            ">Predicted=18.423, Expected=32\n",
            ">Predicted=20.749, Expected=10\n",
            ">Predicted=13.949, Expected=18\n",
            ">Predicted=16.635, Expected=23\n",
            ">Predicted=18.354, Expected=15\n",
            ">Predicted=15.749, Expected=32\n",
            ">Predicted=21.199, Expected= 1\n",
            "RMSE: 10.476\n"
          ],
          "name": "stdout"
        }
      ]
    },
    {
      "metadata": {
        "id": "3mJyrcTnUlrZ",
        "colab_type": "text"
      },
      "cell_type": "markdown",
      "source": [
        "**Conclusion:** The final RMSE of the model on the transformed data was 10.476. This is a smaller error than the ARIMA model on untransformed data, but only slightly, and it may or may not be statistically different."
      ]
    },
    {
      "metadata": {
        "id": "TTSxvyUpU55B",
        "colab_type": "text"
      },
      "cell_type": "markdown",
      "source": [
        "## 5. Model Validation\n",
        "\n",
        "\n",
        "*   **Finalize Model:** Train and save the final model.\n",
        "*   **Make Prediction:** Load the finalized model and make a prediction.\n",
        "*   **Validate Model:** Load and validate the final model.\n",
        "\n",
        "\n"
      ]
    },
    {
      "metadata": {
        "id": "LH2g2bazVRW4",
        "colab_type": "text"
      },
      "cell_type": "markdown",
      "source": [
        "### 5.1 Finalize Model\n",
        "The code below fits an ARIMA(1,1,1) model on the Box-Cox transform dataset and saves the whole fit object and the lambda value to file."
      ]
    },
    {
      "metadata": {
        "id": "ToXmk0WyUrk-",
        "colab_type": "code",
        "outputId": "9608e066-5164-430b-8339-14524abc6241",
        "colab": {
          "base_uri": "https://localhost:8080/",
          "height": 51
        }
      },
      "cell_type": "code",
      "source": [
        "# monkey patch around bug in ARIMA class\n",
        "def __getnewargs__(self):\n",
        "  return ((self.endog),(self.k_lags, self.k_diff, self.k_ma))\n",
        "ARIMA.__getnewargs__ = __getnewargs__\n",
        "\n",
        "# prepare data\n",
        "X = series.values\n",
        "X = X.astype('float32')\n",
        "# transform data\n",
        "transformed, lam = boxcox(X)\n",
        "# fit model\n",
        "model = ARIMA(transformed, order=(1,1,1)) \n",
        "model_fit = model.fit(disp=0)\n",
        "# save model\n",
        "model_fit.save('model.pkl') \n",
        "numpy.save('model_lambda.npy', [lam])\n",
        "!ls"
      ],
      "execution_count": 0,
      "outputs": [
        {
          "output_type": "stream",
          "text": [
            "adc.json     model_lambda.npy  sample_data     timeseries.csv\n",
            "dataset.csv  model.pkl\t       stationary.csv  validation.csv\n"
          ],
          "name": "stdout"
        }
      ]
    },
    {
      "metadata": {
        "id": "m2aS_DwDWD25",
        "colab_type": "text"
      },
      "cell_type": "markdown",
      "source": [
        "Conclusion: \n",
        "*   model.pkl This is the ARIMAResult object from the call to ARIMA.fit(). This includes the coefficients and all other internal data returned when fitting the model.\n",
        "*   model lambda.npy This is the lambda value stored as a one-row, one-column NumPy\n",
        "array.\n",
        "\n"
      ]
    },
    {
      "metadata": {
        "id": "vsSmdoYYWaQv",
        "colab_type": "text"
      },
      "cell_type": "markdown",
      "source": [
        "### 5.2 Make Prediction"
      ]
    },
    {
      "metadata": {
        "id": "3RBVGemVVs4j",
        "colab_type": "code",
        "outputId": "b6c55b44-819e-4507-b0b9-7949188d5370",
        "colab": {
          "base_uri": "https://localhost:8080/",
          "height": 286
        }
      },
      "cell_type": "code",
      "source": [
        "X = series.values\n",
        "X = X.astype('float32')\n",
        "size = len(X) - 1\n",
        "train, test = X[0:size], X[size:]\n",
        "# invert box-cox transform\n",
        "def boxcox_inverse(value, lam):\n",
        "  if lam == 0:\n",
        "    return exp(value)\n",
        "  return exp(log(lam * value + 1) / lam)\n",
        "model_fit = ARIMAResults.load('model.pkl') \n",
        "lam = numpy.load('model_lambda.npy')\n",
        "yhat = model_fit.forecast()[0]\n",
        "yhat = boxcox_inverse(yhat, lam) \n",
        "print('Predicted: %.3f' % yhat)\n",
        "\n",
        "model_fit.plot_predict(len(train)-50, \n",
        "                       len(train)+5) \n",
        "pyplot.legend(loc='upper left')\n",
        "pyplot.show()"
      ],
      "execution_count": 0,
      "outputs": [
        {
          "output_type": "stream",
          "text": [
            "Predicted: 7.576\n"
          ],
          "name": "stdout"
        },
        {
          "output_type": "display_data",
          "data": {
            "image/png": "[encoded data removed]",
            "text/plain": [
              "<Figure size 432x288 with 1 Axes>"
            ]
          },
          "metadata": {
            "tags": []
          }
        }
      ]
    },
    {
      "metadata": {
        "id": "CtBA9UYW4CXR",
        "colab_type": "text"
      },
      "cell_type": "markdown",
      "source": [
        "**Conclucion:** The plot predict() function will plot the observed y values if the prediction interval covers the training data. In this case, we predict the previous 50 days and the next 5 day. This is useful to see the prediction carry on from in sample to out of sample time indexes. This is contracted with the actual observations from the last 50 days. Finally, we can see the confidence interval as a gray cone around the predicted value. This is useful to get a spatial feeling for the range of possible values that an observation in the next time step may take."
      ]
    },
    {
      "metadata": {
        "id": "LpiG6B0t46Ej",
        "colab_type": "text"
      },
      "cell_type": "markdown",
      "source": [
        "### 5.3 Validate Model"
      ]
    },
    {
      "metadata": {
        "id": "F4LGrcMngjAy",
        "colab_type": "code",
        "outputId": "fd38645e-8630-4319-be08-9897225193af",
        "colab": {
          "base_uri": "https://localhost:8080/",
          "height": 1442
        }
      },
      "cell_type": "code",
      "source": [
        "# load and prepare datasets\n",
        "dataset = read_csv('dataset.csv', header=None, index_col=0, parse_dates=True, squeeze=True) \n",
        "X = dataset.values.astype('float32')\n",
        "history = [x for x in X]\n",
        "validation = read_csv('validation.csv', header=None, index_col=0, parse_dates=True, squeeze=True)\n",
        "y = validation.values.astype('float32')\n",
        "# load model\n",
        "model_fit = ARIMAResults.load('model.pkl')\n",
        "lam = numpy.load('model_lambda.npy')\n",
        "# make first prediction\n",
        "predictions = list()\n",
        "yhat = model_fit.forecast()[0]\n",
        "yhat = boxcox_inverse(yhat, lam) \n",
        "predictions.append(yhat)\n",
        "history.append(y[0])\n",
        "print('>Predicted=%.3f, Expected=%3.f' % (yhat, y[0])) # rolling forecasts\n",
        "for i in range(1, len(y)):\n",
        "  # transform\n",
        "  transformed, lam = boxcox(history)\n",
        "  if lam < -5:\n",
        "    transformed, lam = history, 1\n",
        "  # predict\n",
        "  model = ARIMA(transformed, order=(0,1,2))\n",
        "  model_fit = model.fit(disp=0)\n",
        "  yhat = model_fit.forecast()[0]\n",
        "  # invert transformed prediction\n",
        "  yhat = boxcox_inverse(yhat, lam)\n",
        "  predictions.append(yhat)\n",
        "  # observation\n",
        "  obs = y[i]\n",
        "  history.append(obs)\n",
        "  print('>Predicted=%.3f, Expected=%2.f' % (yhat, obs))\n",
        "# report performance\n",
        "rmse = sqrt(mean_squared_error(y, predictions)) \n",
        "print('RMSE: %.3f' % rmse)\n",
        "pyplot.plot(y)\n",
        "pyplot.plot(predictions, color='red') \n",
        "pyplot.show()"
      ],
      "execution_count": 0,
      "outputs": [
        {
          "output_type": "stream",
          "text": [
            ">Predicted=7.576, Expected=  8\n",
            ">Predicted=11.702, Expected= 7\n",
            ">Predicted=11.422, Expected=10\n",
            ">Predicted=12.476, Expected=34\n",
            ">Predicted=21.819, Expected=16\n",
            ">Predicted=12.948, Expected=17\n",
            ">Predicted=16.556, Expected=12\n",
            ">Predicted=12.942, Expected=27\n",
            ">Predicted=20.448, Expected= 8\n",
            ">Predicted=10.659, Expected=25\n",
            ">Predicted=20.473, Expected=23\n",
            ">Predicted=16.803, Expected=45\n",
            ">Predicted=25.156, Expected=13\n",
            ">Predicted=13.868, Expected=18\n",
            ">Predicted=18.750, Expected=10\n",
            ">Predicted=13.602, Expected=30\n",
            ">Predicted=22.328, Expected=13\n",
            ">Predicted=14.394, Expected=14\n",
            ">Predicted=16.428, Expected=36\n",
            ">Predicted=22.922, Expected=10\n",
            ">Predicted=13.412, Expected=14\n",
            ">Predicted=16.798, Expected= 8\n",
            ">Predicted=12.930, Expected= 8\n",
            ">Predicted=12.958, Expected=19\n",
            ">Predicted=17.299, Expected=20\n",
            ">Predicted=16.497, Expected=25\n",
            ">Predicted=18.668, Expected=12\n",
            ">Predicted=13.768, Expected=11\n",
            ">Predicted=14.325, Expected=19\n",
            ">Predicted=16.955, Expected=27\n",
            ">Predicted=19.013, Expected= 4\n",
            ">Predicted=9.427, Expected= 4\n",
            ">Predicted=10.580, Expected= 4\n",
            ">Predicted=9.195, Expected= 5\n",
            ">Predicted=9.284, Expected=13\n",
            ">Predicted=12.601, Expected=12\n",
            ">Predicted=11.099, Expected=14\n",
            ">Predicted=12.515, Expected=16\n",
            ">Predicted=13.008, Expected=12\n",
            ">Predicted=11.801, Expected=16\n",
            ">Predicted=13.556, Expected=10\n",
            ">Predicted=10.852, Expected=27\n",
            ">Predicted=17.229, Expected=20\n",
            ">Predicted=14.172, Expected=18\n",
            ">Predicted=14.966, Expected=15\n",
            ">Predicted=13.966, Expected=30\n",
            ">Predicted=19.033, Expected=21\n",
            ">Predicted=15.828, Expected=26\n",
            ">Predicted=18.761, Expected=18\n",
            ">Predicted=15.873, Expected= 8\n",
            ">Predicted=12.571, Expected=13\n",
            ">Predicted=15.339, Expected=14\n",
            ">Predicted=14.402, Expected=22\n",
            ">Predicted=17.713, Expected=25\n",
            ">Predicted=18.092, Expected=40\n",
            ">Predicted=23.107, Expected= 8\n",
            ">Predicted=11.919, Expected= 9\n",
            ">Predicted=14.579, Expected=10\n",
            ">Predicted=13.545, Expected=17\n",
            ">Predicted=16.372, Expected=12\n",
            ">Predicted=13.572, Expected=26\n",
            ">Predicted=19.084, Expected=32\n",
            ">Predicted=19.813, Expected=10\n",
            ">Predicted=13.197, Expected=18\n",
            ">Predicted=17.736, Expected=23\n",
            ">Predicted=18.050, Expected=15\n",
            ">Predicted=15.427, Expected=32\n",
            ">Predicted=21.976, Expected= 1\n",
            "RMSE: 9.898\n"
          ],
          "name": "stdout"
        },
        {
          "output_type": "display_data",
          "data": {
            "image/png": "[encoded data removed]",
            "text/plain": [
              "<Figure size 432x288 with 1 Axes>"
            ]
          },
          "metadata": {
            "tags": []
          }
        }
      ]
    },
    {
      "metadata": {
        "id": "cakmfJxb69CZ",
        "colab_type": "text"
      },
      "cell_type": "markdown",
      "source": [
        "**Conclusion:** A plot of the predictions compared to the validation dataset is also provided. The forecast does have the characteristic of a persistence forecast. This does suggest that although this time series does have an obvious trend, it is still a reasonably difficult problem."
      ]
    },
    {
      "metadata": {
        "id": "_oQ0CrUugyX-",
        "colab_type": "code",
        "colab": {}
      },
      "cell_type": "code",
      "source": [
        ""
      ],
      "execution_count": 0,
      "outputs": []
    }
  ]
}