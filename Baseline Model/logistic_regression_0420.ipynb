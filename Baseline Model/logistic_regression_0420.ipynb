{
 "cells": [
  {
   "cell_type": "code",
   "execution_count": 164,
   "metadata": {},
   "outputs": [],
   "source": [
    "# data analysis and wrangling\n",
    "import pandas as pd\n",
    "import numpy as np\n",
    "import random as rnd\n",
    "\n",
    "# visualization\n",
    "import seaborn as sns\n",
    "import matplotlib.pyplot as plt\n",
    "from sklearn.metrics import roc_auc_score\n",
    "from sklearn.metrics import roc_curve\n",
    "%matplotlib inline\n",
    "\n",
    "# machine learning\n",
    "from sklearn.linear_model import LogisticRegression\n",
    "from sklearn.model_selection import GridSearchCV\n",
    "from sklearn import metrics\n",
    "from sklearn.model_selection import train_test_split\n",
    "from sklearn.metrics import classification_report\n",
    "\n",
    "#warnings\n",
    "import warnings\n",
    "warnings.filterwarnings('ignore')"
   ]
  },
  {
   "cell_type": "code",
   "execution_count": 165,
   "metadata": {},
   "outputs": [],
   "source": [
    "def split_data(data):\n",
    "    #define X, y\n",
    "    X = data.drop(['label'], axis=1).values\n",
    "    y = data['label'].values\n",
    "    #split into train and test to avoid overfitting\n",
    "    X_train, X_test, y_train, y_test = train_test_split(X, y, test_size=0.3,random_state=42)\n",
    "    return X_train, X_test, y_train, y_test"
   ]
  },
  {
   "cell_type": "code",
   "execution_count": 166,
   "metadata": {},
   "outputs": [],
   "source": [
    "def lr_model(X_train, y_train):\n",
    "    '''\n",
    "    logistic regression model\n",
    "    input: X_train, y_train\n",
    "    output: logistic regression model\n",
    "    '''\n",
    "    lr = LogisticRegression(C=0.01)\n",
    "    lr.fit(X_train, y_train)\n",
    "    return lr"
   ]
  },
  {
   "cell_type": "code",
   "execution_count": 167,
   "metadata": {},
   "outputs": [],
   "source": [
    "def report(y_test, y_pred):\n",
    "    print(classification_report(y_test, y_pred))"
   ]
  },
  {
   "cell_type": "code",
   "execution_count": 168,
   "metadata": {},
   "outputs": [],
   "source": [
    "def plot_confusion_matrix(y_test, y_pred,normalize=False):\n",
    "    '''\n",
    "    plot confusion matrix\n",
    "    input: y_test,y_pred\n",
    "    output: confusion matrix plot\n",
    "    '''\n",
    "    cnf_matrix=metrics.confusion_matrix(y_test,y_pred)\n",
    "    if normalize:\n",
    "        cnf_matrix = cnf_matrix.astype('float') / cnf_matrix.sum(axis=1)[:, np.newaxis]\n",
    "    class_names=[0,1] # name  of classes\n",
    "    fig, ax = plt.subplots()\n",
    "    tick_marks = np.arange(len(class_names))\n",
    "    plt.xticks(tick_marks, class_names)\n",
    "    plt.yticks(tick_marks, class_names)\n",
    "    # create heatmap\n",
    "    sns.heatmap(pd.DataFrame(cnf_matrix), annot=True, cmap=\"YlGnBu\" ,fmt='g')\n",
    "    ax.xaxis.set_label_position(\"top\")\n",
    "    plt.tight_layout()\n",
    "    plt.title('lr confusion matrix', y=1.1)\n",
    "    #plt.ylabel('Actual label')\n",
    "    #plt.xlabel('Predicted label')\n",
    "    plt.show()\n",
    "    plt.savefig('lr_confusion_matrix.png')  "
   ]
  },
  {
   "cell_type": "code",
   "execution_count": 169,
   "metadata": {},
   "outputs": [],
   "source": [
    "def plot_roc_auc(X_test,y_test, y_pred):\n",
    "    logit_roc_auc = roc_auc_score(y_test, y_pred)\n",
    "    fpr, tpr, thresholds = roc_curve(y_test, lr.predict_proba(X_test)[:,1])\n",
    "    plt.figure()\n",
    "    plt.plot(fpr, tpr, label='Logistic Regression (area = %0.2f)' % logit_roc_auc)\n",
    "    plt.plot([0, 1], [0, 1],'r--')\n",
    "    #plt.xlabel(\"False Positive Rate\")\n",
    "    #plt.ylabel(\"True Positive Rate\")\n",
    "    plt.title('LR Receiver operating characteristic')\n",
    "    plt.legend(loc=\"lower right\")\n",
    "    plt.savefig('Lr_ROC.png')\n",
    "    plt.show()"
   ]
  },
  {
   "cell_type": "code",
   "execution_count": 170,
   "metadata": {},
   "outputs": [],
   "source": [
    "def grid_search(param,X_train, y_train):\n",
    "    '''\n",
    "    grid search for random forest\n",
    "    with 5-fold cross validation\n",
    "    '''\n",
    "    lr_model = GridSearchCV(estimator=LogisticRegression(),\n",
    "                            param_grid = param, \n",
    "                            scoring='roc_auc',\n",
    "                            cv=5)\n",
    "    lr_model.fit(X_train, y_train)\n",
    "    print(lr_model.best_params_)\n",
    "    print(lr_model.best_score_)  \n",
    "    return lr_model"
   ]
  },
  {
   "cell_type": "code",
   "execution_count": 171,
   "metadata": {},
   "outputs": [
    {
     "name": "stdout",
     "output_type": "stream",
     "text": [
      "              precision    recall  f1-score   support\n",
      "\n",
      "           0       0.75      0.77      0.76     99362\n",
      "           1       0.77      0.74      0.76     99719\n",
      "\n",
      "   micro avg       0.76      0.76      0.76    199081\n",
      "   macro avg       0.76      0.76      0.76    199081\n",
      "weighted avg       0.76      0.76      0.76    199081\n",
      "\n"
     ]
    },
    {
     "data": {
      "image/png": "[encoded data removed]",
      "text/plain": [
       "<Figure size 432x288 with 2 Axes>"
      ]
     },
     "metadata": {},
     "output_type": "display_data"
    },
    {
     "data": {
      "text/plain": [
       "<Figure size 432x288 with 0 Axes>"
      ]
     },
     "metadata": {},
     "output_type": "display_data"
    },
    {
     "data": {
      "image/png": "[encoded data removed]",
      "text/plain": [
       "<Figure size 432x288 with 1 Axes>"
      ]
     },
     "metadata": {},
     "output_type": "display_data"
    }
   ],
   "source": [
    "if __name__ == '__main__':\n",
    "    data=pd.read_csv('./data/data_final.csv', index_col =0)\n",
    "    X_train, X_test, y_train, y_test = split_data(data)\n",
    "    #param = {'penalty':['l1','l2'],'C':[0.1,1,10]}\n",
    "    #grid_lr = grid_search(param,X_train, y_train)\n",
    "    lr = lr_model(X_train, y_train)\n",
    "    y_pred = lr.predict(X_test)\n",
    "    report(y_test, y_pred)\n",
    "    plot_confusion_matrix(y_test, y_pred,normalize=False)\n",
    "    plot_roc_auc(X_test,y_test, y_pred)"
   ]
  },
  {
   "cell_type": "code",
   "execution_count": null,
   "metadata": {},
   "outputs": [],
   "source": []
  },
  {
   "cell_type": "code",
   "execution_count": null,
   "metadata": {},
   "outputs": [],
   "source": []
  },
  {
   "cell_type": "code",
   "execution_count": null,
   "metadata": {},
   "outputs": [],
   "source": []
  }
 ],
 "metadata": {
  "kernelspec": {
   "display_name": "Python 3",
   "language": "python",
   "name": "python3"
  },
  "language_info": {
   "codemirror_mode": {
    "name": "ipython",
    "version": 3
   },
   "file_extension": ".py",
   "mimetype": "text/x-python",
   "name": "python",
   "nbconvert_exporter": "python",
   "pygments_lexer": "ipython3",
   "version": "3.6.5"
  }
 },
 "nbformat": 4,
 "nbformat_minor": 2
}
